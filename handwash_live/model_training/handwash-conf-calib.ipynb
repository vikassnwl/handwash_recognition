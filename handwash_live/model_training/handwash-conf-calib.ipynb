{
 "cells": [
  {
   "cell_type": "code",
   "execution_count": 24,
   "metadata": {
    "execution": {
     "iopub.execute_input": "2025-01-18T12:29:30.787461Z",
     "iopub.status.busy": "2025-01-18T12:29:30.787138Z",
     "iopub.status.idle": "2025-01-18T12:29:34.403510Z",
     "shell.execute_reply": "2025-01-18T12:29:34.402364Z",
     "shell.execute_reply.started": "2025-01-18T12:29:30.787431Z"
    },
    "trusted": true
   },
   "outputs": [
    {
     "name": "stdout",
     "output_type": "stream",
     "text": [
      "\n",
      "\u001b[1m[\u001b[0m\u001b[34;49mnotice\u001b[0m\u001b[1;39;49m]\u001b[0m\u001b[39;49m A new release of pip is available: \u001b[0m\u001b[31;49m23.0.1\u001b[0m\u001b[39;49m -> \u001b[0m\u001b[32;49m25.0\u001b[0m\n",
      "\u001b[1m[\u001b[0m\u001b[34;49mnotice\u001b[0m\u001b[1;39;49m]\u001b[0m\u001b[39;49m To update, run: \u001b[0m\u001b[32;49mpip install --upgrade pip\u001b[0m\n",
      "\n",
      "\u001b[1m[\u001b[0m\u001b[34;49mnotice\u001b[0m\u001b[1;39;49m]\u001b[0m\u001b[39;49m A new release of pip is available: \u001b[0m\u001b[31;49m23.0.1\u001b[0m\u001b[39;49m -> \u001b[0m\u001b[32;49m25.0\u001b[0m\n",
      "\u001b[1m[\u001b[0m\u001b[34;49mnotice\u001b[0m\u001b[1;39;49m]\u001b[0m\u001b[39;49m To update, run: \u001b[0m\u001b[32;49mpip install --upgrade pip\u001b[0m\n",
      "\n",
      "\u001b[1m[\u001b[0m\u001b[34;49mnotice\u001b[0m\u001b[1;39;49m]\u001b[0m\u001b[39;49m A new release of pip is available: \u001b[0m\u001b[31;49m23.0.1\u001b[0m\u001b[39;49m -> \u001b[0m\u001b[32;49m25.0\u001b[0m\n",
      "\u001b[1m[\u001b[0m\u001b[34;49mnotice\u001b[0m\u001b[1;39;49m]\u001b[0m\u001b[39;49m To update, run: \u001b[0m\u001b[32;49mpip install --upgrade pip\u001b[0m\n"
     ]
    }
   ],
   "source": [
    "!pip install mlu_tools -U > /dev/null\n",
    "!pip install scikit-learn > /dev/null\n",
    "!pip install seaborn > /dev/null"
   ]
  },
  {
   "cell_type": "code",
   "execution_count": 2,
   "metadata": {
    "execution": {
     "iopub.execute_input": "2025-01-18T12:29:38.274242Z",
     "iopub.status.busy": "2025-01-18T12:29:38.273932Z",
     "iopub.status.idle": "2025-01-18T12:29:38.280468Z",
     "shell.execute_reply": "2025-01-18T12:29:38.279534Z",
     "shell.execute_reply.started": "2025-01-18T12:29:38.274220Z"
    },
    "trusted": true
   },
   "outputs": [
    {
     "name": "stderr",
     "output_type": "stream",
     "text": [
      "2025-02-01 10:14:11.336639: I tensorflow/core/platform/cpu_feature_guard.cc:210] This TensorFlow binary is optimized to use available CPU instructions in performance-critical operations.\n",
      "To enable the following instructions: AVX2 FMA, in other operations, rebuild TensorFlow with the appropriate compiler flags.\n",
      "2025-02-01 10:14:13.222052: W tensorflow/compiler/tf2tensorrt/utils/py_utils.cc:38] TF-TRT Warning: Could not find TensorRT\n"
     ]
    }
   ],
   "source": [
    "import tensorflow as tf\n",
    "import mlu_tools.utils as mlutils\n",
    "from mlu_tools.preprocessing import vids2frames\n",
    "import os\n",
    "import numpy as np\n",
    "import cv2\n",
    "from sklearn.calibration import calibration_curve\n",
    "import matplotlib.pyplot as plt\n",
    "from mlu_tools.plotting import grid_plot\n",
    "from mlu_tools.keras.custom_callbacks import CustomModelCheckpoint"
   ]
  },
  {
   "cell_type": "code",
   "execution_count": 3,
   "metadata": {
    "execution": {
     "iopub.execute_input": "2025-01-18T12:30:43.922050Z",
     "iopub.status.busy": "2025-01-18T12:30:43.921639Z",
     "iopub.status.idle": "2025-01-18T12:30:51.397380Z",
     "shell.execute_reply": "2025-01-18T12:30:51.396526Z",
     "shell.execute_reply.started": "2025-01-18T12:30:43.922017Z"
    },
    "trusted": true
   },
   "outputs": [
    {
     "name": "stderr",
     "output_type": "stream",
     "text": [
      "100%|██████████| 389M/389M [02:43<00:00, 2.38MiB/s] \n"
     ]
    },
    {
     "name": "stdout",
     "output_type": "stream",
     "text": [
      "File downloaded: dataset/dataset_merged2.zip\n"
     ]
    }
   ],
   "source": [
    "dataset_url = \"https://mega.nz/file/X34STSDJ#mkki1noK8jJcYeR8zPMiRG7S5uNQXM9eHuFS3W_gp10\"\n",
    "dataset_path = \"dataset/dataset_merged2.zip\"\n",
    "mlutils.download(dataset_url, dataset_path, download_from=\"mega\")"
   ]
  },
  {
   "cell_type": "code",
   "execution_count": 4,
   "metadata": {
    "execution": {
     "iopub.execute_input": "2025-01-18T12:30:51.398865Z",
     "iopub.status.busy": "2025-01-18T12:30:51.398607Z",
     "iopub.status.idle": "2025-01-18T12:30:52.197108Z",
     "shell.execute_reply": "2025-01-18T12:30:52.196271Z",
     "shell.execute_reply.started": "2025-01-18T12:30:51.398843Z"
    },
    "trusted": true
   },
   "outputs": [
    {
     "name": "stdout",
     "output_type": "stream",
     "text": [
      "Archive unpacked to dataset/dataset_merged2\n"
     ]
    }
   ],
   "source": [
    "extracted_dataset_path = mlutils.unpack_archive(dataset_path)"
   ]
  },
  {
   "cell_type": "code",
   "execution_count": 5,
   "metadata": {
    "execution": {
     "iopub.execute_input": "2025-01-18T12:30:54.981957Z",
     "iopub.status.busy": "2025-01-18T12:30:54.981635Z",
     "iopub.status.idle": "2025-01-18T12:32:28.736416Z",
     "shell.execute_reply": "2025-01-18T12:32:28.735439Z",
     "shell.execute_reply.started": "2025-01-18T12:30:54.981926Z"
    },
    "trusted": true
   },
   "outputs": [
    {
     "name": "stderr",
     "output_type": "stream",
     "text": [
      "100%|██████████| 129/129 [00:39<00:00,  3.27it/s]\n"
     ]
    }
   ],
   "source": [
    "vids_dir = f\"{extracted_dataset_path}/videos\"\n",
    "frames_dir = f\"{extracted_dataset_path}/frames\"\n",
    "vids2frames(vids_dir, frames_dir)"
   ]
  },
  {
   "cell_type": "code",
   "execution_count": 6,
   "metadata": {
    "execution": {
     "iopub.execute_input": "2025-01-18T12:40:59.985053Z",
     "iopub.status.busy": "2025-01-18T12:40:59.984659Z",
     "iopub.status.idle": "2025-01-18T12:40:59.989208Z",
     "shell.execute_reply": "2025-01-18T12:40:59.988209Z",
     "shell.execute_reply.started": "2025-01-18T12:40:59.985020Z"
    },
    "trusted": true
   },
   "outputs": [],
   "source": [
    "train_data_dir = f\"{extracted_dataset_path}/frames/train\"\n",
    "val_data_dir = f\"{extracted_dataset_path}/frames/val\"\n",
    "test_data_dir = f\"{extracted_dataset_path}/frames/test\""
   ]
  },
  {
   "cell_type": "code",
   "execution_count": 7,
   "metadata": {
    "execution": {
     "iopub.execute_input": "2025-01-18T12:41:05.084064Z",
     "iopub.status.busy": "2025-01-18T12:41:05.083725Z",
     "iopub.status.idle": "2025-01-18T12:41:05.096538Z",
     "shell.execute_reply": "2025-01-18T12:41:05.095727Z",
     "shell.execute_reply.started": "2025-01-18T12:41:05.084034Z"
    },
    "trusted": true
   },
   "outputs": [],
   "source": [
    "# calculating weights_dict\n",
    "train_subdir_file_cnts = []\n",
    "for i in range(3):\n",
    "    train_subdir_file_cnts.append(len(os.listdir(f\"{train_data_dir}/{i}\")))\n",
    "train_subdir_file_cnts = np.array(train_subdir_file_cnts)\n",
    "\n",
    "weights_dict = dict(enumerate(train_subdir_file_cnts.mean()/train_subdir_file_cnts))"
   ]
  },
  {
   "cell_type": "code",
   "execution_count": 8,
   "metadata": {
    "execution": {
     "iopub.execute_input": "2025-01-18T12:41:07.153782Z",
     "iopub.status.busy": "2025-01-18T12:41:07.153509Z",
     "iopub.status.idle": "2025-01-18T12:41:07.159348Z",
     "shell.execute_reply": "2025-01-18T12:41:07.158513Z",
     "shell.execute_reply.started": "2025-01-18T12:41:07.153759Z"
    },
    "trusted": true
   },
   "outputs": [
    {
     "data": {
      "text/plain": [
       "array([3921, 5663, 5425])"
      ]
     },
     "execution_count": 8,
     "metadata": {},
     "output_type": "execute_result"
    }
   ],
   "source": [
    "train_subdir_file_cnts"
   ]
  },
  {
   "cell_type": "code",
   "execution_count": 9,
   "metadata": {
    "execution": {
     "iopub.execute_input": "2025-01-18T12:41:09.171628Z",
     "iopub.status.busy": "2025-01-18T12:41:09.171304Z",
     "iopub.status.idle": "2025-01-18T12:41:09.175395Z",
     "shell.execute_reply": "2025-01-18T12:41:09.174636Z",
     "shell.execute_reply.started": "2025-01-18T12:41:09.171595Z"
    },
    "trusted": true
   },
   "outputs": [],
   "source": [
    "from mlu_tools.preprocessing import perform_undersampling, perform_oversampling"
   ]
  },
  {
   "cell_type": "code",
   "execution_count": 11,
   "metadata": {
    "execution": {
     "iopub.execute_input": "2025-01-18T12:41:12.114708Z",
     "iopub.status.busy": "2025-01-18T12:41:12.114427Z",
     "iopub.status.idle": "2025-01-18T12:48:44.693277Z",
     "shell.execute_reply": "2025-01-18T12:48:44.691391Z",
     "shell.execute_reply.started": "2025-01-18T12:41:12.114686Z"
    },
    "trusted": true
   },
   "outputs": [
    {
     "name": "stdout",
     "output_type": "stream",
     "text": [
      "Found 5425 validated image filenames.\n"
     ]
    },
    {
     "name": "stderr",
     "output_type": "stream",
     "text": [
      "[ WARN:0@460.086] global loadsave.cpp:848 imwrite_ Unsupported depth image for selected encoder is fallbacked to CV_8U.\n"
     ]
    },
    {
     "name": "stdout",
     "output_type": "stream",
     "text": [
      "Found 5663 validated image filenames.\n",
      "Found 3921 validated image filenames.\n",
      "Found 2968 validated image filenames.\n",
      "Found 3312 validated image filenames.\n",
      "Found 3070 validated image filenames.\n",
      "Found 2684 validated image filenames.\n",
      "Found 3961 validated image filenames.\n",
      "Found 2144 validated image filenames.\n"
     ]
    }
   ],
   "source": [
    "perform_oversampling(train_data_dir, target_size=(480, 640))\n",
    "perform_oversampling(val_data_dir, target_size=(480, 640))\n",
    "perform_oversampling(test_data_dir, target_size=(480, 640))"
   ]
  },
  {
   "cell_type": "code",
   "execution_count": 12,
   "metadata": {
    "execution": {
     "iopub.execute_input": "2025-01-18T12:49:00.829906Z",
     "iopub.status.busy": "2025-01-18T12:49:00.829587Z",
     "iopub.status.idle": "2025-01-18T12:49:00.894005Z",
     "shell.execute_reply": "2025-01-18T12:49:00.893094Z",
     "shell.execute_reply.started": "2025-01-18T12:49:00.829856Z"
    },
    "trusted": true
   },
   "outputs": [
    {
     "name": "stdout",
     "output_type": "stream",
     "text": [
      "└── frames\n",
      "    ├── test\n",
      "    │   ├── 0 - 2144\n",
      "    │   ├── 1 - 3961\n",
      "    │   └── 2 - 2684\n",
      "    ├── test_oversampled\n",
      "    │   ├── 0 - 3961\n",
      "    │   ├── 1 - 3961\n",
      "    │   └── 2 - 3961\n",
      "    ├── train\n",
      "    │   ├── 0 - 3921\n",
      "    │   ├── 1 - 5663\n",
      "    │   └── 2 - 5425\n",
      "    ├── train_oversampled\n",
      "    │   ├── 0 - 5663\n",
      "    │   ├── 1 - 5663\n",
      "    │   └── 2 - 5663\n",
      "    ├── val\n",
      "    │   ├── 0 - 3070\n",
      "    │   ├── 1 - 3312\n",
      "    │   └── 2 - 2968\n",
      "    └── val_oversampled\n",
      "        ├── 0 - 3312\n",
      "        ├── 1 - 3312\n",
      "        └── 2 - 3312\n"
     ]
    }
   ],
   "source": [
    "mlutils.tree(frames_dir)"
   ]
  },
  {
   "cell_type": "code",
   "execution_count": 13,
   "metadata": {
    "execution": {
     "iopub.execute_input": "2025-01-18T12:49:13.900154Z",
     "iopub.status.busy": "2025-01-18T12:49:13.899648Z",
     "iopub.status.idle": "2025-01-18T12:49:13.904842Z",
     "shell.execute_reply": "2025-01-18T12:49:13.903799Z",
     "shell.execute_reply.started": "2025-01-18T12:49:13.900108Z"
    },
    "trusted": true
   },
   "outputs": [],
   "source": [
    "train_data_dir_oversampled = f\"{extracted_dataset_path}/frames/train_oversampled\"\n",
    "val_data_dir_oversampled = f\"{extracted_dataset_path}/frames/val_oversampled\"\n",
    "test_data_dir_oversampled = f\"{extracted_dataset_path}/frames/test_oversampled\""
   ]
  },
  {
   "cell_type": "code",
   "execution_count": 14,
   "metadata": {
    "execution": {
     "iopub.execute_input": "2025-01-18T12:49:23.534376Z",
     "iopub.status.busy": "2025-01-18T12:49:23.534057Z",
     "iopub.status.idle": "2025-01-18T12:49:25.877623Z",
     "shell.execute_reply": "2025-01-18T12:49:25.876769Z",
     "shell.execute_reply.started": "2025-01-18T12:49:23.534349Z"
    },
    "trusted": true
   },
   "outputs": [
    {
     "name": "stdout",
     "output_type": "stream",
     "text": [
      "Found 16989 files belonging to 3 classes.\n"
     ]
    },
    {
     "name": "stderr",
     "output_type": "stream",
     "text": [
      "2025-02-01 10:28:29.542421: I external/local_xla/xla/stream_executor/cuda/cuda_executor.cc:998] successful NUMA node read from SysFS had negative value (-1), but there must be at least one NUMA node, so returning NUMA node zero. See more at https://github.com/torvalds/linux/blob/v6.0/Documentation/ABI/testing/sysfs-bus-pci#L344-L355\n",
      "2025-02-01 10:28:29.707601: I external/local_xla/xla/stream_executor/cuda/cuda_executor.cc:998] successful NUMA node read from SysFS had negative value (-1), but there must be at least one NUMA node, so returning NUMA node zero. See more at https://github.com/torvalds/linux/blob/v6.0/Documentation/ABI/testing/sysfs-bus-pci#L344-L355\n",
      "2025-02-01 10:28:29.709467: I external/local_xla/xla/stream_executor/cuda/cuda_executor.cc:998] successful NUMA node read from SysFS had negative value (-1), but there must be at least one NUMA node, so returning NUMA node zero. See more at https://github.com/torvalds/linux/blob/v6.0/Documentation/ABI/testing/sysfs-bus-pci#L344-L355\n",
      "2025-02-01 10:28:29.721676: I external/local_xla/xla/stream_executor/cuda/cuda_executor.cc:998] successful NUMA node read from SysFS had negative value (-1), but there must be at least one NUMA node, so returning NUMA node zero. See more at https://github.com/torvalds/linux/blob/v6.0/Documentation/ABI/testing/sysfs-bus-pci#L344-L355\n",
      "2025-02-01 10:28:29.723493: I external/local_xla/xla/stream_executor/cuda/cuda_executor.cc:998] successful NUMA node read from SysFS had negative value (-1), but there must be at least one NUMA node, so returning NUMA node zero. See more at https://github.com/torvalds/linux/blob/v6.0/Documentation/ABI/testing/sysfs-bus-pci#L344-L355\n",
      "2025-02-01 10:28:29.725570: I external/local_xla/xla/stream_executor/cuda/cuda_executor.cc:998] successful NUMA node read from SysFS had negative value (-1), but there must be at least one NUMA node, so returning NUMA node zero. See more at https://github.com/torvalds/linux/blob/v6.0/Documentation/ABI/testing/sysfs-bus-pci#L344-L355\n",
      "2025-02-01 10:28:29.930366: I external/local_xla/xla/stream_executor/cuda/cuda_executor.cc:998] successful NUMA node read from SysFS had negative value (-1), but there must be at least one NUMA node, so returning NUMA node zero. See more at https://github.com/torvalds/linux/blob/v6.0/Documentation/ABI/testing/sysfs-bus-pci#L344-L355\n",
      "2025-02-01 10:28:29.932794: I external/local_xla/xla/stream_executor/cuda/cuda_executor.cc:998] successful NUMA node read from SysFS had negative value (-1), but there must be at least one NUMA node, so returning NUMA node zero. See more at https://github.com/torvalds/linux/blob/v6.0/Documentation/ABI/testing/sysfs-bus-pci#L344-L355\n",
      "2025-02-01 10:28:29.934286: I external/local_xla/xla/stream_executor/cuda/cuda_executor.cc:998] successful NUMA node read from SysFS had negative value (-1), but there must be at least one NUMA node, so returning NUMA node zero. See more at https://github.com/torvalds/linux/blob/v6.0/Documentation/ABI/testing/sysfs-bus-pci#L344-L355\n",
      "2025-02-01 10:28:29.936086: I tensorflow/core/common_runtime/gpu/gpu_device.cc:1928] Created device /job:localhost/replica:0/task:0/device:GPU:0 with 2179 MB memory:  -> device: 0, name: NVIDIA GeForce RTX 3050 Laptop GPU, pci bus id: 0000:01:00.0, compute capability: 8.6\n"
     ]
    },
    {
     "name": "stdout",
     "output_type": "stream",
     "text": [
      "Found 9936 files belonging to 3 classes.\n",
      "Found 11883 files belonging to 3 classes.\n"
     ]
    }
   ],
   "source": [
    "train_ds = tf.keras.preprocessing.image_dataset_from_directory(\n",
    "    train_data_dir_oversampled, \n",
    "    image_size=(480, 640), \n",
    "    label_mode=\"categorical\",\n",
    "    seed=42\n",
    ")\n",
    "val_ds = tf.keras.preprocessing.image_dataset_from_directory(\n",
    "    val_data_dir_oversampled, \n",
    "    image_size=(480, 640), \n",
    "    label_mode=\"categorical\",\n",
    "    shuffle=False\n",
    ")\n",
    "test_ds = tf.keras.preprocessing.image_dataset_from_directory(\n",
    "    test_data_dir_oversampled, \n",
    "    image_size=(480, 640), \n",
    "    label_mode=\"categorical\",\n",
    "    shuffle=False\n",
    ")"
   ]
  },
  {
   "cell_type": "code",
   "execution_count": 15,
   "metadata": {
    "execution": {
     "iopub.execute_input": "2025-01-18T12:50:39.284353Z",
     "iopub.status.busy": "2025-01-18T12:50:39.284025Z",
     "iopub.status.idle": "2025-01-18T12:50:39.466490Z",
     "shell.execute_reply": "2025-01-18T12:50:39.465813Z",
     "shell.execute_reply.started": "2025-01-18T12:50:39.284323Z"
    },
    "trusted": true
   },
   "outputs": [],
   "source": [
    "train_ds = train_ds.map(lambda X, y: (tf.keras.layers.Resizing(224, 224, crop_to_aspect_ratio=True)(X), y),\n",
    "                       num_parallel_calls=tf.data.AUTOTUNE)\n",
    "train_ds = train_ds.prefetch(buffer_size=tf.data.AUTOTUNE)\n",
    "val_ds = val_ds.map(lambda X, y: (tf.keras.layers.Resizing(224, 224, crop_to_aspect_ratio=True)(X), y),\n",
    "                   num_parallel_calls=tf.data.AUTOTUNE)\n",
    "val_ds = val_ds.prefetch(buffer_size=tf.data.AUTOTUNE)\n",
    "test_ds = test_ds.map(lambda X, y: (tf.keras.layers.Resizing(224, 224, crop_to_aspect_ratio=True)(X), y),\n",
    "                     num_parallel_calls=tf.data.AUTOTUNE)\n",
    "test_ds = test_ds.prefetch(buffer_size=tf.data.AUTOTUNE)"
   ]
  },
  {
   "cell_type": "code",
   "execution_count": 16,
   "metadata": {
    "execution": {
     "iopub.execute_input": "2025-01-18T12:50:41.954548Z",
     "iopub.status.busy": "2025-01-18T12:50:41.954260Z",
     "iopub.status.idle": "2025-01-18T12:50:41.958122Z",
     "shell.execute_reply": "2025-01-18T12:50:41.957246Z",
     "shell.execute_reply.started": "2025-01-18T12:50:41.954525Z"
    },
    "trusted": true
   },
   "outputs": [],
   "source": [
    "# train_ds = tf.keras.preprocessing.image_dataset_from_directory(\n",
    "#     train_data_dir, \n",
    "#     image_size=(240, 320), \n",
    "#     label_mode=\"categorical\",\n",
    "#     seed=42\n",
    "# )\n",
    "# val_ds = tf.keras.preprocessing.image_dataset_from_directory(\n",
    "#     val_data_dir, \n",
    "#     image_size=(240, 320), \n",
    "#     label_mode=\"categorical\",\n",
    "#     shuffle=False\n",
    "# )\n",
    "# test_ds = tf.keras.preprocessing.image_dataset_from_directory(\n",
    "#     test_data_dir, \n",
    "#     image_size=(240, 320), \n",
    "#     label_mode=\"categorical\",\n",
    "#     shuffle=False\n",
    "# )"
   ]
  },
  {
   "cell_type": "code",
   "execution_count": 17,
   "metadata": {
    "execution": {
     "iopub.execute_input": "2025-01-18T12:50:56.025677Z",
     "iopub.status.busy": "2025-01-18T12:50:56.025394Z",
     "iopub.status.idle": "2025-01-18T12:56:15.675696Z",
     "shell.execute_reply": "2025-01-18T12:56:15.674825Z",
     "shell.execute_reply.started": "2025-01-18T12:50:56.025655Z"
    },
    "trusted": true
   },
   "outputs": [
    {
     "name": "stdout",
     "output_type": "stream",
     "text": [
      "Downloading data from https://storage.googleapis.com/tensorflow/keras-applications/mobilenet_v3/weights_mobilenet_v3_small_224_1.0_float_no_top_v2.h5\n",
      "\u001b[1m4334752/4334752\u001b[0m \u001b[32m━━━━━━━━━━━━━━━━━━━━\u001b[0m\u001b[37m\u001b[0m \u001b[1m1s\u001b[0m 0us/step\n",
      "Epoch 1/50\n"
     ]
    },
    {
     "name": "stderr",
     "output_type": "stream",
     "text": [
      "WARNING: All log messages before absl::InitializeLog() is called are written to STDERR\n",
      "I0000 00:00:1738386030.456049   36472 service.cc:145] XLA service 0x7617cc030de0 initialized for platform CUDA (this does not guarantee that XLA will be used). Devices:\n",
      "I0000 00:00:1738386030.459417   36472 service.cc:153]   StreamExecutor device (0): NVIDIA GeForce RTX 3050 Laptop GPU, Compute Capability 8.6\n",
      "2025-02-01 10:30:31.801332: I tensorflow/compiler/mlir/tensorflow/utils/dump_mlir_util.cc:268] disabling MLIR crash reproducer, set env var `MLIR_CRASH_REPRODUCER_DIRECTORY` to enable.\n",
      "2025-02-01 10:30:32.728127: I external/local_xla/xla/stream_executor/cuda/cuda_dnn.cc:465] Loaded cuDNN version 8907\n",
      "WARNING: All log messages before absl::InitializeLog() is called are written to STDERR\n",
      "I0000 00:00:1738386033.641914   36647 asm_compiler.cc:369] ptxas warning : Registers are spilled to local memory in function 'triton_gemm_dot_5357', 176 bytes spill stores, 176 bytes spill loads\n",
      "\n",
      "I0000 00:00:1738386033.866669   36643 asm_compiler.cc:369] ptxas warning : Registers are spilled to local memory in function 'triton_gemm_dot_5357', 380 bytes spill stores, 380 bytes spill loads\n",
      "\n"
     ]
    },
    {
     "name": "stdout",
     "output_type": "stream",
     "text": [
      "\u001b[1m  4/531\u001b[0m \u001b[37m━━━━━━━━━━━━━━━━━━━━\u001b[0m \u001b[1m26s\u001b[0m 50ms/step - accuracy: 0.1406 - loss: 1.6658 "
     ]
    },
    {
     "name": "stderr",
     "output_type": "stream",
     "text": [
      "I0000 00:00:1738386040.332974   36472 device_compiler.h:188] Compiled cluster using XLA!  This line is logged at most once for the lifetime of the process.\n"
     ]
    },
    {
     "name": "stdout",
     "output_type": "stream",
     "text": [
      "\u001b[1m528/531\u001b[0m \u001b[32m━━━━━━━━━━━━━━━━━━━\u001b[0m\u001b[37m━\u001b[0m \u001b[1m0s\u001b[0m 61ms/step - accuracy: 0.7809 - loss: 0.5823"
     ]
    },
    {
     "name": "stderr",
     "output_type": "stream",
     "text": [
      "I0000 00:00:1738386073.785745   36706 asm_compiler.cc:369] ptxas warning : Registers are spilled to local memory in function 'triton_gemm_dot_5357', 260 bytes spill stores, 260 bytes spill loads\n",
      "\n",
      "I0000 00:00:1738386073.864044   36707 asm_compiler.cc:369] ptxas warning : Registers are spilled to local memory in function 'triton_gemm_dot_5357', 404 bytes spill stores, 404 bytes spill loads\n",
      "\n"
     ]
    },
    {
     "name": "stdout",
     "output_type": "stream",
     "text": [
      "\u001b[1m531/531\u001b[0m \u001b[32m━━━━━━━━━━━━━━━━━━━━\u001b[0m\u001b[37m\u001b[0m \u001b[1m0s\u001b[0m 75ms/step - accuracy: 0.7817 - loss: 0.5809"
     ]
    },
    {
     "name": "stderr",
     "output_type": "stream",
     "text": [
      "I0000 00:00:1738386100.431164   36781 asm_compiler.cc:369] ptxas warning : Registers are spilled to local memory in function 'triton_gemm_dot_1337', 176 bytes spill stores, 176 bytes spill loads\n",
      "\n"
     ]
    },
    {
     "name": "stdout",
     "output_type": "stream",
     "text": [
      "\u001b[1m531/531\u001b[0m \u001b[32m━━━━━━━━━━━━━━━━━━━━\u001b[0m\u001b[37m\u001b[0m \u001b[1m83s\u001b[0m 124ms/step - accuracy: 0.7819 - loss: 0.5804 - val_accuracy: 0.9116 - val_loss: 0.2772\n",
      "Epoch 2/50\n",
      "\u001b[1m531/531\u001b[0m \u001b[32m━━━━━━━━━━━━━━━━━━━━\u001b[0m\u001b[37m\u001b[0m \u001b[1m49s\u001b[0m 91ms/step - accuracy: 0.9872 - loss: 0.1003 - val_accuracy: 0.9248 - val_loss: 0.2338\n",
      "Epoch 3/50\n",
      "\u001b[1m531/531\u001b[0m \u001b[32m━━━━━━━━━━━━━━━━━━━━\u001b[0m\u001b[37m\u001b[0m \u001b[1m48s\u001b[0m 91ms/step - accuracy: 0.9931 - loss: 0.0531 - val_accuracy: 0.9313 - val_loss: 0.2135\n",
      "Epoch 4/50\n",
      "\u001b[1m531/531\u001b[0m \u001b[32m━━━━━━━━━━━━━━━━━━━━\u001b[0m\u001b[37m\u001b[0m \u001b[1m48s\u001b[0m 91ms/step - accuracy: 0.9963 - loss: 0.0340 - val_accuracy: 0.9331 - val_loss: 0.2023\n",
      "Epoch 5/50\n",
      "\u001b[1m531/531\u001b[0m \u001b[32m━━━━━━━━━━━━━━━━━━━━\u001b[0m\u001b[37m\u001b[0m \u001b[1m49s\u001b[0m 91ms/step - accuracy: 0.9978 - loss: 0.0247 - val_accuracy: 0.9350 - val_loss: 0.1990\n",
      "Epoch 6/50\n",
      "\u001b[1m531/531\u001b[0m \u001b[32m━━━━━━━━━━━━━━━━━━━━\u001b[0m\u001b[37m\u001b[0m \u001b[1m49s\u001b[0m 92ms/step - accuracy: 0.9984 - loss: 0.0185 - val_accuracy: 0.9363 - val_loss: 0.1957\n",
      "Epoch 7/50\n",
      "\u001b[1m531/531\u001b[0m \u001b[32m━━━━━━━━━━━━━━━━━━━━\u001b[0m\u001b[37m\u001b[0m \u001b[1m49s\u001b[0m 91ms/step - accuracy: 0.9990 - loss: 0.0145 - val_accuracy: 0.9395 - val_loss: 0.1900\n",
      "Epoch 8/50\n",
      "\u001b[1m531/531\u001b[0m \u001b[32m━━━━━━━━━━━━━━━━━━━━\u001b[0m\u001b[37m\u001b[0m \u001b[1m49s\u001b[0m 92ms/step - accuracy: 0.9991 - loss: 0.0117 - val_accuracy: 0.9396 - val_loss: 0.1919\n",
      "Epoch 9/50\n",
      "\u001b[1m531/531\u001b[0m \u001b[32m━━━━━━━━━━━━━━━━━━━━\u001b[0m\u001b[37m\u001b[0m \u001b[1m49s\u001b[0m 91ms/step - accuracy: 0.9997 - loss: 0.0096 - val_accuracy: 0.9404 - val_loss: 0.1898\n",
      "Epoch 10/50\n",
      "\u001b[1m531/531\u001b[0m \u001b[32m━━━━━━━━━━━━━━━━━━━━\u001b[0m\u001b[37m\u001b[0m \u001b[1m49s\u001b[0m 91ms/step - accuracy: 0.9996 - loss: 0.0082 - val_accuracy: 0.9428 - val_loss: 0.1861\n",
      "Epoch 11/50\n",
      "\u001b[1m531/531\u001b[0m \u001b[32m━━━━━━━━━━━━━━━━━━━━\u001b[0m\u001b[37m\u001b[0m \u001b[1m50s\u001b[0m 93ms/step - accuracy: 0.9995 - loss: 0.0067 - val_accuracy: 0.9428 - val_loss: 0.1937\n",
      "Epoch 12/50\n",
      "\u001b[1m531/531\u001b[0m \u001b[32m━━━━━━━━━━━━━━━━━━━━\u001b[0m\u001b[37m\u001b[0m \u001b[1m48s\u001b[0m 91ms/step - accuracy: 0.9995 - loss: 0.0060 - val_accuracy: 0.9442 - val_loss: 0.1852\n",
      "Epoch 13/50\n",
      "\u001b[1m531/531\u001b[0m \u001b[32m━━━━━━━━━━━━━━━━━━━━\u001b[0m\u001b[37m\u001b[0m \u001b[1m49s\u001b[0m 91ms/step - accuracy: 0.9996 - loss: 0.0051 - val_accuracy: 0.9464 - val_loss: 0.1809\n",
      "Epoch 14/50\n",
      "\u001b[1m531/531\u001b[0m \u001b[32m━━━━━━━━━━━━━━━━━━━━\u001b[0m\u001b[37m\u001b[0m \u001b[1m49s\u001b[0m 92ms/step - accuracy: 0.9998 - loss: 0.0043 - val_accuracy: 0.9482 - val_loss: 0.1840\n",
      "Epoch 15/50\n",
      "\u001b[1m531/531\u001b[0m \u001b[32m━━━━━━━━━━━━━━━━━━━━\u001b[0m\u001b[37m\u001b[0m \u001b[1m49s\u001b[0m 92ms/step - accuracy: 0.9998 - loss: 0.0037 - val_accuracy: 0.9496 - val_loss: 0.1817\n",
      "Epoch 16/50\n",
      "\u001b[1m531/531\u001b[0m \u001b[32m━━━━━━━━━━━━━━━━━━━━\u001b[0m\u001b[37m\u001b[0m \u001b[1m49s\u001b[0m 91ms/step - accuracy: 0.9998 - loss: 0.0033 - val_accuracy: 0.9507 - val_loss: 0.1809\n",
      "Epoch 17/50\n",
      "\u001b[1m531/531\u001b[0m \u001b[32m━━━━━━━━━━━━━━━━━━━━\u001b[0m\u001b[37m\u001b[0m \u001b[1m49s\u001b[0m 92ms/step - accuracy: 0.9998 - loss: 0.0028 - val_accuracy: 0.9496 - val_loss: 0.1853\n",
      "Epoch 18/50\n",
      "\u001b[1m531/531\u001b[0m \u001b[32m━━━━━━━━━━━━━━━━━━━━\u001b[0m\u001b[37m\u001b[0m \u001b[1m51s\u001b[0m 96ms/step - accuracy: 0.9998 - loss: 0.0025 - val_accuracy: 0.9511 - val_loss: 0.1856\n",
      "Epoch 19/50\n",
      "\u001b[1m531/531\u001b[0m \u001b[32m━━━━━━━━━━━━━━━━━━━━\u001b[0m\u001b[37m\u001b[0m \u001b[1m51s\u001b[0m 96ms/step - accuracy: 0.9999 - loss: 0.0021 - val_accuracy: 0.9495 - val_loss: 0.1887\n",
      "Epoch 20/50\n",
      "\u001b[1m531/531\u001b[0m \u001b[32m━━━━━━━━━━━━━━━━━━━━\u001b[0m\u001b[37m\u001b[0m \u001b[1m55s\u001b[0m 103ms/step - accuracy: 0.9999 - loss: 0.0018 - val_accuracy: 0.9494 - val_loss: 0.1922\n",
      "Epoch 21/50\n",
      "\u001b[1m531/531\u001b[0m \u001b[32m━━━━━━━━━━━━━━━━━━━━\u001b[0m\u001b[37m\u001b[0m \u001b[1m0s\u001b[0m 58ms/step - accuracy: 1.0000 - loss: 0.0017"
     ]
    },
    {
     "name": "stderr",
     "output_type": "stream",
     "text": [
      "2025-02-01 10:47:57.149929: W tensorflow/core/kernels/data/prefetch_autotuner.cc:52] Prefetch autotuner tried to allocate 19268096 bytes after encountering the first element of size 19268096 bytes.This already causes the autotune ram budget to be exceeded. To stay within the ram budget, either increase the ram budget or reduce element size\n"
     ]
    },
    {
     "name": "stdout",
     "output_type": "stream",
     "text": [
      "\u001b[1m531/531\u001b[0m \u001b[32m━━━━━━━━━━━━━━━━━━━━\u001b[0m\u001b[37m\u001b[0m \u001b[1m53s\u001b[0m 99ms/step - accuracy: 1.0000 - loss: 0.0017 - val_accuracy: 0.9528 - val_loss: 0.1885\n",
      "Epoch 22/50\n",
      "\u001b[1m531/531\u001b[0m \u001b[32m━━━━━━━━━━━━━━━━━━━━\u001b[0m\u001b[37m\u001b[0m \u001b[1m55s\u001b[0m 102ms/step - accuracy: 1.0000 - loss: 0.0015 - val_accuracy: 0.9535 - val_loss: 0.1894\n",
      "Epoch 23/50\n",
      "\u001b[1m531/531\u001b[0m \u001b[32m━━━━━━━━━━━━━━━━━━━━\u001b[0m\u001b[37m\u001b[0m \u001b[1m51s\u001b[0m 95ms/step - accuracy: 1.0000 - loss: 0.0013 - val_accuracy: 0.9524 - val_loss: 0.1920\n",
      "Epoch 24/50\n",
      "\u001b[1m531/531\u001b[0m \u001b[32m━━━━━━━━━━━━━━━━━━━━\u001b[0m\u001b[37m\u001b[0m \u001b[1m52s\u001b[0m 98ms/step - accuracy: 1.0000 - loss: 0.0012 - val_accuracy: 0.9541 - val_loss: 0.1915\n",
      "Epoch 25/50\n",
      "\u001b[1m  2/531\u001b[0m \u001b[37m━━━━━━━━━━━━━━━━━━━━\u001b[0m \u001b[1m39s\u001b[0m 76ms/step - accuracy: 1.0000 - loss: 3.0420e-04  "
     ]
    },
    {
     "name": "stderr",
     "output_type": "stream",
     "text": [
      "2025-02-01 10:50:56.513805: W tensorflow/core/kernels/data/prefetch_autotuner.cc:52] Prefetch autotuner tried to allocate 19268096 bytes after encountering the first element of size 19268096 bytes.This already causes the autotune ram budget to be exceeded. To stay within the ram budget, either increase the ram budget or reduce element size\n"
     ]
    },
    {
     "name": "stdout",
     "output_type": "stream",
     "text": [
      "\u001b[1m530/531\u001b[0m \u001b[32m━━━━━━━━━━━━━━━━━━━\u001b[0m\u001b[37m━\u001b[0m \u001b[1m0s\u001b[0m 64ms/step - accuracy: 1.0000 - loss: 0.0011"
     ]
    },
    {
     "name": "stderr",
     "output_type": "stream",
     "text": [
      "2025-02-01 10:51:30.829650: W tensorflow/core/kernels/data/prefetch_autotuner.cc:52] Prefetch autotuner tried to allocate 19268096 bytes after encountering the first element of size 19268096 bytes.This already causes the autotune ram budget to be exceeded. To stay within the ram budget, either increase the ram budget or reduce element size\n"
     ]
    },
    {
     "name": "stdout",
     "output_type": "stream",
     "text": [
      "\u001b[1m531/531\u001b[0m \u001b[32m━━━━━━━━━━━━━━━━━━━━\u001b[0m\u001b[37m\u001b[0m \u001b[1m61s\u001b[0m 113ms/step - accuracy: 1.0000 - loss: 0.0011 - val_accuracy: 0.9539 - val_loss: 0.1960\n",
      "Epoch 26/50\n",
      "\u001b[1m531/531\u001b[0m \u001b[32m━━━━━━━━━━━━━━━━━━━━\u001b[0m\u001b[37m\u001b[0m \u001b[1m55s\u001b[0m 103ms/step - accuracy: 1.0000 - loss: 9.2492e-04 - val_accuracy: 0.9556 - val_loss: 0.1913\n",
      "Epoch 27/50\n",
      "\u001b[1m531/531\u001b[0m \u001b[32m━━━━━━━━━━━━━━━━━━━━\u001b[0m\u001b[37m\u001b[0m \u001b[1m48s\u001b[0m 90ms/step - accuracy: 1.0000 - loss: 8.6961e-04 - val_accuracy: 0.9553 - val_loss: 0.1958\n",
      "Epoch 28/50\n",
      "\u001b[1m531/531\u001b[0m \u001b[32m━━━━━━━━━━━━━━━━━━━━\u001b[0m\u001b[37m\u001b[0m \u001b[1m49s\u001b[0m 91ms/step - accuracy: 1.0000 - loss: 7.2611e-04 - val_accuracy: 0.9548 - val_loss: 0.1966\n",
      "Epoch 29/50\n",
      "\u001b[1m531/531\u001b[0m \u001b[32m━━━━━━━━━━━━━━━━━━━━\u001b[0m\u001b[37m\u001b[0m \u001b[1m49s\u001b[0m 92ms/step - accuracy: 1.0000 - loss: 6.6085e-04 - val_accuracy: 0.9556 - val_loss: 0.1978\n",
      "Epoch 29: early stopping\n",
      "Restoring model weights from the end of the best epoch: 26.\n"
     ]
    }
   ],
   "source": [
    "base_model = tf.keras.applications.MobileNetV3Small(weights=\"imagenet\", include_top=False, input_shape=(224, 224, 3))\n",
    "base_model.trainable = False\n",
    "model = tf.keras.Sequential([\n",
    "    # tf.keras.layers.Input(shape=(480, 720, 3)),\n",
    "    # tf.keras.layers.Resizing(224, 224, crop_to_aspect_ratio=True),\n",
    "    tf.keras.layers.Input(shape=(224, 224, 3)),\n",
    "    tf.keras.layers.Lambda(tf.keras.applications.mobilenet_v3.preprocess_input),\n",
    "    base_model,\n",
    "    tf.keras.layers.GlobalAvgPool2D(),\n",
    "    tf.keras.layers.Dense(3),\n",
    "    tf.keras.layers.Activation(\"softmax\")\n",
    "])\n",
    "model.compile(optimizer=\"adam\", loss=\"categorical_crossentropy\", metrics=[\"accuracy\"])\n",
    "es = tf.keras.callbacks.EarlyStopping(\n",
    "    monitor=\"val_accuracy\",\n",
    "    patience=3,\n",
    "    restore_best_weights=True,\n",
    "    verbose=1\n",
    ")\n",
    "cmc = CustomModelCheckpoint(\n",
    "    filepath='checkpoints/best_model_epoch_{epoch:03d}_val_acc_{val_accuracy:.4f}.keras',\n",
    "    monitor='val_accuracy',\n",
    "    mode='max'\n",
    ")\n",
    "history = model.fit(train_ds, epochs=50, validation_data=val_ds, callbacks=[es, cmc])"
   ]
  },
  {
   "cell_type": "code",
   "execution_count": 18,
   "metadata": {
    "execution": {
     "iopub.execute_input": "2025-01-13T09:42:04.993147Z",
     "iopub.status.busy": "2025-01-13T09:42:04.992791Z",
     "iopub.status.idle": "2025-01-13T09:42:05.047609Z",
     "shell.execute_reply": "2025-01-13T09:42:05.046970Z",
     "shell.execute_reply.started": "2025-01-13T09:42:04.993116Z"
    },
    "trusted": true
   },
   "outputs": [
    {
     "name": "stdout",
     "output_type": "stream",
     "text": [
      "0 input_layer\n",
      "1 rescaling\n",
      "2 conv\n",
      "3 conv_bn\n",
      "4 activation\n",
      "5 expanded_conv_depthwise_pad\n",
      "6 expanded_conv_depthwise\n",
      "7 expanded_conv_depthwise_bn\n",
      "8 re_lu\n",
      "9 expanded_conv_squeeze_excite_avg_pool\n",
      "10 expanded_conv_squeeze_excite_conv\n",
      "11 expanded_conv_squeeze_excite_relu\n",
      "12 expanded_conv_squeeze_excite_conv_1\n",
      "13 re_lu_1\n",
      "14 expanded_conv_squeeze_excite_mul\n",
      "15 expanded_conv_project\n",
      "16 expanded_conv_project_bn\n",
      "17 expanded_conv_1_expand\n",
      "18 expanded_conv_1_expand_bn\n",
      "19 re_lu_2\n",
      "20 expanded_conv_1_depthwise_pad\n",
      "21 expanded_conv_1_depthwise\n",
      "22 expanded_conv_1_depthwise_bn\n",
      "23 re_lu_3\n",
      "24 expanded_conv_1_project\n",
      "25 expanded_conv_1_project_bn\n",
      "26 expanded_conv_2_expand\n",
      "27 expanded_conv_2_expand_bn\n",
      "28 re_lu_4\n",
      "29 expanded_conv_2_depthwise\n",
      "30 expanded_conv_2_depthwise_bn\n",
      "31 re_lu_5\n",
      "32 expanded_conv_2_project\n",
      "33 expanded_conv_2_project_bn\n",
      "34 expanded_conv_2_add\n",
      "35 expanded_conv_3_expand\n",
      "36 expanded_conv_3_expand_bn\n",
      "37 activation_1\n",
      "38 expanded_conv_3_depthwise_pad\n",
      "39 expanded_conv_3_depthwise\n",
      "40 expanded_conv_3_depthwise_bn\n",
      "41 activation_2\n",
      "42 expanded_conv_3_squeeze_excite_avg_pool\n",
      "43 expanded_conv_3_squeeze_excite_conv\n",
      "44 expanded_conv_3_squeeze_excite_relu\n",
      "45 expanded_conv_3_squeeze_excite_conv_1\n",
      "46 re_lu_6\n",
      "47 expanded_conv_3_squeeze_excite_mul\n",
      "48 expanded_conv_3_project\n",
      "49 expanded_conv_3_project_bn\n",
      "50 expanded_conv_4_expand\n",
      "51 expanded_conv_4_expand_bn\n",
      "52 activation_3\n",
      "53 expanded_conv_4_depthwise\n",
      "54 expanded_conv_4_depthwise_bn\n",
      "55 activation_4\n",
      "56 expanded_conv_4_squeeze_excite_avg_pool\n",
      "57 expanded_conv_4_squeeze_excite_conv\n",
      "58 expanded_conv_4_squeeze_excite_relu\n",
      "59 expanded_conv_4_squeeze_excite_conv_1\n",
      "60 re_lu_7\n",
      "61 expanded_conv_4_squeeze_excite_mul\n",
      "62 expanded_conv_4_project\n",
      "63 expanded_conv_4_project_bn\n",
      "64 expanded_conv_4_add\n",
      "65 expanded_conv_5_expand\n",
      "66 expanded_conv_5_expand_bn\n",
      "67 activation_5\n",
      "68 expanded_conv_5_depthwise\n",
      "69 expanded_conv_5_depthwise_bn\n",
      "70 activation_6\n",
      "71 expanded_conv_5_squeeze_excite_avg_pool\n",
      "72 expanded_conv_5_squeeze_excite_conv\n",
      "73 expanded_conv_5_squeeze_excite_relu\n",
      "74 expanded_conv_5_squeeze_excite_conv_1\n",
      "75 re_lu_8\n",
      "76 expanded_conv_5_squeeze_excite_mul\n",
      "77 expanded_conv_5_project\n",
      "78 expanded_conv_5_project_bn\n",
      "79 expanded_conv_5_add\n",
      "80 expanded_conv_6_expand\n",
      "81 expanded_conv_6_expand_bn\n",
      "82 activation_7\n",
      "83 expanded_conv_6_depthwise\n",
      "84 expanded_conv_6_depthwise_bn\n",
      "85 activation_8\n",
      "86 expanded_conv_6_squeeze_excite_avg_pool\n",
      "87 expanded_conv_6_squeeze_excite_conv\n",
      "88 expanded_conv_6_squeeze_excite_relu\n",
      "89 expanded_conv_6_squeeze_excite_conv_1\n",
      "90 re_lu_9\n",
      "91 expanded_conv_6_squeeze_excite_mul\n",
      "92 expanded_conv_6_project\n",
      "93 expanded_conv_6_project_bn\n",
      "94 expanded_conv_7_expand\n",
      "95 expanded_conv_7_expand_bn\n",
      "96 activation_9\n",
      "97 expanded_conv_7_depthwise\n",
      "98 expanded_conv_7_depthwise_bn\n",
      "99 activation_10\n",
      "100 expanded_conv_7_squeeze_excite_avg_pool\n",
      "101 expanded_conv_7_squeeze_excite_conv\n",
      "102 expanded_conv_7_squeeze_excite_relu\n",
      "103 expanded_conv_7_squeeze_excite_conv_1\n",
      "104 re_lu_10\n",
      "105 expanded_conv_7_squeeze_excite_mul\n",
      "106 expanded_conv_7_project\n",
      "107 expanded_conv_7_project_bn\n",
      "108 expanded_conv_7_add\n",
      "109 expanded_conv_8_expand\n",
      "110 expanded_conv_8_expand_bn\n",
      "111 activation_11\n",
      "112 expanded_conv_8_depthwise_pad\n",
      "113 expanded_conv_8_depthwise\n",
      "114 expanded_conv_8_depthwise_bn\n",
      "115 activation_12\n",
      "116 expanded_conv_8_squeeze_excite_avg_pool\n",
      "117 expanded_conv_8_squeeze_excite_conv\n",
      "118 expanded_conv_8_squeeze_excite_relu\n",
      "119 expanded_conv_8_squeeze_excite_conv_1\n",
      "120 re_lu_11\n",
      "121 expanded_conv_8_squeeze_excite_mul\n",
      "122 expanded_conv_8_project\n",
      "123 expanded_conv_8_project_bn\n",
      "124 expanded_conv_9_expand\n",
      "125 expanded_conv_9_expand_bn\n",
      "126 activation_13\n",
      "127 expanded_conv_9_depthwise\n",
      "128 expanded_conv_9_depthwise_bn\n",
      "129 activation_14\n",
      "130 expanded_conv_9_squeeze_excite_avg_pool\n",
      "131 expanded_conv_9_squeeze_excite_conv\n",
      "132 expanded_conv_9_squeeze_excite_relu\n",
      "133 expanded_conv_9_squeeze_excite_conv_1\n",
      "134 re_lu_12\n",
      "135 expanded_conv_9_squeeze_excite_mul\n",
      "136 expanded_conv_9_project\n",
      "137 expanded_conv_9_project_bn\n",
      "138 expanded_conv_9_add\n",
      "139 expanded_conv_10_expand\n",
      "140 expanded_conv_10_expand_bn\n",
      "141 activation_15\n",
      "142 expanded_conv_10_depthwise\n",
      "143 expanded_conv_10_depthwise_bn\n",
      "144 activation_16\n",
      "145 expanded_conv_10_squeeze_excite_avg_pool\n",
      "146 expanded_conv_10_squeeze_excite_conv\n",
      "147 expanded_conv_10_squeeze_excite_relu\n",
      "148 expanded_conv_10_squeeze_excite_conv_1\n",
      "149 re_lu_13\n",
      "150 expanded_conv_10_squeeze_excite_mul\n",
      "151 expanded_conv_10_project\n",
      "152 expanded_conv_10_project_bn\n",
      "153 expanded_conv_10_add\n",
      "154 conv_1\n",
      "155 conv_1_bn\n",
      "156 activation_17\n"
     ]
    }
   ],
   "source": [
    "for i, layer in enumerate(base_model.layers):\n",
    "    print(i, layer.name)"
   ]
  },
  {
   "cell_type": "code",
   "execution_count": 19,
   "metadata": {
    "execution": {
     "iopub.execute_input": "2025-01-18T12:59:02.564769Z",
     "iopub.status.busy": "2025-01-18T12:59:02.564450Z",
     "iopub.status.idle": "2025-01-18T12:59:02.569275Z",
     "shell.execute_reply": "2025-01-18T12:59:02.568506Z",
     "shell.execute_reply.started": "2025-01-18T12:59:02.564745Z"
    },
    "trusted": true
   },
   "outputs": [],
   "source": [
    "for layer in base_model.layers[124:]:\n",
    "    layer.trainable = True"
   ]
  },
  {
   "cell_type": "code",
   "execution_count": 20,
   "metadata": {
    "execution": {
     "iopub.execute_input": "2025-01-18T12:59:05.072486Z",
     "iopub.status.busy": "2025-01-18T12:59:05.072169Z",
     "iopub.status.idle": "2025-01-18T13:15:56.531629Z",
     "shell.execute_reply": "2025-01-18T13:15:56.530923Z",
     "shell.execute_reply.started": "2025-01-18T12:59:05.072458Z"
    },
    "trusted": true
   },
   "outputs": [
    {
     "name": "stdout",
     "output_type": "stream",
     "text": [
      "Epoch 1/50\n",
      "\u001b[1m531/531\u001b[0m \u001b[32m━━━━━━━━━━━━━━━━━━━━\u001b[0m\u001b[37m\u001b[0m \u001b[1m121s\u001b[0m 184ms/step - accuracy: 0.9867 - loss: 0.0360 - val_accuracy: 0.9496 - val_loss: 0.2705\n",
      "Epoch 2/50\n",
      "\u001b[1m531/531\u001b[0m \u001b[32m━━━━━━━━━━━━━━━━━━━━\u001b[0m\u001b[37m\u001b[0m \u001b[1m48s\u001b[0m 89ms/step - accuracy: 0.9958 - loss: 0.0122 - val_accuracy: 0.9503 - val_loss: 0.2913\n",
      "Epoch 3/50\n",
      "\u001b[1m531/531\u001b[0m \u001b[32m━━━━━━━━━━━━━━━━━━━━\u001b[0m\u001b[37m\u001b[0m \u001b[1m48s\u001b[0m 89ms/step - accuracy: 0.9980 - loss: 0.0072 - val_accuracy: 0.9502 - val_loss: 0.2987\n",
      "Epoch 4/50\n",
      "\u001b[1m531/531\u001b[0m \u001b[32m━━━━━━━━━━━━━━━━━━━━\u001b[0m\u001b[37m\u001b[0m \u001b[1m48s\u001b[0m 90ms/step - accuracy: 0.9981 - loss: 0.0047 - val_accuracy: 0.9486 - val_loss: 0.3190\n",
      "Epoch 5/50\n",
      "\u001b[1m531/531\u001b[0m \u001b[32m━━━━━━━━━━━━━━━━━━━━\u001b[0m\u001b[37m\u001b[0m \u001b[1m48s\u001b[0m 90ms/step - accuracy: 0.9994 - loss: 0.0022 - val_accuracy: 0.9502 - val_loss: 0.3112\n",
      "Epoch 5: early stopping\n",
      "Restoring model weights from the end of the best epoch: 2.\n"
     ]
    }
   ],
   "source": [
    "optimizer = tf.keras.optimizers.Adam(learning_rate=1e-05)\n",
    "model.compile(optimizer=optimizer, loss=\"categorical_crossentropy\", metrics=[\"accuracy\"])\n",
    "es = tf.keras.callbacks.EarlyStopping(\n",
    "    monitor=\"val_accuracy\",\n",
    "    patience=3,\n",
    "    restore_best_weights=True,\n",
    "    verbose=1\n",
    ")\n",
    "cmc = CustomModelCheckpoint(\n",
    "    filepath='checkpoints/best_model_epoch_{epoch:03d}_val_acc_{val_accuracy:.4f}.keras',\n",
    "    monitor='val_accuracy',\n",
    "    mode='max'\n",
    ")\n",
    "history = model.fit(train_ds, epochs=50, validation_data=val_ds, callbacks=[es, cmc])"
   ]
  },
  {
   "cell_type": "code",
   "execution_count": 21,
   "metadata": {
    "execution": {
     "iopub.execute_input": "2025-01-18T13:16:10.716751Z",
     "iopub.status.busy": "2025-01-18T13:16:10.716453Z",
     "iopub.status.idle": "2025-01-18T13:16:10.722309Z",
     "shell.execute_reply": "2025-01-18T13:16:10.721603Z",
     "shell.execute_reply.started": "2025-01-18T13:16:10.716728Z"
    },
    "trusted": true
   },
   "outputs": [
    {
     "data": {
      "text/plain": [
       "['best_model_epoch_002_val_acc_0.9503.keras',\n",
       " 'best_model_epoch_026_val_acc_0.9556.keras']"
      ]
     },
     "execution_count": 21,
     "metadata": {},
     "output_type": "execute_result"
    }
   ],
   "source": [
    "os.listdir(\"checkpoints\")"
   ]
  },
  {
   "cell_type": "code",
   "execution_count": 35,
   "metadata": {
    "execution": {
     "iopub.execute_input": "2025-01-18T13:16:48.268354Z",
     "iopub.status.busy": "2025-01-18T13:16:48.268067Z",
     "iopub.status.idle": "2025-01-18T13:16:48.273688Z",
     "shell.execute_reply": "2025-01-18T13:16:48.272826Z",
     "shell.execute_reply.started": "2025-01-18T13:16:48.268331Z"
    },
    "trusted": true
   },
   "outputs": [
    {
     "data": {
      "text/html": [
       "<a href='checkpoints/best_model_epoch_018_val_acc_0.9558.keras' target='_blank'>checkpoints/best_model_epoch_018_val_acc_0.9558.keras</a><br>"
      ],
      "text/plain": [
       "/home/vikas/Lab/handwash_recognition/handwash_live/checkpoints/best_model_epoch_018_val_acc_0.9558.keras"
      ]
     },
     "execution_count": 35,
     "metadata": {},
     "output_type": "execute_result"
    }
   ],
   "source": [
    "mlutils.create_download_link(\"checkpoints/best_model_epoch_018_val_acc_0.9558.keras\")"
   ]
  },
  {
   "cell_type": "markdown",
   "metadata": {},
   "source": [
    "### Model Evaluation"
   ]
  },
  {
   "cell_type": "code",
   "execution_count": 22,
   "metadata": {
    "execution": {
     "iopub.execute_input": "2025-01-18T13:17:03.312020Z",
     "iopub.status.busy": "2025-01-18T13:17:03.311696Z",
     "iopub.status.idle": "2025-01-18T13:17:44.318309Z",
     "shell.execute_reply": "2025-01-18T13:17:44.317489Z",
     "shell.execute_reply.started": "2025-01-18T13:17:03.311993Z"
    },
    "trusted": true
   },
   "outputs": [
    {
     "name": "stdout",
     "output_type": "stream",
     "text": [
      "\u001b[1m368/372\u001b[0m \u001b[32m━━━━━━━━━━━━━━━━━━━\u001b[0m\u001b[37m━\u001b[0m \u001b[1m0s\u001b[0m 57ms/step - accuracy: 0.9796 - loss: 0.0904"
     ]
    },
    {
     "name": "stderr",
     "output_type": "stream",
     "text": [
      "I0000 00:00:1738387920.136057   39075 asm_compiler.cc:369] ptxas warning : Registers are spilled to local memory in function 'triton_gemm_dot_1337', 260 bytes spill stores, 260 bytes spill loads\n",
      "\n"
     ]
    },
    {
     "name": "stdout",
     "output_type": "stream",
     "text": [
      "\u001b[1m372/372\u001b[0m \u001b[32m━━━━━━━━━━━━━━━━━━━━\u001b[0m\u001b[37m\u001b[0m \u001b[1m27s\u001b[0m 72ms/step - accuracy: 0.9797 - loss: 0.0898\n"
     ]
    },
    {
     "data": {
      "text/plain": [
       "[0.04718209058046341, 0.9887233972549438]"
      ]
     },
     "execution_count": 22,
     "metadata": {},
     "output_type": "execute_result"
    }
   ],
   "source": [
    "model.evaluate(test_ds)"
   ]
  },
  {
   "cell_type": "code",
   "execution_count": 18,
   "metadata": {
    "execution": {
     "iopub.execute_input": "2025-01-13T10:09:01.841875Z",
     "iopub.status.busy": "2025-01-13T10:09:01.841559Z",
     "iopub.status.idle": "2025-01-13T10:09:16.482202Z",
     "shell.execute_reply": "2025-01-13T10:09:16.481543Z",
     "shell.execute_reply.started": "2025-01-13T10:09:01.841846Z"
    },
    "trusted": true
   },
   "outputs": [
    {
     "name": "stdout",
     "output_type": "stream",
     "text": [
      "\u001b[1m274/274\u001b[0m \u001b[32m━━━━━━━━━━━━━━━━━━━━\u001b[0m\u001b[37m\u001b[0m \u001b[1m15s\u001b[0m 53ms/step - accuracy: 0.9686 - loss: 0.1202\n"
     ]
    },
    {
     "data": {
      "text/plain": [
       "[0.18575944006443024, 0.9613190293312073]"
      ]
     },
     "execution_count": 18,
     "metadata": {},
     "output_type": "execute_result"
    }
   ],
   "source": [
    "model.evaluate(val_ds)"
   ]
  },
  {
   "cell_type": "code",
   "execution_count": 19,
   "metadata": {
    "execution": {
     "iopub.execute_input": "2025-01-13T10:09:16.483511Z",
     "iopub.status.busy": "2025-01-13T10:09:16.483280Z",
     "iopub.status.idle": "2025-01-13T10:09:42.950652Z",
     "shell.execute_reply": "2025-01-13T10:09:42.949915Z",
     "shell.execute_reply.started": "2025-01-13T10:09:16.483489Z"
    },
    "trusted": true
   },
   "outputs": [
    {
     "name": "stdout",
     "output_type": "stream",
     "text": [
      "\u001b[1m397/397\u001b[0m \u001b[32m━━━━━━━━━━━━━━━━━━━━\u001b[0m\u001b[37m\u001b[0m \u001b[1m26s\u001b[0m 67ms/step - accuracy: 1.0000 - loss: 1.4242e-05\n"
     ]
    },
    {
     "data": {
      "text/plain": [
       "[1.1845112567243632e-05, 1.0]"
      ]
     },
     "execution_count": 19,
     "metadata": {},
     "output_type": "execute_result"
    }
   ],
   "source": [
    "model.evaluate(train_ds)"
   ]
  },
  {
   "cell_type": "markdown",
   "metadata": {},
   "source": [
    "### Loading the model"
   ]
  },
  {
   "cell_type": "code",
   "execution_count": 1,
   "metadata": {},
   "outputs": [
    {
     "name": "stderr",
     "output_type": "stream",
     "text": [
      "2025-01-30 11:40:18.795485: I tensorflow/core/platform/cpu_feature_guard.cc:210] This TensorFlow binary is optimized to use available CPU instructions in performance-critical operations.\n",
      "To enable the following instructions: AVX2 FMA, in other operations, rebuild TensorFlow with the appropriate compiler flags.\n",
      "2025-01-30 11:40:20.719940: W tensorflow/compiler/tf2tensorrt/utils/py_utils.cc:38] TF-TRT Warning: Could not find TensorRT\n",
      "2025-01-30 11:40:24.998787: I external/local_xla/xla/stream_executor/cuda/cuda_executor.cc:998] successful NUMA node read from SysFS had negative value (-1), but there must be at least one NUMA node, so returning NUMA node zero. See more at https://github.com/torvalds/linux/blob/v6.0/Documentation/ABI/testing/sysfs-bus-pci#L344-L355\n",
      "2025-01-30 11:40:25.151548: I external/local_xla/xla/stream_executor/cuda/cuda_executor.cc:998] successful NUMA node read from SysFS had negative value (-1), but there must be at least one NUMA node, so returning NUMA node zero. See more at https://github.com/torvalds/linux/blob/v6.0/Documentation/ABI/testing/sysfs-bus-pci#L344-L355\n",
      "2025-01-30 11:40:25.153487: I external/local_xla/xla/stream_executor/cuda/cuda_executor.cc:998] successful NUMA node read from SysFS had negative value (-1), but there must be at least one NUMA node, so returning NUMA node zero. See more at https://github.com/torvalds/linux/blob/v6.0/Documentation/ABI/testing/sysfs-bus-pci#L344-L355\n",
      "2025-01-30 11:40:25.157135: I external/local_xla/xla/stream_executor/cuda/cuda_executor.cc:998] successful NUMA node read from SysFS had negative value (-1), but there must be at least one NUMA node, so returning NUMA node zero. See more at https://github.com/torvalds/linux/blob/v6.0/Documentation/ABI/testing/sysfs-bus-pci#L344-L355\n",
      "2025-01-30 11:40:25.159269: I external/local_xla/xla/stream_executor/cuda/cuda_executor.cc:998] successful NUMA node read from SysFS had negative value (-1), but there must be at least one NUMA node, so returning NUMA node zero. See more at https://github.com/torvalds/linux/blob/v6.0/Documentation/ABI/testing/sysfs-bus-pci#L344-L355\n",
      "2025-01-30 11:40:25.160885: I external/local_xla/xla/stream_executor/cuda/cuda_executor.cc:998] successful NUMA node read from SysFS had negative value (-1), but there must be at least one NUMA node, so returning NUMA node zero. See more at https://github.com/torvalds/linux/blob/v6.0/Documentation/ABI/testing/sysfs-bus-pci#L344-L355\n",
      "2025-01-30 11:40:25.317573: I external/local_xla/xla/stream_executor/cuda/cuda_executor.cc:998] successful NUMA node read from SysFS had negative value (-1), but there must be at least one NUMA node, so returning NUMA node zero. See more at https://github.com/torvalds/linux/blob/v6.0/Documentation/ABI/testing/sysfs-bus-pci#L344-L355\n",
      "2025-01-30 11:40:25.319783: I external/local_xla/xla/stream_executor/cuda/cuda_executor.cc:998] successful NUMA node read from SysFS had negative value (-1), but there must be at least one NUMA node, so returning NUMA node zero. See more at https://github.com/torvalds/linux/blob/v6.0/Documentation/ABI/testing/sysfs-bus-pci#L344-L355\n",
      "2025-01-30 11:40:25.321410: I external/local_xla/xla/stream_executor/cuda/cuda_executor.cc:998] successful NUMA node read from SysFS had negative value (-1), but there must be at least one NUMA node, so returning NUMA node zero. See more at https://github.com/torvalds/linux/blob/v6.0/Documentation/ABI/testing/sysfs-bus-pci#L344-L355\n",
      "2025-01-30 11:40:25.323243: I tensorflow/core/common_runtime/gpu/gpu_device.cc:1928] Created device /job:localhost/replica:0/task:0/device:GPU:0 with 2179 MB memory:  -> device: 0, name: NVIDIA GeForce RTX 3050 Laptop GPU, pci bus id: 0000:01:00.0, compute capability: 8.6\n"
     ]
    }
   ],
   "source": [
    "import tensorflow as tf\n",
    "\n",
    "model = tf.keras.models.load_model(\n",
    "    \"checkpoints/best_model_epoch_018_val_acc_0.9558.keras\",\n",
    "    {\"preprocess_input\": tf.keras.applications.mobilenet_v3.preprocess_input}\n",
    "    )"
   ]
  },
  {
   "cell_type": "markdown",
   "metadata": {},
   "source": [
    "### Confusion Matrix"
   ]
  },
  {
   "cell_type": "code",
   "execution_count": 26,
   "metadata": {},
   "outputs": [
    {
     "name": "stderr",
     "output_type": "stream",
     "text": [
      "2025-02-01 11:06:51.493119: W tensorflow/core/framework/local_rendezvous.cc:404] Local rendezvous is aborting with status: OUT_OF_RANGE: End of sequence\n"
     ]
    },
    {
     "data": {
      "text/plain": [
       "11883"
      ]
     },
     "execution_count": 26,
     "metadata": {},
     "output_type": "execute_result"
    }
   ],
   "source": [
    "y_test = []\n",
    "for X, y in test_ds:\n",
    "    y_test.extend(y)\n",
    "len(y_test)"
   ]
  },
  {
   "cell_type": "code",
   "execution_count": 27,
   "metadata": {
    "execution": {
     "iopub.execute_input": "2025-01-18T13:32:20.851678Z",
     "iopub.status.busy": "2025-01-18T13:32:20.851396Z",
     "iopub.status.idle": "2025-01-18T13:32:57.919329Z",
     "shell.execute_reply": "2025-01-18T13:32:57.918109Z",
     "shell.execute_reply.started": "2025-01-18T13:32:20.851655Z"
    },
    "trusted": true
   },
   "outputs": [
    {
     "name": "stdout",
     "output_type": "stream",
     "text": [
      "\u001b[1m372/372\u001b[0m \u001b[32m━━━━━━━━━━━━━━━━━━━━\u001b[0m\u001b[37m\u001b[0m \u001b[1m22s\u001b[0m 57ms/step\n"
     ]
    },
    {
     "data": {
      "image/png": "[encoded data removed]",
      "text/plain": [
       "<Figure size 800x600 with 2 Axes>"
      ]
     },
     "metadata": {},
     "output_type": "display_data"
    }
   ],
   "source": [
    "import numpy as np\n",
    "import matplotlib.pyplot as plt\n",
    "import seaborn as sns\n",
    "from sklearn.metrics import confusion_matrix\n",
    "\n",
    "# 1. Make predictions\n",
    "y_pred = model.predict(test_ds)  # Assuming X_test is your test set\n",
    "\n",
    "# If it's categorical classification, take the class with the highest probability\n",
    "y_pred_classes = np.argmax(y_pred, axis=1)\n",
    "\n",
    "# 2. Compute confusion matrix\n",
    "y_true = np.argmax(y_test, axis=1)  # If y_test is one-hot encoded\n",
    "cm = confusion_matrix(y_true, y_pred_classes)\n",
    "\n",
    "# 3. Plot the confusion matrix\n",
    "plt.figure(figsize=(8, 6))\n",
    "sns.heatmap(cm, annot=True, fmt='d', cmap='Blues', xticklabels=np.unique(y_true), yticklabels=np.unique(y_true))\n",
    "plt.xlabel('Predicted')\n",
    "plt.ylabel('True')\n",
    "plt.title('Confusion Matrix')\n",
    "plt.show()"
   ]
  },
  {
   "cell_type": "code",
   "execution_count": null,
   "metadata": {
    "trusted": true
   },
   "outputs": [],
   "source": []
  },
  {
   "cell_type": "markdown",
   "metadata": {},
   "source": [
    "### Plot reliability diagram"
   ]
  },
  {
   "cell_type": "code",
   "execution_count": 11,
   "metadata": {
    "execution": {
     "iopub.execute_input": "2025-01-13T10:15:01.695962Z",
     "iopub.status.busy": "2025-01-13T10:15:01.695634Z",
     "iopub.status.idle": "2025-01-13T10:15:01.701018Z",
     "shell.execute_reply": "2025-01-13T10:15:01.700292Z",
     "shell.execute_reply.started": "2025-01-13T10:15:01.695937Z"
    },
    "trusted": true
   },
   "outputs": [],
   "source": [
    "def plot_reliability_diagram(prob_true, prob_pred, model_name):\n",
    "    fig = plt.figure(figsize=(5, 5))\n",
    "    ax = plt.gca()\n",
    "\n",
    "    plt.plot([0, 1], [0, 1], color=\"#FE4A49\", linestyle=\":\", label=\"Perfectly calibrated model\")\n",
    "    plt.plot(prob_pred, prob_true, label=model_name)\n",
    "\n",
    "    plt.ylabel(\"Fraction of positives\", fontsize=16)\n",
    "    plt.xlabel(\"Mean predicted value\", fontsize=16)\n",
    "\n",
    "    # plt.legend(fontsize=16)\n",
    "    plt.legend()\n",
    "    plt.xticks(fontsize=14)\n",
    "    plt.yticks(fontsize=14)\n",
    "\n",
    "    plt.grid(True, color=\"#B2C7D9\")\n",
    "\n",
    "    plt.tight_layout()"
   ]
  },
  {
   "cell_type": "code",
   "execution_count": 13,
   "metadata": {
    "execution": {
     "iopub.execute_input": "2025-01-13T10:15:04.012283Z",
     "iopub.status.busy": "2025-01-13T10:15:04.011925Z",
     "iopub.status.idle": "2025-01-13T10:15:18.541987Z",
     "shell.execute_reply": "2025-01-13T10:15:18.541281Z",
     "shell.execute_reply.started": "2025-01-13T10:15:04.012250Z"
    },
    "trusted": true
   },
   "outputs": [],
   "source": [
    "y_test = []\n",
    "for images, labels in test_ds:\n",
    "    y_test.extend(labels)\n",
    "y_test = np.array(y_test)"
   ]
  },
  {
   "cell_type": "code",
   "execution_count": 14,
   "metadata": {
    "execution": {
     "iopub.execute_input": "2025-01-13T10:15:25.321595Z",
     "iopub.status.busy": "2025-01-13T10:15:25.321234Z",
     "iopub.status.idle": "2025-01-13T10:15:44.720805Z",
     "shell.execute_reply": "2025-01-13T10:15:44.719936Z",
     "shell.execute_reply.started": "2025-01-13T10:15:25.321564Z"
    },
    "trusted": true
   },
   "outputs": [
    {
     "name": "stdout",
     "output_type": "stream",
     "text": [
      "\u001b[1m366/366\u001b[0m \u001b[32m━━━━━━━━━━━━━━━━━━━━\u001b[0m\u001b[37m\u001b[0m \u001b[1m23s\u001b[0m 60ms/step\n"
     ]
    },
    {
     "data": {
      "image/png": "[encoded data removed]",
      "text/plain": [
       "<Figure size 500x500 with 1 Axes>"
      ]
     },
     "metadata": {},
     "output_type": "display_data"
    }
   ],
   "source": [
    "from sklearn.calibration import calibration_curve\n",
    "\n",
    "y_pred = model.predict(test_ds)\n",
    "prob_true, prob_pred = calibration_curve(y_test.flatten(), y_pred.flatten(), n_bins=10)\n",
    "plot_reliability_diagram(prob_true, prob_pred, \"(uncalibrated)\")\n",
    "\n",
    "bin_sizes = np.histogram(a=y_pred.flatten(), range=(0, 1), bins=10)[0]"
   ]
  },
  {
   "cell_type": "code",
   "execution_count": 16,
   "metadata": {
    "execution": {
     "iopub.execute_input": "2025-01-10T12:35:18.401255Z",
     "iopub.status.busy": "2025-01-10T12:35:18.400826Z",
     "iopub.status.idle": "2025-01-10T12:35:18.797015Z",
     "shell.execute_reply": "2025-01-10T12:35:18.794860Z",
     "shell.execute_reply.started": "2025-01-10T12:35:18.401217Z"
    },
    "trusted": true
   },
   "outputs": [
    {
     "ename": "ZeroDivisionError",
     "evalue": "division by zero",
     "output_type": "error",
     "traceback": [
      "\u001b[0;31m---------------------------------------------------------------------------\u001b[0m",
      "\u001b[0;31mZeroDivisionError\u001b[0m                         Traceback (most recent call last)",
      "\u001b[0;32m<ipython-input-16-0106664d39e8>\u001b[0m in \u001b[0;36m<cell line: 1>\u001b[0;34m()\u001b[0m\n\u001b[0;32m----> 1\u001b[0;31m \u001b[0;36m5\u001b[0m\u001b[0;34m/\u001b[0m\u001b[0;36m0\u001b[0m\u001b[0;34m\u001b[0m\u001b[0;34m\u001b[0m\u001b[0m\n\u001b[0m",
      "\u001b[0;31mZeroDivisionError\u001b[0m: division by zero"
     ]
    }
   ],
   "source": [
    "5/0"
   ]
  },
  {
   "cell_type": "code",
   "execution_count": 15,
   "metadata": {
    "execution": {
     "iopub.execute_input": "2025-01-13T10:16:00.992560Z",
     "iopub.status.busy": "2025-01-13T10:16:00.992206Z",
     "iopub.status.idle": "2025-01-13T10:16:00.999290Z",
     "shell.execute_reply": "2025-01-13T10:16:00.998254Z",
     "shell.execute_reply.started": "2025-01-13T10:16:00.992534Z"
    },
    "trusted": true
   },
   "outputs": [],
   "source": [
    "new_model = tf.keras.Model(model.layers[0].input, model.layers[-2].output)"
   ]
  },
  {
   "cell_type": "code",
   "execution_count": 16,
   "metadata": {
    "execution": {
     "iopub.execute_input": "2025-01-13T10:16:04.690092Z",
     "iopub.status.busy": "2025-01-13T10:16:04.689804Z",
     "iopub.status.idle": "2025-01-13T10:16:25.626753Z",
     "shell.execute_reply": "2025-01-13T10:16:25.625814Z",
     "shell.execute_reply.started": "2025-01-13T10:16:04.690069Z"
    },
    "trusted": true
   },
   "outputs": [
    {
     "name": "stdout",
     "output_type": "stream",
     "text": [
      "\u001b[1m302/305\u001b[0m \u001b[32m━━━━━━━━━━━━━━━━━━━\u001b[0m\u001b[37m━\u001b[0m \u001b[1m0s\u001b[0m 62ms/step"
     ]
    },
    {
     "name": "stderr",
     "output_type": "stream",
     "text": [
      "I0000 00:00:1738217999.828965    8114 asm_compiler.cc:369] ptxas warning : Registers are spilled to local memory in function 'triton_gemm_dot_1307', 260 bytes spill stores, 260 bytes spill loads\n",
      "\n",
      "I0000 00:00:1738217999.928995    8119 asm_compiler.cc:369] ptxas warning : Registers are spilled to local memory in function 'triton_gemm_dot_1307', 440 bytes spill stores, 440 bytes spill loads\n",
      "\n"
     ]
    },
    {
     "name": "stdout",
     "output_type": "stream",
     "text": [
      "\u001b[1m305/305\u001b[0m \u001b[32m━━━━━━━━━━━━━━━━━━━━\u001b[0m\u001b[37m\u001b[0m \u001b[1m31s\u001b[0m 85ms/step\n"
     ]
    }
   ],
   "source": [
    "y_logit = new_model.predict(val_ds)"
   ]
  },
  {
   "cell_type": "code",
   "execution_count": 17,
   "metadata": {
    "execution": {
     "iopub.execute_input": "2025-01-13T10:17:21.086865Z",
     "iopub.status.busy": "2025-01-13T10:17:21.086546Z",
     "iopub.status.idle": "2025-01-13T10:17:36.374011Z",
     "shell.execute_reply": "2025-01-13T10:17:36.373065Z",
     "shell.execute_reply.started": "2025-01-13T10:17:21.086840Z"
    },
    "trusted": true
   },
   "outputs": [
    {
     "name": "stderr",
     "output_type": "stream",
     "text": [
      "2025-01-30 11:50:34.252674: W tensorflow/core/framework/local_rendezvous.cc:404] Local rendezvous is aborting with status: OUT_OF_RANGE: End of sequence\n"
     ]
    }
   ],
   "source": [
    "y_val = []\n",
    "for images, labels in val_ds:\n",
    "    y_val.extend(labels)\n",
    "y_val = np.array(y_val)"
   ]
  },
  {
   "cell_type": "code",
   "execution_count": 18,
   "metadata": {
    "execution": {
     "iopub.execute_input": "2025-01-13T10:17:38.489254Z",
     "iopub.status.busy": "2025-01-13T10:17:38.488946Z",
     "iopub.status.idle": "2025-01-13T10:17:39.056201Z",
     "shell.execute_reply": "2025-01-13T10:17:39.055308Z",
     "shell.execute_reply.started": "2025-01-13T10:17:38.489213Z"
    },
    "trusted": true
   },
   "outputs": [
    {
     "name": "stdout",
     "output_type": "stream",
     "text": [
      "Optimization terminated successfully.\n",
      "         Current function value: 0.136807\n",
      "         Iterations: 51\n",
      "         Function evaluations: 130\n"
     ]
    }
   ],
   "source": [
    "from scipy.special import softmax\n",
    "from sklearn.metrics import log_loss\n",
    "from scipy.optimize import minimize\n",
    "\n",
    "def scale_fun_ce(x, *args):\n",
    "    epsilon = 1e-8  # A small constant to prevent division by zero\n",
    "    t = x[0]\n",
    "    y_logit_scaled = y_logit / (t + epsilon)  # Add epsilon to avoid zero division\n",
    "    y_pred_inner = softmax(y_logit_scaled, axis=1)\n",
    "    return log_loss(y_val, y_pred_inner)\n",
    "\n",
    "min_obj = minimize(\n",
    "    scale_fun_ce, [10], method=\"Nelder-Mead\", options={\"xatol\": 1e-13, \"disp\": True}\n",
    ")"
   ]
  },
  {
   "cell_type": "code",
   "execution_count": 19,
   "metadata": {
    "execution": {
     "iopub.execute_input": "2025-01-13T10:17:43.272895Z",
     "iopub.status.busy": "2025-01-13T10:17:43.272599Z",
     "iopub.status.idle": "2025-01-13T10:17:43.277890Z",
     "shell.execute_reply": "2025-01-13T10:17:43.277083Z",
     "shell.execute_reply.started": "2025-01-13T10:17:43.272870Z"
    },
    "trusted": true
   },
   "outputs": [
    {
     "data": {
      "text/plain": [
       "2.2365336418151855"
      ]
     },
     "execution_count": 19,
     "metadata": {},
     "output_type": "execute_result"
    }
   ],
   "source": [
    "min_obj.x[0]"
   ]
  },
  {
   "cell_type": "code",
   "execution_count": 20,
   "metadata": {
    "execution": {
     "iopub.execute_input": "2025-01-13T10:17:45.586926Z",
     "iopub.status.busy": "2025-01-13T10:17:45.586615Z",
     "iopub.status.idle": "2025-01-13T10:18:01.227450Z",
     "shell.execute_reply": "2025-01-13T10:18:01.226759Z",
     "shell.execute_reply.started": "2025-01-13T10:17:45.586902Z"
    },
    "trusted": true
   },
   "outputs": [
    {
     "name": "stdout",
     "output_type": "stream",
     "text": [
      "\u001b[1m366/366\u001b[0m \u001b[32m━━━━━━━━━━━━━━━━━━━━\u001b[0m\u001b[37m\u001b[0m \u001b[1m24s\u001b[0m 64ms/step\n"
     ]
    }
   ],
   "source": [
    "y_logit_test = new_model.predict(test_ds)"
   ]
  },
  {
   "cell_type": "code",
   "execution_count": 21,
   "metadata": {
    "execution": {
     "iopub.execute_input": "2025-01-13T10:18:02.316897Z",
     "iopub.status.busy": "2025-01-13T10:18:02.316610Z",
     "iopub.status.idle": "2025-01-13T10:18:02.525370Z",
     "shell.execute_reply": "2025-01-13T10:18:02.524495Z",
     "shell.execute_reply.started": "2025-01-13T10:18:02.316874Z"
    },
    "trusted": true
   },
   "outputs": [
    {
     "data": {
      "image/png": "[encoded data removed]",
      "text/plain": [
       "<Figure size 500x500 with 1 Axes>"
      ]
     },
     "metadata": {},
     "output_type": "display_data"
    }
   ],
   "source": [
    "temp_scaled = y_logit_test/min_obj.x[0]\n",
    "y_pred_test_corr = softmax(temp_scaled, axis=1)\n",
    "prob_true, prob_pred = calibration_curve(y_test.flatten(), y_pred_test_corr.flatten(), n_bins=10)\n",
    "bin_sizes = np.histogram(a=y_pred.flatten(), range=(0, 1), bins=10)[0]\n",
    "plot_reliability_diagram(prob_true, prob_pred, \"(temp calibrated)\")"
   ]
  },
  {
   "cell_type": "code",
   "execution_count": 36,
   "metadata": {
    "execution": {
     "iopub.execute_input": "2025-01-13T10:18:19.962708Z",
     "iopub.status.busy": "2025-01-13T10:18:19.962409Z",
     "iopub.status.idle": "2025-01-13T10:18:23.443855Z",
     "shell.execute_reply": "2025-01-13T10:18:23.442926Z",
     "shell.execute_reply.started": "2025-01-13T10:18:19.962686Z"
    },
    "trusted": true
   },
   "outputs": [
    {
     "name": "stdout",
     "output_type": "stream",
     "text": [
      "\u001b[1m1/1\u001b[0m \u001b[32m━━━━━━━━━━━━━━━━━━━━\u001b[0m\u001b[37m\u001b[0m \u001b[1m0s\u001b[0m 40ms/step\n"
     ]
    },
    {
     "data": {
      "text/plain": [
       "0.83012253"
      ]
     },
     "execution_count": 36,
     "metadata": {},
     "output_type": "execute_result"
    }
   ],
   "source": [
    "black_image = np.zeros((224, 224, 3), np.uint8)\n",
    "red_image = np.zeros((224, 224, 3), np.uint8)\n",
    "red_image[..., 0] = 255\n",
    "green_image = np.zeros((224, 224, 3), np.uint8)\n",
    "green_image[..., 1] = 255\n",
    "blue_image = np.zeros((224, 224, 3), np.uint8)\n",
    "blue_image[..., 2] = 255\n",
    "model.predict(np.expand_dims(red_image, 0)).max()"
   ]
  },
  {
   "cell_type": "code",
   "execution_count": 28,
   "metadata": {
    "execution": {
     "iopub.execute_input": "2025-01-13T10:18:51.077389Z",
     "iopub.status.busy": "2025-01-13T10:18:51.077049Z",
     "iopub.status.idle": "2025-01-13T10:18:51.139136Z",
     "shell.execute_reply": "2025-01-13T10:18:51.138321Z",
     "shell.execute_reply.started": "2025-01-13T10:18:51.077360Z"
    },
    "trusted": true
   },
   "outputs": [
    {
     "name": "stdout",
     "output_type": "stream",
     "text": [
      "\u001b[1m1/1\u001b[0m \u001b[32m━━━━━━━━━━━━━━━━━━━━\u001b[0m\u001b[37m\u001b[0m \u001b[1m0s\u001b[0m 34ms/step\n"
     ]
    },
    {
     "data": {
      "text/plain": [
       "array([[4.1637540e-01, 5.8359104e-01, 3.3626140e-05]], dtype=float32)"
      ]
     },
     "execution_count": 28,
     "metadata": {},
     "output_type": "execute_result"
    }
   ],
   "source": [
    "model.predict(np.expand_dims(blue_image, 0))"
   ]
  },
  {
   "cell_type": "code",
   "execution_count": 47,
   "metadata": {
    "execution": {
     "iopub.execute_input": "2025-01-13T10:19:59.247100Z",
     "iopub.status.busy": "2025-01-13T10:19:59.246809Z",
     "iopub.status.idle": "2025-01-13T10:19:59.251176Z",
     "shell.execute_reply": "2025-01-13T10:19:59.250306Z",
     "shell.execute_reply.started": "2025-01-13T10:19:59.247076Z"
    },
    "trusted": true
   },
   "outputs": [
    {
     "name": "stdout",
     "output_type": "stream",
     "text": [
      "\u001b[1m1/1\u001b[0m \u001b[32m━━━━━━━━━━━━━━━━━━━━\u001b[0m\u001b[37m\u001b[0m \u001b[1m0s\u001b[0m 38ms/step\n",
      "\u001b[1m1/1\u001b[0m \u001b[32m━━━━━━━━━━━━━━━━━━━━\u001b[0m\u001b[37m\u001b[0m \u001b[1m0s\u001b[0m 38ms/step\n",
      "\u001b[1m1/1\u001b[0m \u001b[32m━━━━━━━━━━━━━━━━━━━━\u001b[0m\u001b[37m\u001b[0m \u001b[1m0s\u001b[0m 34ms/step\n",
      "\u001b[1m1/1\u001b[0m \u001b[32m━━━━━━━━━━━━━━━━━━━━\u001b[0m\u001b[37m\u001b[0m \u001b[1m0s\u001b[0m 33ms/step\n"
     ]
    }
   ],
   "source": [
    "pred_probas = {}\n",
    "test_images = {\"black\": black_image,\n",
    "               \"red\": red_image,\n",
    "               \"green\": green_image,\n",
    "               \"blue\": blue_image}\n",
    "for color_name, image in test_images.items():\n",
    "    y_logit = new_model.predict(np.expand_dims(image, 0))\n",
    "    temp_scaled = y_logit/min_obj.x[0]\n",
    "    y_pred_corr = softmax(temp_scaled, axis=1)\n",
    "    pred_probas[color_name] = y_pred_corr.max()"
   ]
  },
  {
   "cell_type": "code",
   "execution_count": 48,
   "metadata": {
    "execution": {
     "iopub.execute_input": "2025-01-13T10:20:03.749425Z",
     "iopub.status.busy": "2025-01-13T10:20:03.749090Z",
     "iopub.status.idle": "2025-01-13T10:20:03.754341Z",
     "shell.execute_reply": "2025-01-13T10:20:03.753611Z",
     "shell.execute_reply.started": "2025-01-13T10:20:03.749397Z"
    },
    "trusted": true
   },
   "outputs": [
    {
     "data": {
      "text/plain": [
       "{'black': 0.5985526, 'red': 0.6643663, 'green': 0.5092881, 'blue': 0.53401494}"
      ]
     },
     "execution_count": 48,
     "metadata": {},
     "output_type": "execute_result"
    }
   ],
   "source": [
    "pred_probas"
   ]
  },
  {
   "cell_type": "code",
   "execution_count": 35,
   "metadata": {
    "execution": {
     "iopub.execute_input": "2025-01-13T10:20:16.578004Z",
     "iopub.status.busy": "2025-01-13T10:20:16.577686Z",
     "iopub.status.idle": "2025-01-13T10:20:16.641493Z",
     "shell.execute_reply": "2025-01-13T10:20:16.640580Z",
     "shell.execute_reply.started": "2025-01-13T10:20:16.577981Z"
    },
    "trusted": true
   },
   "outputs": [
    {
     "name": "stdout",
     "output_type": "stream",
     "text": [
      "\u001b[1m1/1\u001b[0m \u001b[32m━━━━━━━━━━━━━━━━━━━━\u001b[0m\u001b[37m\u001b[0m \u001b[1m0s\u001b[0m 20ms/step\n"
     ]
    },
    {
     "data": {
      "text/plain": [
       "0.9979565"
      ]
     },
     "execution_count": 35,
     "metadata": {},
     "output_type": "execute_result"
    }
   ],
   "source": [
    "model.predict(np.expand_dims(blue_image, 0)).max()"
   ]
  },
  {
   "cell_type": "code",
   "execution_count": 36,
   "metadata": {
    "execution": {
     "iopub.execute_input": "2025-01-13T10:20:22.024507Z",
     "iopub.status.busy": "2025-01-13T10:20:22.024199Z",
     "iopub.status.idle": "2025-01-13T10:20:22.029594Z",
     "shell.execute_reply": "2025-01-13T10:20:22.028825Z",
     "shell.execute_reply.started": "2025-01-13T10:20:22.024482Z"
    },
    "trusted": true
   },
   "outputs": [
    {
     "data": {
      "text/plain": [
       "array([[0.04874307, 0.9338532 , 0.01740368]], dtype=float32)"
      ]
     },
     "execution_count": 36,
     "metadata": {},
     "output_type": "execute_result"
    }
   ],
   "source": [
    "y_pred_corr"
   ]
  },
  {
   "cell_type": "code",
   "execution_count": 37,
   "metadata": {
    "execution": {
     "iopub.execute_input": "2025-01-13T10:20:38.704341Z",
     "iopub.status.busy": "2025-01-13T10:20:38.704026Z",
     "iopub.status.idle": "2025-01-13T10:20:38.767274Z",
     "shell.execute_reply": "2025-01-13T10:20:38.766593Z",
     "shell.execute_reply.started": "2025-01-13T10:20:38.704316Z"
    },
    "trusted": true
   },
   "outputs": [
    {
     "name": "stdout",
     "output_type": "stream",
     "text": [
      "\u001b[1m1/1\u001b[0m \u001b[32m━━━━━━━━━━━━━━━━━━━━\u001b[0m\u001b[37m\u001b[0m \u001b[1m0s\u001b[0m 20ms/step\n"
     ]
    },
    {
     "data": {
      "text/plain": [
       "array([[1.8390043e-03, 9.9795651e-01, 2.0455774e-04]], dtype=float32)"
      ]
     },
     "execution_count": 37,
     "metadata": {},
     "output_type": "execute_result"
    }
   ],
   "source": [
    "model.predict(np.expand_dims(blue_image, 0))"
   ]
  },
  {
   "cell_type": "code",
   "execution_count": null,
   "metadata": {
    "trusted": true
   },
   "outputs": [],
   "source": []
  }
 ],
 "metadata": {
  "kaggle": {
   "accelerator": "gpu",
   "dataSources": [],
   "dockerImageVersionId": 30823,
   "isGpuEnabled": true,
   "isInternetEnabled": true,
   "language": "python",
   "sourceType": "notebook"
  },
  "kernelspec": {
   "display_name": "3.10.14",
   "language": "python",
   "name": "python3"
  },
  "language_info": {
   "codemirror_mode": {
    "name": "ipython",
    "version": 3
   },
   "file_extension": ".py",
   "mimetype": "text/x-python",
   "name": "python",
   "nbconvert_exporter": "python",
   "pygments_lexer": "ipython3",
   "version": "3.10.14"
  }
 },
 "nbformat": 4,
 "nbformat_minor": 4
}
