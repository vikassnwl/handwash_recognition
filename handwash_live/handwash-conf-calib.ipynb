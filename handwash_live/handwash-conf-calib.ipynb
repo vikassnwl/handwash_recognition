{
 "cells": [
  {
   "cell_type": "code",
   "execution_count": 5,
   "metadata": {
    "execution": {
     "iopub.execute_input": "2025-01-18T12:29:30.787461Z",
     "iopub.status.busy": "2025-01-18T12:29:30.787138Z",
     "iopub.status.idle": "2025-01-18T12:29:34.403510Z",
     "shell.execute_reply": "2025-01-18T12:29:34.402364Z",
     "shell.execute_reply.started": "2025-01-18T12:29:30.787431Z"
    },
    "trusted": true
   },
   "outputs": [
    {
     "name": "stdout",
     "output_type": "stream",
     "text": [
      "Requirement already satisfied: mlu_tools in /home/vikas/Lab/handwash_recognition/env/lib/python3.10/site-packages (0.0.29)\n",
      "Collecting mlu_tools\n",
      "  Downloading mlu_tools-0.0.31-py3-none-any.whl (60 kB)\n",
      "\u001b[2K     \u001b[38;2;114;156;31m━━━━━━━━━━━━━━━━━━━━━━━━━━━━━━━━━━━━━━━\u001b[0m \u001b[32m60.9/60.9 kB\u001b[0m \u001b[31m955.4 kB/s\u001b[0m eta \u001b[36m0:00:00\u001b[0m31m1.3 MB/s\u001b[0m eta \u001b[36m0:00:01\u001b[0m\n",
      "\u001b[?25hRequirement already satisfied: tensorflow-io-gcs-filesystem==0.37.1 in /home/vikas/Lab/handwash_recognition/env/lib/python3.10/site-packages (from mlu_tools) (0.37.1)\n",
      "Requirement already satisfied: opencv-python==4.10.0.84 in /home/vikas/Lab/handwash_recognition/env/lib/python3.10/site-packages (from mlu_tools) (4.10.0.84)\n",
      "Requirement already satisfied: typing-extensions==4.12.2 in /home/vikas/Lab/handwash_recognition/env/lib/python3.10/site-packages (from mlu_tools) (4.12.2)\n",
      "Requirement already satisfied: gdown==5.2.0 in /home/vikas/Lab/handwash_recognition/env/lib/python3.10/site-packages (from mlu_tools) (5.2.0)\n",
      "Requirement already satisfied: psutil==6.1.0 in /home/vikas/Lab/handwash_recognition/env/lib/python3.10/site-packages (from mlu_tools) (6.1.0)\n",
      "Requirement already satisfied: sounddevice==0.5.1 in /home/vikas/Lab/handwash_recognition/env/lib/python3.10/site-packages (from mlu_tools) (0.5.1)\n",
      "Requirement already satisfied: pyzmq==26.2.0 in /home/vikas/Lab/handwash_recognition/env/lib/python3.10/site-packages (from mlu_tools) (26.2.0)\n",
      "Requirement already satisfied: platformdirs==4.3.6 in /home/vikas/Lab/handwash_recognition/env/lib/python3.10/site-packages (from mlu_tools) (4.3.6)\n",
      "Requirement already satisfied: tensorboard-data-server==0.7.2 in /home/vikas/Lab/handwash_recognition/env/lib/python3.10/site-packages (from mlu_tools) (0.7.2)\n",
      "Requirement already satisfied: flatbuffers==24.3.25 in /home/vikas/Lab/handwash_recognition/env/lib/python3.10/site-packages (from mlu_tools) (24.3.25)\n",
      "Requirement already satisfied: astunparse==1.6.3 in /home/vikas/Lab/handwash_recognition/env/lib/python3.10/site-packages (from mlu_tools) (1.6.3)\n",
      "Requirement already satisfied: debugpy==1.8.11 in /home/vikas/Lab/handwash_recognition/env/lib/python3.10/site-packages (from mlu_tools) (1.8.11)\n",
      "Requirement already satisfied: opt-einsum==3.4.0 in /home/vikas/Lab/handwash_recognition/env/lib/python3.10/site-packages (from mlu_tools) (3.4.0)\n",
      "Requirement already satisfied: parso==0.8.4 in /home/vikas/Lab/handwash_recognition/env/lib/python3.10/site-packages (from mlu_tools) (0.8.4)\n",
      "Requirement already satisfied: certifi==2024.12.14 in /home/vikas/Lab/handwash_recognition/env/lib/python3.10/site-packages (from mlu_tools) (2024.12.14)\n",
      "Requirement already satisfied: beautifulsoup4==4.12.3 in /home/vikas/Lab/handwash_recognition/env/lib/python3.10/site-packages (from mlu_tools) (4.12.3)\n",
      "Requirement already satisfied: idna==3.10 in /home/vikas/Lab/handwash_recognition/env/lib/python3.10/site-packages (from mlu_tools) (3.10)\n",
      "Requirement already satisfied: pycparser==2.22 in /home/vikas/Lab/handwash_recognition/env/lib/python3.10/site-packages (from mlu_tools) (2.22)\n",
      "Requirement already satisfied: namex==0.0.8 in /home/vikas/Lab/handwash_recognition/env/lib/python3.10/site-packages (from mlu_tools) (0.0.8)\n",
      "Requirement already satisfied: mdurl==0.1.2 in /home/vikas/Lab/handwash_recognition/env/lib/python3.10/site-packages (from mlu_tools) (0.1.2)\n",
      "Requirement already satisfied: stack-data==0.6.3 in /home/vikas/Lab/handwash_recognition/env/lib/python3.10/site-packages (from mlu_tools) (0.6.3)\n",
      "Requirement already satisfied: pyparsing==3.2.0 in /home/vikas/Lab/handwash_recognition/env/lib/python3.10/site-packages (from mlu_tools) (3.2.0)\n",
      "Requirement already satisfied: jaxlib==0.4.34 in /home/vikas/Lab/handwash_recognition/env/lib/python3.10/site-packages (from mlu_tools) (0.4.34)\n",
      "Requirement already satisfied: packaging==24.2 in /home/vikas/Lab/handwash_recognition/env/lib/python3.10/site-packages (from mlu_tools) (24.2)\n",
      "Requirement already satisfied: wrapt==1.17.0 in /home/vikas/Lab/handwash_recognition/env/lib/python3.10/site-packages (from mlu_tools) (1.17.0)\n",
      "Requirement already satisfied: optree==0.13.1 in /home/vikas/Lab/handwash_recognition/env/lib/python3.10/site-packages (from mlu_tools) (0.13.1)\n",
      "Requirement already satisfied: gast==0.6.0 in /home/vikas/Lab/handwash_recognition/env/lib/python3.10/site-packages (from mlu_tools) (0.6.0)\n",
      "Requirement already satisfied: pexpect==4.9.0 in /home/vikas/Lab/handwash_recognition/env/lib/python3.10/site-packages (from mlu_tools) (4.9.0)\n",
      "Requirement already satisfied: sentencepiece==0.2.0 in /home/vikas/Lab/handwash_recognition/env/lib/python3.10/site-packages (from mlu_tools) (0.2.0)\n",
      "Requirement already satisfied: fonttools==4.55.3 in /home/vikas/Lab/handwash_recognition/env/lib/python3.10/site-packages (from mlu_tools) (4.55.3)\n",
      "Requirement already satisfied: markdown-it-py==3.0.0 in /home/vikas/Lab/handwash_recognition/env/lib/python3.10/site-packages (from mlu_tools) (3.0.0)\n",
      "Requirement already satisfied: jax==0.4.34 in /home/vikas/Lab/handwash_recognition/env/lib/python3.10/site-packages (from mlu_tools) (0.4.34)\n",
      "Requirement already satisfied: tensorboard==2.16.2 in /home/vikas/Lab/handwash_recognition/env/lib/python3.10/site-packages (from mlu_tools) (2.16.2)\n",
      "Requirement already satisfied: decorator==5.1.1 in /home/vikas/Lab/handwash_recognition/env/lib/python3.10/site-packages (from mlu_tools) (5.1.1)\n",
      "Requirement already satisfied: scipy==1.14.1 in /home/vikas/Lab/handwash_recognition/env/lib/python3.10/site-packages (from mlu_tools) (1.14.1)\n",
      "Requirement already satisfied: kiwisolver==1.4.7 in /home/vikas/Lab/handwash_recognition/env/lib/python3.10/site-packages (from mlu_tools) (1.4.7)\n",
      "Requirement already satisfied: python-dateutil==2.9.0.post0 in /home/vikas/Lab/handwash_recognition/env/lib/python3.10/site-packages (from mlu_tools) (2.9.0.post0)\n",
      "Requirement already satisfied: matplotlib==3.10.0 in /home/vikas/Lab/handwash_recognition/env/lib/python3.10/site-packages (from mlu_tools) (3.10.0)\n",
      "Requirement already satisfied: tqdm==4.67.1 in /home/vikas/Lab/handwash_recognition/env/lib/python3.10/site-packages (from mlu_tools) (4.67.1)\n",
      "Requirement already satisfied: pure-eval==0.2.3 in /home/vikas/Lab/handwash_recognition/env/lib/python3.10/site-packages (from mlu_tools) (0.2.3)\n",
      "Requirement already satisfied: nest-asyncio==1.6.0 in /home/vikas/Lab/handwash_recognition/env/lib/python3.10/site-packages (from mlu_tools) (1.6.0)\n",
      "Requirement already satisfied: MarkupSafe==3.0.2 in /home/vikas/Lab/handwash_recognition/env/lib/python3.10/site-packages (from mlu_tools) (3.0.2)\n",
      "Requirement already satisfied: rich==13.9.4 in /home/vikas/Lab/handwash_recognition/env/lib/python3.10/site-packages (from mlu_tools) (13.9.4)\n",
      "Requirement already satisfied: traitlets==5.14.3 in /home/vikas/Lab/handwash_recognition/env/lib/python3.10/site-packages (from mlu_tools) (5.14.3)\n",
      "Requirement already satisfied: wcwidth==0.2.13 in /home/vikas/Lab/handwash_recognition/env/lib/python3.10/site-packages (from mlu_tools) (0.2.13)\n",
      "Requirement already satisfied: charset-normalizer==3.4.0 in /home/vikas/Lab/handwash_recognition/env/lib/python3.10/site-packages (from mlu_tools) (3.4.0)\n",
      "Requirement already satisfied: pytz==2024.2 in /home/vikas/Lab/handwash_recognition/env/lib/python3.10/site-packages (from mlu_tools) (2024.2)\n",
      "Requirement already satisfied: mediapipe==0.10.20 in /home/vikas/Lab/handwash_recognition/env/lib/python3.10/site-packages (from mlu_tools) (0.10.20)\n",
      "Requirement already satisfied: soupsieve==2.6 in /home/vikas/Lab/handwash_recognition/env/lib/python3.10/site-packages (from mlu_tools) (2.6)\n",
      "Requirement already satisfied: grpcio==1.68.1 in /home/vikas/Lab/handwash_recognition/env/lib/python3.10/site-packages (from mlu_tools) (1.68.1)\n",
      "Requirement already satisfied: asttokens==3.0.0 in /home/vikas/Lab/handwash_recognition/env/lib/python3.10/site-packages (from mlu_tools) (3.0.0)\n",
      "Requirement already satisfied: Markdown==3.7 in /home/vikas/Lab/handwash_recognition/env/lib/python3.10/site-packages (from mlu_tools) (3.7)\n",
      "Requirement already satisfied: absl-py==2.1.0 in /home/vikas/Lab/handwash_recognition/env/lib/python3.10/site-packages (from mlu_tools) (2.1.0)\n",
      "Requirement already satisfied: tenacity==5.1.5 in /home/vikas/Lab/handwash_recognition/env/lib/python3.10/site-packages (from mlu_tools) (5.1.5)\n",
      "Requirement already satisfied: tzdata==2024.2 in /home/vikas/Lab/handwash_recognition/env/lib/python3.10/site-packages (from mlu_tools) (2024.2)\n",
      "Collecting mega-x==1.0.9.dev0\n",
      "  Downloading mega_x-1.0.9.dev0-py2.py3-none-any.whl (19 kB)\n",
      "Requirement already satisfied: attrs==24.3.0 in /home/vikas/Lab/handwash_recognition/env/lib/python3.10/site-packages (from mlu_tools) (24.3.0)\n",
      "Requirement already satisfied: requests==2.32.3 in /home/vikas/Lab/handwash_recognition/env/lib/python3.10/site-packages (from mlu_tools) (2.32.3)\n",
      "Requirement already satisfied: PySocks==1.7.1 in /home/vikas/Lab/handwash_recognition/env/lib/python3.10/site-packages (from mlu_tools) (1.7.1)\n",
      "Requirement already satisfied: jedi==0.19.2 in /home/vikas/Lab/handwash_recognition/env/lib/python3.10/site-packages (from mlu_tools) (0.19.2)\n",
      "Requirement already satisfied: termcolor==2.5.0 in /home/vikas/Lab/handwash_recognition/env/lib/python3.10/site-packages (from mlu_tools) (2.5.0)\n",
      "Requirement already satisfied: ml-dtypes==0.3.2 in /home/vikas/Lab/handwash_recognition/env/lib/python3.10/site-packages (from mlu_tools) (0.3.2)\n",
      "Requirement already satisfied: contourpy==1.3.1 in /home/vikas/Lab/handwash_recognition/env/lib/python3.10/site-packages (from mlu_tools) (1.3.1)\n",
      "Requirement already satisfied: cycler==0.12.1 in /home/vikas/Lab/handwash_recognition/env/lib/python3.10/site-packages (from mlu_tools) (0.12.1)\n",
      "Requirement already satisfied: executing==2.1.0 in /home/vikas/Lab/handwash_recognition/env/lib/python3.10/site-packages (from mlu_tools) (2.1.0)\n",
      "Requirement already satisfied: pandas==2.2.3 in /home/vikas/Lab/handwash_recognition/env/lib/python3.10/site-packages (from mlu_tools) (2.2.3)\n",
      "Requirement already satisfied: jupyter-core==5.7.2 in /home/vikas/Lab/handwash_recognition/env/lib/python3.10/site-packages (from mlu_tools) (5.7.2)\n",
      "Requirement already satisfied: protobuf==4.25.5 in /home/vikas/Lab/handwash_recognition/env/lib/python3.10/site-packages (from mlu_tools) (4.25.5)\n",
      "Requirement already satisfied: pathlib==1.0.1 in /home/vikas/Lab/handwash_recognition/env/lib/python3.10/site-packages (from mlu_tools) (1.0.1)\n",
      "Requirement already satisfied: cffi==1.17.1 in /home/vikas/Lab/handwash_recognition/env/lib/python3.10/site-packages (from mlu_tools) (1.17.1)\n",
      "Requirement already satisfied: tensorflow==2.16.1 in /home/vikas/Lab/handwash_recognition/env/lib/python3.10/site-packages (from mlu_tools) (2.16.1)\n",
      "Requirement already satisfied: exceptiongroup==1.2.2 in /home/vikas/Lab/handwash_recognition/env/lib/python3.10/site-packages (from mlu_tools) (1.2.2)\n",
      "Requirement already satisfied: ptyprocess==0.7.0 in /home/vikas/Lab/handwash_recognition/env/lib/python3.10/site-packages (from mlu_tools) (0.7.0)\n",
      "Requirement already satisfied: Werkzeug==3.1.3 in /home/vikas/Lab/handwash_recognition/env/lib/python3.10/site-packages (from mlu_tools) (3.1.3)\n",
      "Requirement already satisfied: libclang==18.1.1 in /home/vikas/Lab/handwash_recognition/env/lib/python3.10/site-packages (from mlu_tools) (18.1.1)\n",
      "Requirement already satisfied: jupyter-client==8.6.3 in /home/vikas/Lab/handwash_recognition/env/lib/python3.10/site-packages (from mlu_tools) (8.6.3)\n",
      "Requirement already satisfied: Pygments==2.18.0 in /home/vikas/Lab/handwash_recognition/env/lib/python3.10/site-packages (from mlu_tools) (2.18.0)\n",
      "Requirement already satisfied: urllib3==2.2.3 in /home/vikas/Lab/handwash_recognition/env/lib/python3.10/site-packages (from mlu_tools) (2.2.3)\n",
      "Requirement already satisfied: keras==3.3.3 in /home/vikas/Lab/handwash_recognition/env/lib/python3.10/site-packages (from mlu_tools) (3.3.3)\n",
      "Requirement already satisfied: h5py==3.12.1 in /home/vikas/Lab/handwash_recognition/env/lib/python3.10/site-packages (from mlu_tools) (3.12.1)\n",
      "Requirement already satisfied: tornado==6.4.2 in /home/vikas/Lab/handwash_recognition/env/lib/python3.10/site-packages (from mlu_tools) (6.4.2)\n",
      "Requirement already satisfied: comm==0.2.2 in /home/vikas/Lab/handwash_recognition/env/lib/python3.10/site-packages (from mlu_tools) (0.2.2)\n",
      "Requirement already satisfied: matplotlib-inline==0.1.7 in /home/vikas/Lab/handwash_recognition/env/lib/python3.10/site-packages (from mlu_tools) (0.1.7)\n",
      "Requirement already satisfied: opencv-contrib-python==4.11.0.86 in /home/vikas/Lab/handwash_recognition/env/lib/python3.10/site-packages (from mlu_tools) (4.11.0.86)\n",
      "Requirement already satisfied: yt-dlp==2024.12.23 in /home/vikas/Lab/handwash_recognition/env/lib/python3.10/site-packages (from mlu_tools) (2024.12.23)\n",
      "Requirement already satisfied: six==1.17.0 in /home/vikas/Lab/handwash_recognition/env/lib/python3.10/site-packages (from mlu_tools) (1.17.0)\n",
      "Requirement already satisfied: google-pasta==0.2.0 in /home/vikas/Lab/handwash_recognition/env/lib/python3.10/site-packages (from mlu_tools) (0.2.0)\n",
      "Requirement already satisfied: ipykernel==6.29.5 in /home/vikas/Lab/handwash_recognition/env/lib/python3.10/site-packages (from mlu_tools) (6.29.5)\n",
      "Requirement already satisfied: pillow==11.0.0 in /home/vikas/Lab/handwash_recognition/env/lib/python3.10/site-packages (from mlu_tools) (11.0.0)\n",
      "Requirement already satisfied: prompt-toolkit==3.0.48 in /home/vikas/Lab/handwash_recognition/env/lib/python3.10/site-packages (from mlu_tools) (3.0.48)\n",
      "Requirement already satisfied: filelock==3.16.1 in /home/vikas/Lab/handwash_recognition/env/lib/python3.10/site-packages (from mlu_tools) (3.16.1)\n",
      "Requirement already satisfied: ipython==8.30.0 in /home/vikas/Lab/handwash_recognition/env/lib/python3.10/site-packages (from mlu_tools) (8.30.0)\n",
      "Requirement already satisfied: pycryptodome==3.21.0 in /home/vikas/Lab/handwash_recognition/env/lib/python3.10/site-packages (from mlu_tools) (3.21.0)\n",
      "Requirement already satisfied: numpy==1.26.4 in /home/vikas/Lab/handwash_recognition/env/lib/python3.10/site-packages (from mlu_tools) (1.26.4)\n",
      "Requirement already satisfied: wheel<1.0,>=0.23.0 in /home/vikas/Lab/handwash_recognition/env/lib/python3.10/site-packages (from astunparse==1.6.3->mlu_tools) (0.45.1)\n",
      "Requirement already satisfied: setuptools>=41.0.0 in /home/vikas/Lab/handwash_recognition/env/lib/python3.10/site-packages (from tensorboard==2.16.2->mlu_tools) (65.5.0)\n",
      "Installing collected packages: mega-x, mlu_tools\n",
      "  Attempting uninstall: mlu_tools\n",
      "    Found existing installation: mlu-tools 0.0.29\n",
      "    Uninstalling mlu-tools-0.0.29:\n",
      "      Successfully uninstalled mlu-tools-0.0.29\n",
      "Successfully installed mega-x-1.0.9.dev0 mlu_tools-0.0.31\n",
      "\n",
      "\u001b[1m[\u001b[0m\u001b[34;49mnotice\u001b[0m\u001b[1;39;49m]\u001b[0m\u001b[39;49m A new release of pip is available: \u001b[0m\u001b[31;49m23.0.1\u001b[0m\u001b[39;49m -> \u001b[0m\u001b[32;49m25.0\u001b[0m\n",
      "\u001b[1m[\u001b[0m\u001b[34;49mnotice\u001b[0m\u001b[1;39;49m]\u001b[0m\u001b[39;49m To update, run: \u001b[0m\u001b[32;49mpip install --upgrade pip\u001b[0m\n"
     ]
    }
   ],
   "source": [
    "!pip install mlu_tools -U"
   ]
  },
  {
   "cell_type": "code",
   "execution_count": 6,
   "metadata": {
    "execution": {
     "iopub.execute_input": "2025-01-18T12:29:38.274242Z",
     "iopub.status.busy": "2025-01-18T12:29:38.273932Z",
     "iopub.status.idle": "2025-01-18T12:29:38.280468Z",
     "shell.execute_reply": "2025-01-18T12:29:38.279534Z",
     "shell.execute_reply.started": "2025-01-18T12:29:38.274220Z"
    },
    "trusted": true
   },
   "outputs": [],
   "source": [
    "import tensorflow as tf\n",
    "import mlu_tools.utils as mlutils\n",
    "from mlu_tools.preprocessing import vids2frames\n",
    "import os\n",
    "import numpy as np\n",
    "import cv2\n",
    "from sklearn.calibration import calibration_curve\n",
    "import matplotlib.pyplot as plt\n",
    "from mlu_tools.plotting import grid_plot\n",
    "from mlu_tools.keras.custom_callbacks import CustomModelCheckpoint"
   ]
  },
  {
   "cell_type": "code",
   "execution_count": 7,
   "metadata": {},
   "outputs": [
    {
     "name": "stdout",
     "output_type": "stream",
     "text": [
      "Requirement already satisfied: scikit-learn in /home/vikas/Lab/handwash_recognition/env/lib/python3.10/site-packages (1.6.1)\n",
      "Requirement already satisfied: numpy>=1.19.5 in /home/vikas/Lab/handwash_recognition/env/lib/python3.10/site-packages (from scikit-learn) (1.26.4)\n",
      "Requirement already satisfied: joblib>=1.2.0 in /home/vikas/Lab/handwash_recognition/env/lib/python3.10/site-packages (from scikit-learn) (1.4.2)\n",
      "Requirement already satisfied: scipy>=1.6.0 in /home/vikas/Lab/handwash_recognition/env/lib/python3.10/site-packages (from scikit-learn) (1.14.1)\n",
      "Requirement already satisfied: threadpoolctl>=3.1.0 in /home/vikas/Lab/handwash_recognition/env/lib/python3.10/site-packages (from scikit-learn) (3.5.0)\n",
      "\n",
      "\u001b[1m[\u001b[0m\u001b[34;49mnotice\u001b[0m\u001b[1;39;49m]\u001b[0m\u001b[39;49m A new release of pip is available: \u001b[0m\u001b[31;49m23.0.1\u001b[0m\u001b[39;49m -> \u001b[0m\u001b[32;49m25.0\u001b[0m\n",
      "\u001b[1m[\u001b[0m\u001b[34;49mnotice\u001b[0m\u001b[1;39;49m]\u001b[0m\u001b[39;49m To update, run: \u001b[0m\u001b[32;49mpip install --upgrade pip\u001b[0m\n"
     ]
    }
   ],
   "source": [
    "!pip install scikit-learn"
   ]
  },
  {
   "cell_type": "code",
   "execution_count": 8,
   "metadata": {
    "execution": {
     "iopub.execute_input": "2025-01-18T12:30:43.922050Z",
     "iopub.status.busy": "2025-01-18T12:30:43.921639Z",
     "iopub.status.idle": "2025-01-18T12:30:51.397380Z",
     "shell.execute_reply": "2025-01-18T12:30:51.396526Z",
     "shell.execute_reply.started": "2025-01-18T12:30:43.922017Z"
    },
    "trusted": true
   },
   "outputs": [
    {
     "name": "stdout",
     "output_type": "stream",
     "text": [
      "File already exists!\n"
     ]
    }
   ],
   "source": [
    "dataset_url = \"https://mega.nz/file/O2hxiThK#7-j01wxR6tDsTkO5YtWjUQH_QOTiOHP3QK7WIuxCEP0\"\n",
    "dataset_path = \"datasets/dataset_merged.zip\"\n",
    "mlutils.download(dataset_url, dataset_path, download_from=\"mega\")"
   ]
  },
  {
   "cell_type": "code",
   "execution_count": 9,
   "metadata": {
    "execution": {
     "iopub.execute_input": "2025-01-18T12:30:51.398865Z",
     "iopub.status.busy": "2025-01-18T12:30:51.398607Z",
     "iopub.status.idle": "2025-01-18T12:30:52.197108Z",
     "shell.execute_reply": "2025-01-18T12:30:52.196271Z",
     "shell.execute_reply.started": "2025-01-18T12:30:51.398843Z"
    },
    "trusted": true
   },
   "outputs": [
    {
     "name": "stdout",
     "output_type": "stream",
     "text": [
      "./dataset_merged already exists. Skipping unpacking.\n"
     ]
    }
   ],
   "source": [
    "mlutils.unpack_archive(dataset_path)"
   ]
  },
  {
   "cell_type": "code",
   "execution_count": 24,
   "metadata": {
    "execution": {
     "iopub.execute_input": "2025-01-18T12:30:54.981957Z",
     "iopub.status.busy": "2025-01-18T12:30:54.981635Z",
     "iopub.status.idle": "2025-01-18T12:32:28.736416Z",
     "shell.execute_reply": "2025-01-18T12:32:28.735439Z",
     "shell.execute_reply.started": "2025-01-18T12:30:54.981926Z"
    },
    "trusted": true
   },
   "outputs": [],
   "source": [
    "vids_dir = \"datasets/dataset_merged/videos\"\n",
    "frames_dir = \"datasets/dataset_merged/frames\"\n",
    "vids2frames(vids_dir, frames_dir)"
   ]
  },
  {
   "cell_type": "code",
   "execution_count": 10,
   "metadata": {
    "execution": {
     "iopub.execute_input": "2025-01-18T12:40:59.985053Z",
     "iopub.status.busy": "2025-01-18T12:40:59.984659Z",
     "iopub.status.idle": "2025-01-18T12:40:59.989208Z",
     "shell.execute_reply": "2025-01-18T12:40:59.988209Z",
     "shell.execute_reply.started": "2025-01-18T12:40:59.985020Z"
    },
    "trusted": true
   },
   "outputs": [],
   "source": [
    "train_data_dir = \"datasets/dataset_merged/frames/train\"\n",
    "val_data_dir = \"datasets/dataset_merged/frames/val\"\n",
    "test_data_dir = \"datasets/dataset_merged/frames/test\""
   ]
  },
  {
   "cell_type": "code",
   "execution_count": 11,
   "metadata": {
    "execution": {
     "iopub.execute_input": "2025-01-18T12:41:05.084064Z",
     "iopub.status.busy": "2025-01-18T12:41:05.083725Z",
     "iopub.status.idle": "2025-01-18T12:41:05.096538Z",
     "shell.execute_reply": "2025-01-18T12:41:05.095727Z",
     "shell.execute_reply.started": "2025-01-18T12:41:05.084034Z"
    },
    "trusted": true
   },
   "outputs": [],
   "source": [
    "# calculating weights_dict\n",
    "train_subdir_file_cnts = []\n",
    "for i in range(3):\n",
    "    train_subdir_file_cnts.append(len(os.listdir(f\"{train_data_dir}/{i}\")))\n",
    "train_subdir_file_cnts = np.array(train_subdir_file_cnts)\n",
    "\n",
    "weights_dict = dict(enumerate(train_subdir_file_cnts.mean()/train_subdir_file_cnts))"
   ]
  },
  {
   "cell_type": "code",
   "execution_count": 12,
   "metadata": {
    "execution": {
     "iopub.execute_input": "2025-01-18T12:41:07.153782Z",
     "iopub.status.busy": "2025-01-18T12:41:07.153509Z",
     "iopub.status.idle": "2025-01-18T12:41:07.159348Z",
     "shell.execute_reply": "2025-01-18T12:41:07.158513Z",
     "shell.execute_reply.started": "2025-01-18T12:41:07.153759Z"
    },
    "trusted": true
   },
   "outputs": [
    {
     "data": {
      "text/plain": [
       "array([3671, 5415, 5175])"
      ]
     },
     "execution_count": 12,
     "metadata": {},
     "output_type": "execute_result"
    }
   ],
   "source": [
    "train_subdir_file_cnts"
   ]
  },
  {
   "cell_type": "code",
   "execution_count": 21,
   "metadata": {
    "execution": {
     "iopub.execute_input": "2025-01-18T12:41:09.171628Z",
     "iopub.status.busy": "2025-01-18T12:41:09.171304Z",
     "iopub.status.idle": "2025-01-18T12:41:09.175395Z",
     "shell.execute_reply": "2025-01-18T12:41:09.174636Z",
     "shell.execute_reply.started": "2025-01-18T12:41:09.171595Z"
    },
    "trusted": true
   },
   "outputs": [],
   "source": [
    "from mlu_tools.preprocessing import perform_undersampling, perform_oversampling"
   ]
  },
  {
   "cell_type": "code",
   "execution_count": 22,
   "metadata": {
    "execution": {
     "iopub.execute_input": "2025-01-18T12:41:12.114708Z",
     "iopub.status.busy": "2025-01-18T12:41:12.114427Z",
     "iopub.status.idle": "2025-01-18T12:48:44.693277Z",
     "shell.execute_reply": "2025-01-18T12:48:44.691391Z",
     "shell.execute_reply.started": "2025-01-18T12:41:12.114686Z"
    },
    "trusted": true
   },
   "outputs": [
    {
     "name": "stdout",
     "output_type": "stream",
     "text": [
      "Found 5415 validated image filenames.\n",
      "Found 3671 validated image filenames.\n"
     ]
    },
    {
     "name": "stderr",
     "output_type": "stream",
     "text": [
      "[ WARN:0@2560.915] global loadsave.cpp:848 imwrite_ Unsupported depth image for selected encoder is fallbacked to CV_8U.\n"
     ]
    },
    {
     "name": "stdout",
     "output_type": "stream",
     "text": [
      "Found 5175 validated image filenames.\n",
      "Found 3250 validated image filenames.\n",
      "Found 3008 validated image filenames.\n",
      "Found 2906 validated image filenames.\n",
      "Found 3898 validated image filenames.\n",
      "Found 2082 validated image filenames.\n",
      "Found 2622 validated image filenames.\n"
     ]
    }
   ],
   "source": [
    "perform_oversampling(train_data_dir, target_size=(480, 720))\n",
    "perform_oversampling(val_data_dir, target_size=(480, 720))\n",
    "perform_oversampling(test_data_dir, target_size=(480, 720))"
   ]
  },
  {
   "cell_type": "code",
   "execution_count": 25,
   "metadata": {
    "execution": {
     "iopub.execute_input": "2025-01-18T12:49:00.829906Z",
     "iopub.status.busy": "2025-01-18T12:49:00.829587Z",
     "iopub.status.idle": "2025-01-18T12:49:00.894005Z",
     "shell.execute_reply": "2025-01-18T12:49:00.893094Z",
     "shell.execute_reply.started": "2025-01-18T12:49:00.829856Z"
    },
    "trusted": true
   },
   "outputs": [
    {
     "name": "stdout",
     "output_type": "stream",
     "text": [
      "└── frames\n",
      "    ├── test\n",
      "    │   ├── 0 - 2082\n",
      "    │   ├── 1 - 3898\n",
      "    │   └── 2 - 2622\n",
      "    ├── test_oversampled\n",
      "    │   ├── 0 - 3898\n",
      "    │   ├── 1 - 3898\n",
      "    │   └── 2 - 3898\n",
      "    ├── train\n",
      "    │   ├── 0 - 3671\n",
      "    │   ├── 1 - 5415\n",
      "    │   └── 2 - 5175\n",
      "    ├── train_oversampled\n",
      "    │   ├── 0 - 5415\n",
      "    │   ├── 1 - 5415\n",
      "    │   └── 2 - 5415\n",
      "    ├── val\n",
      "    │   ├── 0 - 3008\n",
      "    │   ├── 1 - 3250\n",
      "    │   └── 2 - 2906\n",
      "    └── val_oversampled\n",
      "        ├── 0 - 3250\n",
      "        ├── 1 - 3250\n",
      "        └── 2 - 3250\n"
     ]
    }
   ],
   "source": [
    "mlutils.tree(frames_dir)"
   ]
  },
  {
   "cell_type": "code",
   "execution_count": 5,
   "metadata": {
    "execution": {
     "iopub.execute_input": "2025-01-18T12:49:13.900154Z",
     "iopub.status.busy": "2025-01-18T12:49:13.899648Z",
     "iopub.status.idle": "2025-01-18T12:49:13.904842Z",
     "shell.execute_reply": "2025-01-18T12:49:13.903799Z",
     "shell.execute_reply.started": "2025-01-18T12:49:13.900108Z"
    },
    "trusted": true
   },
   "outputs": [],
   "source": [
    "train_data_dir_oversampled = \"datasets/dataset_merged/frames/train_oversampled\"\n",
    "val_data_dir_oversampled = \"datasets/dataset_merged/frames/val_oversampled\"\n",
    "test_data_dir_oversampled = \"datasets/dataset_merged/frames/test_oversampled\""
   ]
  },
  {
   "cell_type": "code",
   "execution_count": 6,
   "metadata": {
    "execution": {
     "iopub.execute_input": "2025-01-18T12:49:23.534376Z",
     "iopub.status.busy": "2025-01-18T12:49:23.534057Z",
     "iopub.status.idle": "2025-01-18T12:49:25.877623Z",
     "shell.execute_reply": "2025-01-18T12:49:25.876769Z",
     "shell.execute_reply.started": "2025-01-18T12:49:23.534349Z"
    },
    "trusted": true
   },
   "outputs": [
    {
     "name": "stdout",
     "output_type": "stream",
     "text": [
      "Found 16245 files belonging to 3 classes.\n",
      "Found 9750 files belonging to 3 classes.\n",
      "Found 11694 files belonging to 3 classes.\n"
     ]
    }
   ],
   "source": [
    "train_ds = tf.keras.preprocessing.image_dataset_from_directory(\n",
    "    train_data_dir_oversampled, \n",
    "    image_size=(480, 720), \n",
    "    label_mode=\"categorical\",\n",
    "    seed=42\n",
    ")\n",
    "val_ds = tf.keras.preprocessing.image_dataset_from_directory(\n",
    "    val_data_dir_oversampled, \n",
    "    image_size=(480, 720), \n",
    "    label_mode=\"categorical\",\n",
    "    shuffle=False\n",
    ")\n",
    "test_ds = tf.keras.preprocessing.image_dataset_from_directory(\n",
    "    test_data_dir_oversampled, \n",
    "    image_size=(480, 720), \n",
    "    label_mode=\"categorical\",\n",
    "    shuffle=False\n",
    ")"
   ]
  },
  {
   "cell_type": "code",
   "execution_count": 7,
   "metadata": {
    "execution": {
     "iopub.execute_input": "2025-01-18T12:50:39.284353Z",
     "iopub.status.busy": "2025-01-18T12:50:39.284025Z",
     "iopub.status.idle": "2025-01-18T12:50:39.466490Z",
     "shell.execute_reply": "2025-01-18T12:50:39.465813Z",
     "shell.execute_reply.started": "2025-01-18T12:50:39.284323Z"
    },
    "trusted": true
   },
   "outputs": [],
   "source": [
    "train_ds = train_ds.map(lambda X, y: (tf.keras.layers.Resizing(224, 224, crop_to_aspect_ratio=True)(X), y),\n",
    "                       num_parallel_calls=tf.data.AUTOTUNE)\n",
    "train_ds = train_ds.prefetch(buffer_size=tf.data.AUTOTUNE)\n",
    "val_ds = val_ds.map(lambda X, y: (tf.keras.layers.Resizing(224, 224, crop_to_aspect_ratio=True)(X), y),\n",
    "                   num_parallel_calls=tf.data.AUTOTUNE)\n",
    "val_ds = val_ds.prefetch(buffer_size=tf.data.AUTOTUNE)\n",
    "test_ds = test_ds.map(lambda X, y: (tf.keras.layers.Resizing(224, 224, crop_to_aspect_ratio=True)(X), y),\n",
    "                     num_parallel_calls=tf.data.AUTOTUNE)\n",
    "test_ds = test_ds.prefetch(buffer_size=tf.data.AUTOTUNE)"
   ]
  },
  {
   "cell_type": "code",
   "execution_count": 120,
   "metadata": {
    "execution": {
     "iopub.execute_input": "2025-01-18T12:50:41.954548Z",
     "iopub.status.busy": "2025-01-18T12:50:41.954260Z",
     "iopub.status.idle": "2025-01-18T12:50:41.958122Z",
     "shell.execute_reply": "2025-01-18T12:50:41.957246Z",
     "shell.execute_reply.started": "2025-01-18T12:50:41.954525Z"
    },
    "trusted": true
   },
   "outputs": [],
   "source": [
    "# train_ds = tf.keras.preprocessing.image_dataset_from_directory(\n",
    "#     train_data_dir, \n",
    "#     image_size=(240, 320), \n",
    "#     label_mode=\"categorical\",\n",
    "#     seed=42\n",
    "# )\n",
    "# val_ds = tf.keras.preprocessing.image_dataset_from_directory(\n",
    "#     val_data_dir, \n",
    "#     image_size=(240, 320), \n",
    "#     label_mode=\"categorical\",\n",
    "#     shuffle=False\n",
    "# )\n",
    "# test_ds = tf.keras.preprocessing.image_dataset_from_directory(\n",
    "#     test_data_dir, \n",
    "#     image_size=(240, 320), \n",
    "#     label_mode=\"categorical\",\n",
    "#     shuffle=False\n",
    "# )"
   ]
  },
  {
   "cell_type": "code",
   "execution_count": 29,
   "metadata": {
    "execution": {
     "iopub.execute_input": "2025-01-18T12:50:56.025677Z",
     "iopub.status.busy": "2025-01-18T12:50:56.025394Z",
     "iopub.status.idle": "2025-01-18T12:56:15.675696Z",
     "shell.execute_reply": "2025-01-18T12:56:15.674825Z",
     "shell.execute_reply.started": "2025-01-18T12:50:56.025655Z"
    },
    "trusted": true
   },
   "outputs": [
    {
     "name": "stdout",
     "output_type": "stream",
     "text": [
      "Epoch 1/50\n"
     ]
    },
    {
     "name": "stderr",
     "output_type": "stream",
     "text": [
      "WARNING: All log messages before absl::InitializeLog() is called are written to STDERR\n",
      "I0000 00:00:1738164575.873165   19585 service.cc:145] XLA service 0x7440b4001ca0 initialized for platform CUDA (this does not guarantee that XLA will be used). Devices:\n",
      "I0000 00:00:1738164575.879476   19585 service.cc:153]   StreamExecutor device (0): NVIDIA GeForce RTX 3050 Laptop GPU, Compute Capability 8.6\n",
      "2025-01-29 20:59:37.015078: I tensorflow/compiler/mlir/tensorflow/utils/dump_mlir_util.cc:268] disabling MLIR crash reproducer, set env var `MLIR_CRASH_REPRODUCER_DIRECTORY` to enable.\n",
      "2025-01-29 20:59:37.777115: I external/local_xla/xla/stream_executor/cuda/cuda_dnn.cc:465] Loaded cuDNN version 8907\n",
      "WARNING: All log messages before absl::InitializeLog() is called are written to STDERR\n",
      "I0000 00:00:1738164578.620077   19735 asm_compiler.cc:369] ptxas warning : Registers are spilled to local memory in function 'triton_gemm_dot_5357', 380 bytes spill stores, 380 bytes spill loads\n",
      "\n",
      "I0000 00:00:1738164578.633674   19743 asm_compiler.cc:369] ptxas warning : Registers are spilled to local memory in function 'triton_gemm_dot_5357', 176 bytes spill stores, 176 bytes spill loads\n",
      "\n"
     ]
    },
    {
     "name": "stdout",
     "output_type": "stream",
     "text": [
      "\u001b[1m  3/508\u001b[0m \u001b[37m━━━━━━━━━━━━━━━━━━━━\u001b[0m \u001b[1m34s\u001b[0m 69ms/step - accuracy: 0.3837 - loss: 1.3705 "
     ]
    },
    {
     "name": "stderr",
     "output_type": "stream",
     "text": [
      "I0000 00:00:1738164585.243758   19585 device_compiler.h:188] Compiled cluster using XLA!  This line is logged at most once for the lifetime of the process.\n"
     ]
    },
    {
     "name": "stdout",
     "output_type": "stream",
     "text": [
      "\u001b[1m507/508\u001b[0m \u001b[32m━━━━━━━━━━━━━━━━━━━\u001b[0m\u001b[37m━\u001b[0m \u001b[1m0s\u001b[0m 65ms/step - accuracy: 0.8334 - loss: 0.5026"
     ]
    },
    {
     "name": "stderr",
     "output_type": "stream",
     "text": [
      "I0000 00:00:1738164619.196779   19794 asm_compiler.cc:369] ptxas warning : Registers are spilled to local memory in function 'triton_gemm_dot_5357', 260 bytes spill stores, 260 bytes spill loads\n",
      "\n",
      "I0000 00:00:1738164619.288207   19785 asm_compiler.cc:369] ptxas warning : Registers are spilled to local memory in function 'triton_gemm_dot_5357', 424 bytes spill stores, 424 bytes spill loads\n",
      "\n"
     ]
    },
    {
     "name": "stdout",
     "output_type": "stream",
     "text": [
      "\u001b[1m508/508\u001b[0m \u001b[32m━━━━━━━━━━━━━━━━━━━━\u001b[0m\u001b[37m\u001b[0m \u001b[1m0s\u001b[0m 79ms/step - accuracy: 0.8336 - loss: 0.5021"
     ]
    },
    {
     "name": "stderr",
     "output_type": "stream",
     "text": [
      "I0000 00:00:1738164646.278870   19872 asm_compiler.cc:369] ptxas warning : Registers are spilled to local memory in function 'triton_gemm_dot_1337', 260 bytes spill stores, 260 bytes spill loads\n",
      "\n",
      "I0000 00:00:1738164646.432550   19867 asm_compiler.cc:369] ptxas warning : Registers are spilled to local memory in function 'triton_gemm_dot_1337', 440 bytes spill stores, 440 bytes spill loads\n",
      "\n"
     ]
    },
    {
     "name": "stdout",
     "output_type": "stream",
     "text": [
      "\u001b[1m508/508\u001b[0m \u001b[32m━━━━━━━━━━━━━━━━━━━━\u001b[0m\u001b[37m\u001b[0m \u001b[1m84s\u001b[0m 133ms/step - accuracy: 0.8338 - loss: 0.5017 - val_accuracy: 0.9069 - val_loss: 0.2775\n",
      "Epoch 2/50\n",
      "\u001b[1m508/508\u001b[0m \u001b[32m━━━━━━━━━━━━━━━━━━━━\u001b[0m\u001b[37m\u001b[0m \u001b[1m51s\u001b[0m 100ms/step - accuracy: 0.9919 - loss: 0.0782 - val_accuracy: 0.9076 - val_loss: 0.2540\n",
      "Epoch 3/50\n",
      "\u001b[1m508/508\u001b[0m \u001b[32m━━━━━━━━━━━━━━━━━━━━\u001b[0m\u001b[37m\u001b[0m \u001b[1m49s\u001b[0m 96ms/step - accuracy: 0.9946 - loss: 0.0421 - val_accuracy: 0.9093 - val_loss: 0.2521\n",
      "Epoch 4/50\n",
      "\u001b[1m508/508\u001b[0m \u001b[32m━━━━━━━━━━━━━━━━━━━━\u001b[0m\u001b[37m\u001b[0m \u001b[1m50s\u001b[0m 98ms/step - accuracy: 0.9964 - loss: 0.0281 - val_accuracy: 0.9132 - val_loss: 0.2459\n",
      "Epoch 5/50\n",
      "\u001b[1m508/508\u001b[0m \u001b[32m━━━━━━━━━━━━━━━━━━━━\u001b[0m\u001b[37m\u001b[0m \u001b[1m50s\u001b[0m 98ms/step - accuracy: 0.9977 - loss: 0.0207 - val_accuracy: 0.9194 - val_loss: 0.2336\n",
      "Epoch 6/50\n",
      "\u001b[1m508/508\u001b[0m \u001b[32m━━━━━━━━━━━━━━━━━━━━\u001b[0m\u001b[37m\u001b[0m \u001b[1m51s\u001b[0m 100ms/step - accuracy: 0.9978 - loss: 0.0157 - val_accuracy: 0.9162 - val_loss: 0.2469\n",
      "Epoch 7/50\n",
      "\u001b[1m508/508\u001b[0m \u001b[32m━━━━━━━━━━━━━━━━━━━━\u001b[0m\u001b[37m\u001b[0m \u001b[1m50s\u001b[0m 98ms/step - accuracy: 0.9986 - loss: 0.0128 - val_accuracy: 0.9252 - val_loss: 0.2329\n",
      "Epoch 8/50\n",
      "\u001b[1m508/508\u001b[0m \u001b[32m━━━━━━━━━━━━━━━━━━━━\u001b[0m\u001b[37m\u001b[0m \u001b[1m48s\u001b[0m 94ms/step - accuracy: 0.9990 - loss: 0.0101 - val_accuracy: 0.9207 - val_loss: 0.2444\n",
      "Epoch 9/50\n",
      "\u001b[1m508/508\u001b[0m \u001b[32m━━━━━━━━━━━━━━━━━━━━\u001b[0m\u001b[37m\u001b[0m \u001b[1m48s\u001b[0m 94ms/step - accuracy: 0.9992 - loss: 0.0087 - val_accuracy: 0.9241 - val_loss: 0.2398\n",
      "Epoch 10/50\n",
      "\u001b[1m508/508\u001b[0m \u001b[32m━━━━━━━━━━━━━━━━━━━━\u001b[0m\u001b[37m\u001b[0m \u001b[1m51s\u001b[0m 99ms/step - accuracy: 0.9993 - loss: 0.0073 - val_accuracy: 0.9236 - val_loss: 0.2443\n",
      "Epoch 10: early stopping\n",
      "Restoring model weights from the end of the best epoch: 7.\n"
     ]
    }
   ],
   "source": [
    "base_model = tf.keras.applications.MobileNetV3Small(weights=\"imagenet\", include_top=False, input_shape=(224, 224, 3))\n",
    "base_model.trainable = False\n",
    "model = tf.keras.Sequential([\n",
    "    # tf.keras.layers.Input(shape=(480, 720, 3)),\n",
    "    # tf.keras.layers.Resizing(224, 224, crop_to_aspect_ratio=True),\n",
    "    tf.keras.layers.Input(shape=(224, 224, 3)),\n",
    "    tf.keras.layers.Lambda(tf.keras.applications.mobilenet_v3.preprocess_input),\n",
    "    base_model,\n",
    "    tf.keras.layers.GlobalAvgPool2D(),\n",
    "    tf.keras.layers.Dense(3),\n",
    "    tf.keras.layers.Activation(\"softmax\")\n",
    "])\n",
    "model.compile(optimizer=\"adam\", loss=\"categorical_crossentropy\", metrics=[\"accuracy\"])\n",
    "es = tf.keras.callbacks.EarlyStopping(\n",
    "    monitor=\"val_accuracy\",\n",
    "    patience=3,\n",
    "    restore_best_weights=True,\n",
    "    verbose=1\n",
    ")\n",
    "cmc = CustomModelCheckpoint(\n",
    "    filepath='checkpoints/best_model_epoch_{epoch:03d}_val_acc_{val_accuracy:.4f}.keras',\n",
    "    monitor='val_accuracy',\n",
    "    mode='max'\n",
    ")\n",
    "history = model.fit(train_ds, epochs=50, validation_data=val_ds, callbacks=[es, cmc])"
   ]
  },
  {
   "cell_type": "code",
   "execution_count": 30,
   "metadata": {
    "execution": {
     "iopub.execute_input": "2025-01-13T09:42:04.993147Z",
     "iopub.status.busy": "2025-01-13T09:42:04.992791Z",
     "iopub.status.idle": "2025-01-13T09:42:05.047609Z",
     "shell.execute_reply": "2025-01-13T09:42:05.046970Z",
     "shell.execute_reply.started": "2025-01-13T09:42:04.993116Z"
    },
    "trusted": true
   },
   "outputs": [
    {
     "name": "stdout",
     "output_type": "stream",
     "text": [
      "0 input_layer\n",
      "1 rescaling\n",
      "2 conv\n",
      "3 conv_bn\n",
      "4 activation\n",
      "5 expanded_conv_depthwise_pad\n",
      "6 expanded_conv_depthwise\n",
      "7 expanded_conv_depthwise_bn\n",
      "8 re_lu\n",
      "9 expanded_conv_squeeze_excite_avg_pool\n",
      "10 expanded_conv_squeeze_excite_conv\n",
      "11 expanded_conv_squeeze_excite_relu\n",
      "12 expanded_conv_squeeze_excite_conv_1\n",
      "13 re_lu_1\n",
      "14 expanded_conv_squeeze_excite_mul\n",
      "15 expanded_conv_project\n",
      "16 expanded_conv_project_bn\n",
      "17 expanded_conv_1_expand\n",
      "18 expanded_conv_1_expand_bn\n",
      "19 re_lu_2\n",
      "20 expanded_conv_1_depthwise_pad\n",
      "21 expanded_conv_1_depthwise\n",
      "22 expanded_conv_1_depthwise_bn\n",
      "23 re_lu_3\n",
      "24 expanded_conv_1_project\n",
      "25 expanded_conv_1_project_bn\n",
      "26 expanded_conv_2_expand\n",
      "27 expanded_conv_2_expand_bn\n",
      "28 re_lu_4\n",
      "29 expanded_conv_2_depthwise\n",
      "30 expanded_conv_2_depthwise_bn\n",
      "31 re_lu_5\n",
      "32 expanded_conv_2_project\n",
      "33 expanded_conv_2_project_bn\n",
      "34 expanded_conv_2_add\n",
      "35 expanded_conv_3_expand\n",
      "36 expanded_conv_3_expand_bn\n",
      "37 activation_1\n",
      "38 expanded_conv_3_depthwise_pad\n",
      "39 expanded_conv_3_depthwise\n",
      "40 expanded_conv_3_depthwise_bn\n",
      "41 activation_2\n",
      "42 expanded_conv_3_squeeze_excite_avg_pool\n",
      "43 expanded_conv_3_squeeze_excite_conv\n",
      "44 expanded_conv_3_squeeze_excite_relu\n",
      "45 expanded_conv_3_squeeze_excite_conv_1\n",
      "46 re_lu_6\n",
      "47 expanded_conv_3_squeeze_excite_mul\n",
      "48 expanded_conv_3_project\n",
      "49 expanded_conv_3_project_bn\n",
      "50 expanded_conv_4_expand\n",
      "51 expanded_conv_4_expand_bn\n",
      "52 activation_3\n",
      "53 expanded_conv_4_depthwise\n",
      "54 expanded_conv_4_depthwise_bn\n",
      "55 activation_4\n",
      "56 expanded_conv_4_squeeze_excite_avg_pool\n",
      "57 expanded_conv_4_squeeze_excite_conv\n",
      "58 expanded_conv_4_squeeze_excite_relu\n",
      "59 expanded_conv_4_squeeze_excite_conv_1\n",
      "60 re_lu_7\n",
      "61 expanded_conv_4_squeeze_excite_mul\n",
      "62 expanded_conv_4_project\n",
      "63 expanded_conv_4_project_bn\n",
      "64 expanded_conv_4_add\n",
      "65 expanded_conv_5_expand\n",
      "66 expanded_conv_5_expand_bn\n",
      "67 activation_5\n",
      "68 expanded_conv_5_depthwise\n",
      "69 expanded_conv_5_depthwise_bn\n",
      "70 activation_6\n",
      "71 expanded_conv_5_squeeze_excite_avg_pool\n",
      "72 expanded_conv_5_squeeze_excite_conv\n",
      "73 expanded_conv_5_squeeze_excite_relu\n",
      "74 expanded_conv_5_squeeze_excite_conv_1\n",
      "75 re_lu_8\n",
      "76 expanded_conv_5_squeeze_excite_mul\n",
      "77 expanded_conv_5_project\n",
      "78 expanded_conv_5_project_bn\n",
      "79 expanded_conv_5_add\n",
      "80 expanded_conv_6_expand\n",
      "81 expanded_conv_6_expand_bn\n",
      "82 activation_7\n",
      "83 expanded_conv_6_depthwise\n",
      "84 expanded_conv_6_depthwise_bn\n",
      "85 activation_8\n",
      "86 expanded_conv_6_squeeze_excite_avg_pool\n",
      "87 expanded_conv_6_squeeze_excite_conv\n",
      "88 expanded_conv_6_squeeze_excite_relu\n",
      "89 expanded_conv_6_squeeze_excite_conv_1\n",
      "90 re_lu_9\n",
      "91 expanded_conv_6_squeeze_excite_mul\n",
      "92 expanded_conv_6_project\n",
      "93 expanded_conv_6_project_bn\n",
      "94 expanded_conv_7_expand\n",
      "95 expanded_conv_7_expand_bn\n",
      "96 activation_9\n",
      "97 expanded_conv_7_depthwise\n",
      "98 expanded_conv_7_depthwise_bn\n",
      "99 activation_10\n",
      "100 expanded_conv_7_squeeze_excite_avg_pool\n",
      "101 expanded_conv_7_squeeze_excite_conv\n",
      "102 expanded_conv_7_squeeze_excite_relu\n",
      "103 expanded_conv_7_squeeze_excite_conv_1\n",
      "104 re_lu_10\n",
      "105 expanded_conv_7_squeeze_excite_mul\n",
      "106 expanded_conv_7_project\n",
      "107 expanded_conv_7_project_bn\n",
      "108 expanded_conv_7_add\n",
      "109 expanded_conv_8_expand\n",
      "110 expanded_conv_8_expand_bn\n",
      "111 activation_11\n",
      "112 expanded_conv_8_depthwise_pad\n",
      "113 expanded_conv_8_depthwise\n",
      "114 expanded_conv_8_depthwise_bn\n",
      "115 activation_12\n",
      "116 expanded_conv_8_squeeze_excite_avg_pool\n",
      "117 expanded_conv_8_squeeze_excite_conv\n",
      "118 expanded_conv_8_squeeze_excite_relu\n",
      "119 expanded_conv_8_squeeze_excite_conv_1\n",
      "120 re_lu_11\n",
      "121 expanded_conv_8_squeeze_excite_mul\n",
      "122 expanded_conv_8_project\n",
      "123 expanded_conv_8_project_bn\n",
      "124 expanded_conv_9_expand\n",
      "125 expanded_conv_9_expand_bn\n",
      "126 activation_13\n",
      "127 expanded_conv_9_depthwise\n",
      "128 expanded_conv_9_depthwise_bn\n",
      "129 activation_14\n",
      "130 expanded_conv_9_squeeze_excite_avg_pool\n",
      "131 expanded_conv_9_squeeze_excite_conv\n",
      "132 expanded_conv_9_squeeze_excite_relu\n",
      "133 expanded_conv_9_squeeze_excite_conv_1\n",
      "134 re_lu_12\n",
      "135 expanded_conv_9_squeeze_excite_mul\n",
      "136 expanded_conv_9_project\n",
      "137 expanded_conv_9_project_bn\n",
      "138 expanded_conv_9_add\n",
      "139 expanded_conv_10_expand\n",
      "140 expanded_conv_10_expand_bn\n",
      "141 activation_15\n",
      "142 expanded_conv_10_depthwise\n",
      "143 expanded_conv_10_depthwise_bn\n",
      "144 activation_16\n",
      "145 expanded_conv_10_squeeze_excite_avg_pool\n",
      "146 expanded_conv_10_squeeze_excite_conv\n",
      "147 expanded_conv_10_squeeze_excite_relu\n",
      "148 expanded_conv_10_squeeze_excite_conv_1\n",
      "149 re_lu_13\n",
      "150 expanded_conv_10_squeeze_excite_mul\n",
      "151 expanded_conv_10_project\n",
      "152 expanded_conv_10_project_bn\n",
      "153 expanded_conv_10_add\n",
      "154 conv_1\n",
      "155 conv_1_bn\n",
      "156 activation_17\n"
     ]
    }
   ],
   "source": [
    "for i, layer in enumerate(base_model.layers):\n",
    "    print(i, layer.name)"
   ]
  },
  {
   "cell_type": "code",
   "execution_count": 31,
   "metadata": {
    "execution": {
     "iopub.execute_input": "2025-01-18T12:59:02.564769Z",
     "iopub.status.busy": "2025-01-18T12:59:02.564450Z",
     "iopub.status.idle": "2025-01-18T12:59:02.569275Z",
     "shell.execute_reply": "2025-01-18T12:59:02.568506Z",
     "shell.execute_reply.started": "2025-01-18T12:59:02.564745Z"
    },
    "trusted": true
   },
   "outputs": [],
   "source": [
    "for layer in base_model.layers[124:]:\n",
    "    layer.trainable = True"
   ]
  },
  {
   "cell_type": "code",
   "execution_count": 32,
   "metadata": {
    "execution": {
     "iopub.execute_input": "2025-01-18T12:59:05.072486Z",
     "iopub.status.busy": "2025-01-18T12:59:05.072169Z",
     "iopub.status.idle": "2025-01-18T13:15:56.531629Z",
     "shell.execute_reply": "2025-01-18T13:15:56.530923Z",
     "shell.execute_reply.started": "2025-01-18T12:59:05.072458Z"
    },
    "trusted": true
   },
   "outputs": [
    {
     "name": "stdout",
     "output_type": "stream",
     "text": [
      "Epoch 1/50\n"
     ]
    },
    {
     "name": "stdout",
     "output_type": "stream",
     "text": [
      "\u001b[1m508/508\u001b[0m \u001b[32m━━━━━━━━━━━━━━━━━━━━\u001b[0m\u001b[37m\u001b[0m \u001b[1m71s\u001b[0m 110ms/step - accuracy: 0.9867 - loss: 0.0422 - val_accuracy: 0.9367 - val_loss: 0.2232\n",
      "Epoch 2/50\n",
      "\u001b[1m508/508\u001b[0m \u001b[32m━━━━━━━━━━━━━━━━━━━━\u001b[0m\u001b[37m\u001b[0m \u001b[1m51s\u001b[0m 100ms/step - accuracy: 0.9970 - loss: 0.0117 - val_accuracy: 0.9363 - val_loss: 0.2349\n",
      "Epoch 3/50\n",
      "\u001b[1m508/508\u001b[0m \u001b[32m━━━━━━━━━━━━━━━━━━━━\u001b[0m\u001b[37m\u001b[0m \u001b[1m52s\u001b[0m 101ms/step - accuracy: 0.9981 - loss: 0.0078 - val_accuracy: 0.9402 - val_loss: 0.2245\n",
      "Epoch 4/50\n",
      "\u001b[1m508/508\u001b[0m \u001b[32m━━━━━━━━━━━━━━━━━━━━\u001b[0m\u001b[37m\u001b[0m \u001b[1m51s\u001b[0m 100ms/step - accuracy: 0.9988 - loss: 0.0055 - val_accuracy: 0.9462 - val_loss: 0.2134\n",
      "Epoch 5/50\n",
      "\u001b[1m508/508\u001b[0m \u001b[32m━━━━━━━━━━━━━━━━━━━━\u001b[0m\u001b[37m\u001b[0m \u001b[1m52s\u001b[0m 101ms/step - accuracy: 0.9996 - loss: 0.0036 - val_accuracy: 0.9475 - val_loss: 0.2098\n",
      "Epoch 6/50\n",
      "\u001b[1m508/508\u001b[0m \u001b[32m━━━━━━━━━━━━━━━━━━━━\u001b[0m\u001b[37m\u001b[0m \u001b[1m52s\u001b[0m 101ms/step - accuracy: 0.9997 - loss: 0.0028 - val_accuracy: 0.9467 - val_loss: 0.2183\n",
      "Epoch 7/50\n",
      "\u001b[1m508/508\u001b[0m \u001b[32m━━━━━━━━━━━━━━━━━━━━\u001b[0m\u001b[37m\u001b[0m \u001b[1m52s\u001b[0m 102ms/step - accuracy: 0.9998 - loss: 0.0026 - val_accuracy: 0.9496 - val_loss: 0.2125\n",
      "Epoch 8/50\n",
      "\u001b[1m508/508\u001b[0m \u001b[32m━━━━━━━━━━━━━━━━━━━━\u001b[0m\u001b[37m\u001b[0m \u001b[1m52s\u001b[0m 102ms/step - accuracy: 0.9998 - loss: 0.0017 - val_accuracy: 0.9498 - val_loss: 0.2162\n",
      "Epoch 9/50\n",
      "\u001b[1m508/508\u001b[0m \u001b[32m━━━━━━━━━━━━━━━━━━━━\u001b[0m\u001b[37m\u001b[0m \u001b[1m56s\u001b[0m 109ms/step - accuracy: 0.9999 - loss: 0.0015 - val_accuracy: 0.9511 - val_loss: 0.2117\n",
      "Epoch 10/50\n",
      "\u001b[1m508/508\u001b[0m \u001b[32m━━━━━━━━━━━━━━━━━━━━\u001b[0m\u001b[37m\u001b[0m \u001b[1m52s\u001b[0m 101ms/step - accuracy: 0.9999 - loss: 0.0013 - val_accuracy: 0.9497 - val_loss: 0.2142\n",
      "Epoch 11/50\n",
      "\u001b[1m508/508\u001b[0m \u001b[32m━━━━━━━━━━━━━━━━━━━━\u001b[0m\u001b[37m\u001b[0m \u001b[1m52s\u001b[0m 102ms/step - accuracy: 0.9999 - loss: 0.0012 - val_accuracy: 0.9493 - val_loss: 0.2165\n",
      "Epoch 12/50\n",
      "\u001b[1m508/508\u001b[0m \u001b[32m━━━━━━━━━━━━━━━━━━━━\u001b[0m\u001b[37m\u001b[0m \u001b[1m54s\u001b[0m 105ms/step - accuracy: 1.0000 - loss: 6.6340e-04 - val_accuracy: 0.9513 - val_loss: 0.2138\n",
      "Epoch 13/50\n",
      "\u001b[1m508/508\u001b[0m \u001b[32m━━━━━━━━━━━━━━━━━━━━\u001b[0m\u001b[37m\u001b[0m \u001b[1m52s\u001b[0m 102ms/step - accuracy: 0.9999 - loss: 4.9752e-04 - val_accuracy: 0.9532 - val_loss: 0.2104\n",
      "Epoch 14/50\n",
      "\u001b[1m508/508\u001b[0m \u001b[32m━━━━━━━━━━━━━━━━━━━━\u001b[0m\u001b[37m\u001b[0m \u001b[1m52s\u001b[0m 102ms/step - accuracy: 0.9999 - loss: 7.8763e-04 - val_accuracy: 0.9532 - val_loss: 0.2083\n",
      "Epoch 15/50\n",
      "\u001b[1m508/508\u001b[0m \u001b[32m━━━━━━━━━━━━━━━━━━━━\u001b[0m\u001b[37m\u001b[0m \u001b[1m52s\u001b[0m 103ms/step - accuracy: 1.0000 - loss: 4.5519e-04 - val_accuracy: 0.9537 - val_loss: 0.2085\n",
      "Epoch 16/50\n",
      "\u001b[1m508/508\u001b[0m \u001b[32m━━━━━━━━━━━━━━━━━━━━\u001b[0m\u001b[37m\u001b[0m \u001b[1m53s\u001b[0m 103ms/step - accuracy: 0.9999 - loss: 6.2468e-04 - val_accuracy: 0.9538 - val_loss: 0.2111\n",
      "Epoch 17/50\n",
      "\u001b[1m508/508\u001b[0m \u001b[32m━━━━━━━━━━━━━━━━━━━━\u001b[0m\u001b[37m\u001b[0m \u001b[1m53s\u001b[0m 103ms/step - accuracy: 1.0000 - loss: 3.9751e-04 - val_accuracy: 0.9541 - val_loss: 0.2100\n",
      "Epoch 18/50\n",
      "\u001b[1m508/508\u001b[0m \u001b[32m━━━━━━━━━━━━━━━━━━━━\u001b[0m\u001b[37m\u001b[0m \u001b[1m53s\u001b[0m 103ms/step - accuracy: 0.9999 - loss: 3.3949e-04 - val_accuracy: 0.9558 - val_loss: 0.2049\n",
      "Epoch 19/50\n",
      "\u001b[1m508/508\u001b[0m \u001b[32m━━━━━━━━━━━━━━━━━━━━\u001b[0m\u001b[37m\u001b[0m \u001b[1m53s\u001b[0m 103ms/step - accuracy: 1.0000 - loss: 2.1141e-04 - val_accuracy: 0.9542 - val_loss: 0.2176\n",
      "Epoch 20/50\n",
      "\u001b[1m508/508\u001b[0m \u001b[32m━━━━━━━━━━━━━━━━━━━━\u001b[0m\u001b[37m\u001b[0m \u001b[1m54s\u001b[0m 105ms/step - accuracy: 0.9999 - loss: 4.4157e-04 - val_accuracy: 0.9533 - val_loss: 0.2210\n",
      "Epoch 21/50\n",
      "\u001b[1m508/508\u001b[0m \u001b[32m━━━━━━━━━━━━━━━━━━━━\u001b[0m\u001b[37m\u001b[0m \u001b[1m52s\u001b[0m 101ms/step - accuracy: 1.0000 - loss: 1.9376e-04 - val_accuracy: 0.9546 - val_loss: 0.2193\n",
      "Epoch 21: early stopping\n",
      "Restoring model weights from the end of the best epoch: 18.\n"
     ]
    }
   ],
   "source": [
    "optimizer = tf.keras.optimizers.Adam(learning_rate=1e-05)\n",
    "model.compile(optimizer=optimizer, loss=\"categorical_crossentropy\", metrics=[\"accuracy\"])\n",
    "es = tf.keras.callbacks.EarlyStopping(\n",
    "    monitor=\"val_accuracy\",\n",
    "    patience=3,\n",
    "    restore_best_weights=True,\n",
    "    verbose=1\n",
    ")\n",
    "cmc = CustomModelCheckpoint(\n",
    "    filepath='checkpoints/best_model_epoch_{epoch:03d}_val_acc_{val_accuracy:.4f}.keras',\n",
    "    monitor='val_accuracy',\n",
    "    mode='max'\n",
    ")\n",
    "history = model.fit(train_ds, epochs=50, validation_data=val_ds, callbacks=[es, cmc])"
   ]
  },
  {
   "cell_type": "code",
   "execution_count": 33,
   "metadata": {
    "execution": {
     "iopub.execute_input": "2025-01-18T13:16:10.716751Z",
     "iopub.status.busy": "2025-01-18T13:16:10.716453Z",
     "iopub.status.idle": "2025-01-18T13:16:10.722309Z",
     "shell.execute_reply": "2025-01-18T13:16:10.721603Z",
     "shell.execute_reply.started": "2025-01-18T13:16:10.716728Z"
    },
    "trusted": true
   },
   "outputs": [
    {
     "data": {
      "text/plain": [
       "['best_model_epoch_007_val_acc_0.9252.keras',\n",
       " 'best_model_epoch_018_val_acc_0.9558.keras']"
      ]
     },
     "execution_count": 33,
     "metadata": {},
     "output_type": "execute_result"
    }
   ],
   "source": [
    "os.listdir(\"checkpoints\")"
   ]
  },
  {
   "cell_type": "code",
   "execution_count": 35,
   "metadata": {
    "execution": {
     "iopub.execute_input": "2025-01-18T13:16:48.268354Z",
     "iopub.status.busy": "2025-01-18T13:16:48.268067Z",
     "iopub.status.idle": "2025-01-18T13:16:48.273688Z",
     "shell.execute_reply": "2025-01-18T13:16:48.272826Z",
     "shell.execute_reply.started": "2025-01-18T13:16:48.268331Z"
    },
    "trusted": true
   },
   "outputs": [
    {
     "data": {
      "text/html": [
       "<a href='checkpoints/best_model_epoch_018_val_acc_0.9558.keras' target='_blank'>checkpoints/best_model_epoch_018_val_acc_0.9558.keras</a><br>"
      ],
      "text/plain": [
       "/home/vikas/Lab/handwash_recognition/handwash_live/checkpoints/best_model_epoch_018_val_acc_0.9558.keras"
      ]
     },
     "execution_count": 35,
     "metadata": {},
     "output_type": "execute_result"
    }
   ],
   "source": [
    "mlutils.create_download_link(\"checkpoints/best_model_epoch_018_val_acc_0.9558.keras\")"
   ]
  },
  {
   "cell_type": "markdown",
   "metadata": {},
   "source": [
    "### Model Evaluation"
   ]
  },
  {
   "cell_type": "code",
   "execution_count": 36,
   "metadata": {
    "execution": {
     "iopub.execute_input": "2025-01-18T13:17:03.312020Z",
     "iopub.status.busy": "2025-01-18T13:17:03.311696Z",
     "iopub.status.idle": "2025-01-18T13:17:44.318309Z",
     "shell.execute_reply": "2025-01-18T13:17:44.317489Z",
     "shell.execute_reply.started": "2025-01-18T13:17:03.311993Z"
    },
    "trusted": true
   },
   "outputs": [
    {
     "name": "stdout",
     "output_type": "stream",
     "text": [
      "\u001b[1m364/366\u001b[0m \u001b[32m━━━━━━━━━━━━━━━━━━━\u001b[0m\u001b[37m━\u001b[0m \u001b[1m0s\u001b[0m 67ms/step - accuracy: 0.9878 - loss: 0.0350"
     ]
    },
    {
     "name": "stderr",
     "output_type": "stream",
     "text": [
      "I0000 00:00:1738166434.428745   21984 asm_compiler.cc:369] ptxas warning : Registers are spilled to local memory in function 'triton_gemm_dot_1337', 4 bytes spill stores, 4 bytes spill loads\n",
      "\n",
      "I0000 00:00:1738166434.586839   21986 asm_compiler.cc:369] ptxas warning : Registers are spilled to local memory in function 'triton_gemm_dot_1337', 260 bytes spill stores, 260 bytes spill loads\n",
      "\n"
     ]
    },
    {
     "name": "stdout",
     "output_type": "stream",
     "text": [
      "\u001b[1m366/366\u001b[0m \u001b[32m━━━━━━━━━━━━━━━━━━━━\u001b[0m\u001b[37m\u001b[0m \u001b[1m32s\u001b[0m 85ms/step - accuracy: 0.9878 - loss: 0.0349\n"
     ]
    },
    {
     "data": {
      "text/plain": [
       "[0.018938804045319557, 0.9933299422264099]"
      ]
     },
     "execution_count": 36,
     "metadata": {},
     "output_type": "execute_result"
    }
   ],
   "source": [
    "model.evaluate(test_ds)"
   ]
  },
  {
   "cell_type": "code",
   "execution_count": 18,
   "metadata": {
    "execution": {
     "iopub.execute_input": "2025-01-13T10:09:01.841875Z",
     "iopub.status.busy": "2025-01-13T10:09:01.841559Z",
     "iopub.status.idle": "2025-01-13T10:09:16.482202Z",
     "shell.execute_reply": "2025-01-13T10:09:16.481543Z",
     "shell.execute_reply.started": "2025-01-13T10:09:01.841846Z"
    },
    "trusted": true
   },
   "outputs": [
    {
     "name": "stdout",
     "output_type": "stream",
     "text": [
      "\u001b[1m274/274\u001b[0m \u001b[32m━━━━━━━━━━━━━━━━━━━━\u001b[0m\u001b[37m\u001b[0m \u001b[1m15s\u001b[0m 53ms/step - accuracy: 0.9686 - loss: 0.1202\n"
     ]
    },
    {
     "data": {
      "text/plain": [
       "[0.18575944006443024, 0.9613190293312073]"
      ]
     },
     "execution_count": 18,
     "metadata": {},
     "output_type": "execute_result"
    }
   ],
   "source": [
    "model.evaluate(val_ds)"
   ]
  },
  {
   "cell_type": "code",
   "execution_count": 19,
   "metadata": {
    "execution": {
     "iopub.execute_input": "2025-01-13T10:09:16.483511Z",
     "iopub.status.busy": "2025-01-13T10:09:16.483280Z",
     "iopub.status.idle": "2025-01-13T10:09:42.950652Z",
     "shell.execute_reply": "2025-01-13T10:09:42.949915Z",
     "shell.execute_reply.started": "2025-01-13T10:09:16.483489Z"
    },
    "trusted": true
   },
   "outputs": [
    {
     "name": "stdout",
     "output_type": "stream",
     "text": [
      "\u001b[1m397/397\u001b[0m \u001b[32m━━━━━━━━━━━━━━━━━━━━\u001b[0m\u001b[37m\u001b[0m \u001b[1m26s\u001b[0m 67ms/step - accuracy: 1.0000 - loss: 1.4242e-05\n"
     ]
    },
    {
     "data": {
      "text/plain": [
       "[1.1845112567243632e-05, 1.0]"
      ]
     },
     "execution_count": 19,
     "metadata": {},
     "output_type": "execute_result"
    }
   ],
   "source": [
    "model.evaluate(train_ds)"
   ]
  },
  {
   "cell_type": "markdown",
   "metadata": {},
   "source": [
    "### Loading the model"
   ]
  },
  {
   "cell_type": "code",
   "execution_count": 1,
   "metadata": {},
   "outputs": [
    {
     "name": "stderr",
     "output_type": "stream",
     "text": [
      "2025-01-30 11:40:18.795485: I tensorflow/core/platform/cpu_feature_guard.cc:210] This TensorFlow binary is optimized to use available CPU instructions in performance-critical operations.\n",
      "To enable the following instructions: AVX2 FMA, in other operations, rebuild TensorFlow with the appropriate compiler flags.\n",
      "2025-01-30 11:40:20.719940: W tensorflow/compiler/tf2tensorrt/utils/py_utils.cc:38] TF-TRT Warning: Could not find TensorRT\n",
      "2025-01-30 11:40:24.998787: I external/local_xla/xla/stream_executor/cuda/cuda_executor.cc:998] successful NUMA node read from SysFS had negative value (-1), but there must be at least one NUMA node, so returning NUMA node zero. See more at https://github.com/torvalds/linux/blob/v6.0/Documentation/ABI/testing/sysfs-bus-pci#L344-L355\n",
      "2025-01-30 11:40:25.151548: I external/local_xla/xla/stream_executor/cuda/cuda_executor.cc:998] successful NUMA node read from SysFS had negative value (-1), but there must be at least one NUMA node, so returning NUMA node zero. See more at https://github.com/torvalds/linux/blob/v6.0/Documentation/ABI/testing/sysfs-bus-pci#L344-L355\n",
      "2025-01-30 11:40:25.153487: I external/local_xla/xla/stream_executor/cuda/cuda_executor.cc:998] successful NUMA node read from SysFS had negative value (-1), but there must be at least one NUMA node, so returning NUMA node zero. See more at https://github.com/torvalds/linux/blob/v6.0/Documentation/ABI/testing/sysfs-bus-pci#L344-L355\n",
      "2025-01-30 11:40:25.157135: I external/local_xla/xla/stream_executor/cuda/cuda_executor.cc:998] successful NUMA node read from SysFS had negative value (-1), but there must be at least one NUMA node, so returning NUMA node zero. See more at https://github.com/torvalds/linux/blob/v6.0/Documentation/ABI/testing/sysfs-bus-pci#L344-L355\n",
      "2025-01-30 11:40:25.159269: I external/local_xla/xla/stream_executor/cuda/cuda_executor.cc:998] successful NUMA node read from SysFS had negative value (-1), but there must be at least one NUMA node, so returning NUMA node zero. See more at https://github.com/torvalds/linux/blob/v6.0/Documentation/ABI/testing/sysfs-bus-pci#L344-L355\n",
      "2025-01-30 11:40:25.160885: I external/local_xla/xla/stream_executor/cuda/cuda_executor.cc:998] successful NUMA node read from SysFS had negative value (-1), but there must be at least one NUMA node, so returning NUMA node zero. See more at https://github.com/torvalds/linux/blob/v6.0/Documentation/ABI/testing/sysfs-bus-pci#L344-L355\n",
      "2025-01-30 11:40:25.317573: I external/local_xla/xla/stream_executor/cuda/cuda_executor.cc:998] successful NUMA node read from SysFS had negative value (-1), but there must be at least one NUMA node, so returning NUMA node zero. See more at https://github.com/torvalds/linux/blob/v6.0/Documentation/ABI/testing/sysfs-bus-pci#L344-L355\n",
      "2025-01-30 11:40:25.319783: I external/local_xla/xla/stream_executor/cuda/cuda_executor.cc:998] successful NUMA node read from SysFS had negative value (-1), but there must be at least one NUMA node, so returning NUMA node zero. See more at https://github.com/torvalds/linux/blob/v6.0/Documentation/ABI/testing/sysfs-bus-pci#L344-L355\n",
      "2025-01-30 11:40:25.321410: I external/local_xla/xla/stream_executor/cuda/cuda_executor.cc:998] successful NUMA node read from SysFS had negative value (-1), but there must be at least one NUMA node, so returning NUMA node zero. See more at https://github.com/torvalds/linux/blob/v6.0/Documentation/ABI/testing/sysfs-bus-pci#L344-L355\n",
      "2025-01-30 11:40:25.323243: I tensorflow/core/common_runtime/gpu/gpu_device.cc:1928] Created device /job:localhost/replica:0/task:0/device:GPU:0 with 2179 MB memory:  -> device: 0, name: NVIDIA GeForce RTX 3050 Laptop GPU, pci bus id: 0000:01:00.0, compute capability: 8.6\n"
     ]
    }
   ],
   "source": [
    "import tensorflow as tf\n",
    "\n",
    "model = tf.keras.models.load_model(\n",
    "    \"checkpoints/best_model_epoch_018_val_acc_0.9558.keras\",\n",
    "    {\"preprocess_input\": tf.keras.applications.mobilenet_v3.preprocess_input}\n",
    "    )"
   ]
  },
  {
   "cell_type": "markdown",
   "metadata": {},
   "source": [
    "### Confusion Matrix"
   ]
  },
  {
   "cell_type": "code",
   "execution_count": 3,
   "metadata": {},
   "outputs": [
    {
     "name": "stdout",
     "output_type": "stream",
     "text": [
      "Collecting seaborn\n",
      "  Downloading seaborn-0.13.2-py3-none-any.whl (294 kB)\n",
      "\u001b[2K     \u001b[90m━━━━━━━━━━━━━━━━━━━━━━━━━━━━━━━━━━━━━━━\u001b[0m \u001b[32m294.9/294.9 kB\u001b[0m \u001b[31m1.8 MB/s\u001b[0m eta \u001b[36m0:00:00\u001b[0ma \u001b[36m0:00:01\u001b[0m\n",
      "\u001b[?25hRequirement already satisfied: matplotlib!=3.6.1,>=3.4 in /home/vikas/Lab/handwash_recognition/env/lib/python3.10/site-packages (from seaborn) (3.10.0)\n",
      "Requirement already satisfied: numpy!=1.24.0,>=1.20 in /home/vikas/Lab/handwash_recognition/env/lib/python3.10/site-packages (from seaborn) (1.26.4)\n",
      "Requirement already satisfied: pandas>=1.2 in /home/vikas/Lab/handwash_recognition/env/lib/python3.10/site-packages (from seaborn) (2.2.3)\n",
      "Requirement already satisfied: kiwisolver>=1.3.1 in /home/vikas/Lab/handwash_recognition/env/lib/python3.10/site-packages (from matplotlib!=3.6.1,>=3.4->seaborn) (1.4.7)\n",
      "Requirement already satisfied: python-dateutil>=2.7 in /home/vikas/Lab/handwash_recognition/env/lib/python3.10/site-packages (from matplotlib!=3.6.1,>=3.4->seaborn) (2.9.0.post0)\n",
      "Requirement already satisfied: contourpy>=1.0.1 in /home/vikas/Lab/handwash_recognition/env/lib/python3.10/site-packages (from matplotlib!=3.6.1,>=3.4->seaborn) (1.3.1)\n",
      "Requirement already satisfied: cycler>=0.10 in /home/vikas/Lab/handwash_recognition/env/lib/python3.10/site-packages (from matplotlib!=3.6.1,>=3.4->seaborn) (0.12.1)\n",
      "Requirement already satisfied: packaging>=20.0 in /home/vikas/Lab/handwash_recognition/env/lib/python3.10/site-packages (from matplotlib!=3.6.1,>=3.4->seaborn) (24.2)\n",
      "Requirement already satisfied: fonttools>=4.22.0 in /home/vikas/Lab/handwash_recognition/env/lib/python3.10/site-packages (from matplotlib!=3.6.1,>=3.4->seaborn) (4.55.3)\n",
      "Requirement already satisfied: pyparsing>=2.3.1 in /home/vikas/Lab/handwash_recognition/env/lib/python3.10/site-packages (from matplotlib!=3.6.1,>=3.4->seaborn) (3.2.0)\n",
      "Requirement already satisfied: pillow>=8 in /home/vikas/Lab/handwash_recognition/env/lib/python3.10/site-packages (from matplotlib!=3.6.1,>=3.4->seaborn) (11.0.0)\n",
      "Requirement already satisfied: tzdata>=2022.7 in /home/vikas/Lab/handwash_recognition/env/lib/python3.10/site-packages (from pandas>=1.2->seaborn) (2024.2)\n",
      "Requirement already satisfied: pytz>=2020.1 in /home/vikas/Lab/handwash_recognition/env/lib/python3.10/site-packages (from pandas>=1.2->seaborn) (2024.2)\n",
      "Requirement already satisfied: six>=1.5 in /home/vikas/Lab/handwash_recognition/env/lib/python3.10/site-packages (from python-dateutil>=2.7->matplotlib!=3.6.1,>=3.4->seaborn) (1.17.0)\n",
      "Installing collected packages: seaborn\n",
      "Successfully installed seaborn-0.13.2\n",
      "\n",
      "\u001b[1m[\u001b[0m\u001b[34;49mnotice\u001b[0m\u001b[1;39;49m]\u001b[0m\u001b[39;49m A new release of pip is available: \u001b[0m\u001b[31;49m23.0.1\u001b[0m\u001b[39;49m -> \u001b[0m\u001b[32;49m25.0\u001b[0m\n",
      "\u001b[1m[\u001b[0m\u001b[34;49mnotice\u001b[0m\u001b[1;39;49m]\u001b[0m\u001b[39;49m To update, run: \u001b[0m\u001b[32;49mpip install --upgrade pip\u001b[0m\n"
     ]
    }
   ],
   "source": [
    "!pip install seaborn"
   ]
  },
  {
   "cell_type": "code",
   "execution_count": 9,
   "metadata": {},
   "outputs": [
    {
     "name": "stderr",
     "output_type": "stream",
     "text": [
      "2025-01-30 11:45:05.333459: W tensorflow/core/framework/local_rendezvous.cc:404] Local rendezvous is aborting with status: OUT_OF_RANGE: End of sequence\n"
     ]
    },
    {
     "data": {
      "text/plain": [
       "11694"
      ]
     },
     "execution_count": 9,
     "metadata": {},
     "output_type": "execute_result"
    }
   ],
   "source": [
    "y_test = []\n",
    "for X, y in test_ds:\n",
    "    y_test.extend(y)\n",
    "len(y_test)"
   ]
  },
  {
   "cell_type": "code",
   "execution_count": 10,
   "metadata": {
    "execution": {
     "iopub.execute_input": "2025-01-18T13:32:20.851678Z",
     "iopub.status.busy": "2025-01-18T13:32:20.851396Z",
     "iopub.status.idle": "2025-01-18T13:32:57.919329Z",
     "shell.execute_reply": "2025-01-18T13:32:57.918109Z",
     "shell.execute_reply.started": "2025-01-18T13:32:20.851655Z"
    },
    "trusted": true
   },
   "outputs": [
    {
     "name": "stdout",
     "output_type": "stream",
     "text": [
      "\u001b[1m366/366\u001b[0m \u001b[32m━━━━━━━━━━━━━━━━━━━━\u001b[0m\u001b[37m\u001b[0m \u001b[1m22s\u001b[0m 60ms/step\n"
     ]
    },
    {
     "data": {
      "image/png": "[encoded data removed]",
      "text/plain": [
       "<Figure size 800x600 with 2 Axes>"
      ]
     },
     "metadata": {},
     "output_type": "display_data"
    }
   ],
   "source": [
    "import numpy as np\n",
    "import matplotlib.pyplot as plt\n",
    "import seaborn as sns\n",
    "from sklearn.metrics import confusion_matrix\n",
    "\n",
    "# 1. Make predictions\n",
    "y_pred = model.predict(test_ds)  # Assuming X_test is your test set\n",
    "\n",
    "# If it's categorical classification, take the class with the highest probability\n",
    "y_pred_classes = np.argmax(y_pred, axis=1)\n",
    "\n",
    "# 2. Compute confusion matrix\n",
    "y_true = np.argmax(y_test, axis=1)  # If y_test is one-hot encoded\n",
    "cm = confusion_matrix(y_true, y_pred_classes)\n",
    "\n",
    "# 3. Plot the confusion matrix\n",
    "plt.figure(figsize=(8, 6))\n",
    "sns.heatmap(cm, annot=True, fmt='d', cmap='Blues', xticklabels=np.unique(y_true), yticklabels=np.unique(y_true))\n",
    "plt.xlabel('Predicted')\n",
    "plt.ylabel('True')\n",
    "plt.title('Confusion Matrix')\n",
    "plt.show()"
   ]
  },
  {
   "cell_type": "code",
   "execution_count": null,
   "metadata": {
    "trusted": true
   },
   "outputs": [],
   "source": []
  },
  {
   "cell_type": "markdown",
   "metadata": {},
   "source": [
    "### Plot reliability diagram"
   ]
  },
  {
   "cell_type": "code",
   "execution_count": 11,
   "metadata": {
    "execution": {
     "iopub.execute_input": "2025-01-13T10:15:01.695962Z",
     "iopub.status.busy": "2025-01-13T10:15:01.695634Z",
     "iopub.status.idle": "2025-01-13T10:15:01.701018Z",
     "shell.execute_reply": "2025-01-13T10:15:01.700292Z",
     "shell.execute_reply.started": "2025-01-13T10:15:01.695937Z"
    },
    "trusted": true
   },
   "outputs": [],
   "source": [
    "def plot_reliability_diagram(prob_true, prob_pred, model_name):\n",
    "    fig = plt.figure(figsize=(5, 5))\n",
    "    ax = plt.gca()\n",
    "\n",
    "    plt.plot([0, 1], [0, 1], color=\"#FE4A49\", linestyle=\":\", label=\"Perfectly calibrated model\")\n",
    "    plt.plot(prob_pred, prob_true, label=model_name)\n",
    "\n",
    "    plt.ylabel(\"Fraction of positives\", fontsize=16)\n",
    "    plt.xlabel(\"Mean predicted value\", fontsize=16)\n",
    "\n",
    "    # plt.legend(fontsize=16)\n",
    "    plt.legend()\n",
    "    plt.xticks(fontsize=14)\n",
    "    plt.yticks(fontsize=14)\n",
    "\n",
    "    plt.grid(True, color=\"#B2C7D9\")\n",
    "\n",
    "    plt.tight_layout()"
   ]
  },
  {
   "cell_type": "code",
   "execution_count": 13,
   "metadata": {
    "execution": {
     "iopub.execute_input": "2025-01-13T10:15:04.012283Z",
     "iopub.status.busy": "2025-01-13T10:15:04.011925Z",
     "iopub.status.idle": "2025-01-13T10:15:18.541987Z",
     "shell.execute_reply": "2025-01-13T10:15:18.541281Z",
     "shell.execute_reply.started": "2025-01-13T10:15:04.012250Z"
    },
    "trusted": true
   },
   "outputs": [],
   "source": [
    "y_test = []\n",
    "for images, labels in test_ds:\n",
    "    y_test.extend(labels)\n",
    "y_test = np.array(y_test)"
   ]
  },
  {
   "cell_type": "code",
   "execution_count": 14,
   "metadata": {
    "execution": {
     "iopub.execute_input": "2025-01-13T10:15:25.321595Z",
     "iopub.status.busy": "2025-01-13T10:15:25.321234Z",
     "iopub.status.idle": "2025-01-13T10:15:44.720805Z",
     "shell.execute_reply": "2025-01-13T10:15:44.719936Z",
     "shell.execute_reply.started": "2025-01-13T10:15:25.321564Z"
    },
    "trusted": true
   },
   "outputs": [
    {
     "name": "stdout",
     "output_type": "stream",
     "text": [
      "\u001b[1m366/366\u001b[0m \u001b[32m━━━━━━━━━━━━━━━━━━━━\u001b[0m\u001b[37m\u001b[0m \u001b[1m23s\u001b[0m 60ms/step\n"
     ]
    },
    {
     "data": {
      "image/png": "[encoded data removed]",
      "text/plain": [
       "<Figure size 500x500 with 1 Axes>"
      ]
     },
     "metadata": {},
     "output_type": "display_data"
    }
   ],
   "source": [
    "from sklearn.calibration import calibration_curve\n",
    "\n",
    "y_pred = model.predict(test_ds)\n",
    "prob_true, prob_pred = calibration_curve(y_test.flatten(), y_pred.flatten(), n_bins=10)\n",
    "plot_reliability_diagram(prob_true, prob_pred, \"(uncalibrated)\")\n",
    "\n",
    "bin_sizes = np.histogram(a=y_pred.flatten(), range=(0, 1), bins=10)[0]"
   ]
  },
  {
   "cell_type": "code",
   "execution_count": 16,
   "metadata": {
    "execution": {
     "iopub.execute_input": "2025-01-10T12:35:18.401255Z",
     "iopub.status.busy": "2025-01-10T12:35:18.400826Z",
     "iopub.status.idle": "2025-01-10T12:35:18.797015Z",
     "shell.execute_reply": "2025-01-10T12:35:18.794860Z",
     "shell.execute_reply.started": "2025-01-10T12:35:18.401217Z"
    },
    "trusted": true
   },
   "outputs": [
    {
     "ename": "ZeroDivisionError",
     "evalue": "division by zero",
     "output_type": "error",
     "traceback": [
      "\u001b[0;31m---------------------------------------------------------------------------\u001b[0m",
      "\u001b[0;31mZeroDivisionError\u001b[0m                         Traceback (most recent call last)",
      "\u001b[0;32m<ipython-input-16-0106664d39e8>\u001b[0m in \u001b[0;36m<cell line: 1>\u001b[0;34m()\u001b[0m\n\u001b[0;32m----> 1\u001b[0;31m \u001b[0;36m5\u001b[0m\u001b[0;34m/\u001b[0m\u001b[0;36m0\u001b[0m\u001b[0;34m\u001b[0m\u001b[0;34m\u001b[0m\u001b[0m\n\u001b[0m",
      "\u001b[0;31mZeroDivisionError\u001b[0m: division by zero"
     ]
    }
   ],
   "source": [
    "5/0"
   ]
  },
  {
   "cell_type": "code",
   "execution_count": 15,
   "metadata": {
    "execution": {
     "iopub.execute_input": "2025-01-13T10:16:00.992560Z",
     "iopub.status.busy": "2025-01-13T10:16:00.992206Z",
     "iopub.status.idle": "2025-01-13T10:16:00.999290Z",
     "shell.execute_reply": "2025-01-13T10:16:00.998254Z",
     "shell.execute_reply.started": "2025-01-13T10:16:00.992534Z"
    },
    "trusted": true
   },
   "outputs": [],
   "source": [
    "new_model = tf.keras.Model(model.layers[0].input, model.layers[-2].output)"
   ]
  },
  {
   "cell_type": "code",
   "execution_count": 16,
   "metadata": {
    "execution": {
     "iopub.execute_input": "2025-01-13T10:16:04.690092Z",
     "iopub.status.busy": "2025-01-13T10:16:04.689804Z",
     "iopub.status.idle": "2025-01-13T10:16:25.626753Z",
     "shell.execute_reply": "2025-01-13T10:16:25.625814Z",
     "shell.execute_reply.started": "2025-01-13T10:16:04.690069Z"
    },
    "trusted": true
   },
   "outputs": [
    {
     "name": "stdout",
     "output_type": "stream",
     "text": [
      "\u001b[1m302/305\u001b[0m \u001b[32m━━━━━━━━━━━━━━━━━━━\u001b[0m\u001b[37m━\u001b[0m \u001b[1m0s\u001b[0m 62ms/step"
     ]
    },
    {
     "name": "stderr",
     "output_type": "stream",
     "text": [
      "I0000 00:00:1738217999.828965    8114 asm_compiler.cc:369] ptxas warning : Registers are spilled to local memory in function 'triton_gemm_dot_1307', 260 bytes spill stores, 260 bytes spill loads\n",
      "\n",
      "I0000 00:00:1738217999.928995    8119 asm_compiler.cc:369] ptxas warning : Registers are spilled to local memory in function 'triton_gemm_dot_1307', 440 bytes spill stores, 440 bytes spill loads\n",
      "\n"
     ]
    },
    {
     "name": "stdout",
     "output_type": "stream",
     "text": [
      "\u001b[1m305/305\u001b[0m \u001b[32m━━━━━━━━━━━━━━━━━━━━\u001b[0m\u001b[37m\u001b[0m \u001b[1m31s\u001b[0m 85ms/step\n"
     ]
    }
   ],
   "source": [
    "y_logit = new_model.predict(val_ds)"
   ]
  },
  {
   "cell_type": "code",
   "execution_count": 17,
   "metadata": {
    "execution": {
     "iopub.execute_input": "2025-01-13T10:17:21.086865Z",
     "iopub.status.busy": "2025-01-13T10:17:21.086546Z",
     "iopub.status.idle": "2025-01-13T10:17:36.374011Z",
     "shell.execute_reply": "2025-01-13T10:17:36.373065Z",
     "shell.execute_reply.started": "2025-01-13T10:17:21.086840Z"
    },
    "trusted": true
   },
   "outputs": [
    {
     "name": "stderr",
     "output_type": "stream",
     "text": [
      "2025-01-30 11:50:34.252674: W tensorflow/core/framework/local_rendezvous.cc:404] Local rendezvous is aborting with status: OUT_OF_RANGE: End of sequence\n"
     ]
    }
   ],
   "source": [
    "y_val = []\n",
    "for images, labels in val_ds:\n",
    "    y_val.extend(labels)\n",
    "y_val = np.array(y_val)"
   ]
  },
  {
   "cell_type": "code",
   "execution_count": 18,
   "metadata": {
    "execution": {
     "iopub.execute_input": "2025-01-13T10:17:38.489254Z",
     "iopub.status.busy": "2025-01-13T10:17:38.488946Z",
     "iopub.status.idle": "2025-01-13T10:17:39.056201Z",
     "shell.execute_reply": "2025-01-13T10:17:39.055308Z",
     "shell.execute_reply.started": "2025-01-13T10:17:38.489213Z"
    },
    "trusted": true
   },
   "outputs": [
    {
     "name": "stdout",
     "output_type": "stream",
     "text": [
      "Optimization terminated successfully.\n",
      "         Current function value: 0.136807\n",
      "         Iterations: 51\n",
      "         Function evaluations: 130\n"
     ]
    }
   ],
   "source": [
    "from scipy.special import softmax\n",
    "from sklearn.metrics import log_loss\n",
    "from scipy.optimize import minimize\n",
    "\n",
    "def scale_fun_ce(x, *args):\n",
    "    epsilon = 1e-8  # A small constant to prevent division by zero\n",
    "    t = x[0]\n",
    "    y_logit_scaled = y_logit / (t + epsilon)  # Add epsilon to avoid zero division\n",
    "    y_pred_inner = softmax(y_logit_scaled, axis=1)\n",
    "    return log_loss(y_val, y_pred_inner)\n",
    "\n",
    "min_obj = minimize(\n",
    "    scale_fun_ce, [10], method=\"Nelder-Mead\", options={\"xatol\": 1e-13, \"disp\": True}\n",
    ")"
   ]
  },
  {
   "cell_type": "code",
   "execution_count": 19,
   "metadata": {
    "execution": {
     "iopub.execute_input": "2025-01-13T10:17:43.272895Z",
     "iopub.status.busy": "2025-01-13T10:17:43.272599Z",
     "iopub.status.idle": "2025-01-13T10:17:43.277890Z",
     "shell.execute_reply": "2025-01-13T10:17:43.277083Z",
     "shell.execute_reply.started": "2025-01-13T10:17:43.272870Z"
    },
    "trusted": true
   },
   "outputs": [
    {
     "data": {
      "text/plain": [
       "2.2365336418151855"
      ]
     },
     "execution_count": 19,
     "metadata": {},
     "output_type": "execute_result"
    }
   ],
   "source": [
    "min_obj.x[0]"
   ]
  },
  {
   "cell_type": "code",
   "execution_count": 20,
   "metadata": {
    "execution": {
     "iopub.execute_input": "2025-01-13T10:17:45.586926Z",
     "iopub.status.busy": "2025-01-13T10:17:45.586615Z",
     "iopub.status.idle": "2025-01-13T10:18:01.227450Z",
     "shell.execute_reply": "2025-01-13T10:18:01.226759Z",
     "shell.execute_reply.started": "2025-01-13T10:17:45.586902Z"
    },
    "trusted": true
   },
   "outputs": [
    {
     "name": "stdout",
     "output_type": "stream",
     "text": [
      "\u001b[1m366/366\u001b[0m \u001b[32m━━━━━━━━━━━━━━━━━━━━\u001b[0m\u001b[37m\u001b[0m \u001b[1m24s\u001b[0m 64ms/step\n"
     ]
    }
   ],
   "source": [
    "y_logit_test = new_model.predict(test_ds)"
   ]
  },
  {
   "cell_type": "code",
   "execution_count": 21,
   "metadata": {
    "execution": {
     "iopub.execute_input": "2025-01-13T10:18:02.316897Z",
     "iopub.status.busy": "2025-01-13T10:18:02.316610Z",
     "iopub.status.idle": "2025-01-13T10:18:02.525370Z",
     "shell.execute_reply": "2025-01-13T10:18:02.524495Z",
     "shell.execute_reply.started": "2025-01-13T10:18:02.316874Z"
    },
    "trusted": true
   },
   "outputs": [
    {
     "data": {
      "image/png": "[encoded data removed]",
      "text/plain": [
       "<Figure size 500x500 with 1 Axes>"
      ]
     },
     "metadata": {},
     "output_type": "display_data"
    }
   ],
   "source": [
    "temp_scaled = y_logit_test/min_obj.x[0]\n",
    "y_pred_test_corr = softmax(temp_scaled, axis=1)\n",
    "prob_true, prob_pred = calibration_curve(y_test.flatten(), y_pred_test_corr.flatten(), n_bins=10)\n",
    "bin_sizes = np.histogram(a=y_pred.flatten(), range=(0, 1), bins=10)[0]\n",
    "plot_reliability_diagram(prob_true, prob_pred, \"(temp calibrated)\")"
   ]
  },
  {
   "cell_type": "code",
   "execution_count": 36,
   "metadata": {
    "execution": {
     "iopub.execute_input": "2025-01-13T10:18:19.962708Z",
     "iopub.status.busy": "2025-01-13T10:18:19.962409Z",
     "iopub.status.idle": "2025-01-13T10:18:23.443855Z",
     "shell.execute_reply": "2025-01-13T10:18:23.442926Z",
     "shell.execute_reply.started": "2025-01-13T10:18:19.962686Z"
    },
    "trusted": true
   },
   "outputs": [
    {
     "name": "stdout",
     "output_type": "stream",
     "text": [
      "\u001b[1m1/1\u001b[0m \u001b[32m━━━━━━━━━━━━━━━━━━━━\u001b[0m\u001b[37m\u001b[0m \u001b[1m0s\u001b[0m 40ms/step\n"
     ]
    },
    {
     "data": {
      "text/plain": [
       "0.83012253"
      ]
     },
     "execution_count": 36,
     "metadata": {},
     "output_type": "execute_result"
    }
   ],
   "source": [
    "black_image = np.zeros((224, 224, 3), np.uint8)\n",
    "red_image = np.zeros((224, 224, 3), np.uint8)\n",
    "red_image[..., 0] = 255\n",
    "green_image = np.zeros((224, 224, 3), np.uint8)\n",
    "green_image[..., 1] = 255\n",
    "blue_image = np.zeros((224, 224, 3), np.uint8)\n",
    "blue_image[..., 2] = 255\n",
    "model.predict(np.expand_dims(red_image, 0)).max()"
   ]
  },
  {
   "cell_type": "code",
   "execution_count": 28,
   "metadata": {
    "execution": {
     "iopub.execute_input": "2025-01-13T10:18:51.077389Z",
     "iopub.status.busy": "2025-01-13T10:18:51.077049Z",
     "iopub.status.idle": "2025-01-13T10:18:51.139136Z",
     "shell.execute_reply": "2025-01-13T10:18:51.138321Z",
     "shell.execute_reply.started": "2025-01-13T10:18:51.077360Z"
    },
    "trusted": true
   },
   "outputs": [
    {
     "name": "stdout",
     "output_type": "stream",
     "text": [
      "\u001b[1m1/1\u001b[0m \u001b[32m━━━━━━━━━━━━━━━━━━━━\u001b[0m\u001b[37m\u001b[0m \u001b[1m0s\u001b[0m 34ms/step\n"
     ]
    },
    {
     "data": {
      "text/plain": [
       "array([[4.1637540e-01, 5.8359104e-01, 3.3626140e-05]], dtype=float32)"
      ]
     },
     "execution_count": 28,
     "metadata": {},
     "output_type": "execute_result"
    }
   ],
   "source": [
    "model.predict(np.expand_dims(blue_image, 0))"
   ]
  },
  {
   "cell_type": "code",
   "execution_count": 47,
   "metadata": {
    "execution": {
     "iopub.execute_input": "2025-01-13T10:19:59.247100Z",
     "iopub.status.busy": "2025-01-13T10:19:59.246809Z",
     "iopub.status.idle": "2025-01-13T10:19:59.251176Z",
     "shell.execute_reply": "2025-01-13T10:19:59.250306Z",
     "shell.execute_reply.started": "2025-01-13T10:19:59.247076Z"
    },
    "trusted": true
   },
   "outputs": [
    {
     "name": "stdout",
     "output_type": "stream",
     "text": [
      "\u001b[1m1/1\u001b[0m \u001b[32m━━━━━━━━━━━━━━━━━━━━\u001b[0m\u001b[37m\u001b[0m \u001b[1m0s\u001b[0m 38ms/step\n",
      "\u001b[1m1/1\u001b[0m \u001b[32m━━━━━━━━━━━━━━━━━━━━\u001b[0m\u001b[37m\u001b[0m \u001b[1m0s\u001b[0m 38ms/step\n",
      "\u001b[1m1/1\u001b[0m \u001b[32m━━━━━━━━━━━━━━━━━━━━\u001b[0m\u001b[37m\u001b[0m \u001b[1m0s\u001b[0m 34ms/step\n",
      "\u001b[1m1/1\u001b[0m \u001b[32m━━━━━━━━━━━━━━━━━━━━\u001b[0m\u001b[37m\u001b[0m \u001b[1m0s\u001b[0m 33ms/step\n"
     ]
    }
   ],
   "source": [
    "pred_probas = {}\n",
    "test_images = {\"black\": black_image,\n",
    "               \"red\": red_image,\n",
    "               \"green\": green_image,\n",
    "               \"blue\": blue_image}\n",
    "for color_name, image in test_images.items():\n",
    "    y_logit = new_model.predict(np.expand_dims(image, 0))\n",
    "    temp_scaled = y_logit/min_obj.x[0]\n",
    "    y_pred_corr = softmax(temp_scaled, axis=1)\n",
    "    pred_probas[color_name] = y_pred_corr.max()"
   ]
  },
  {
   "cell_type": "code",
   "execution_count": 48,
   "metadata": {
    "execution": {
     "iopub.execute_input": "2025-01-13T10:20:03.749425Z",
     "iopub.status.busy": "2025-01-13T10:20:03.749090Z",
     "iopub.status.idle": "2025-01-13T10:20:03.754341Z",
     "shell.execute_reply": "2025-01-13T10:20:03.753611Z",
     "shell.execute_reply.started": "2025-01-13T10:20:03.749397Z"
    },
    "trusted": true
   },
   "outputs": [
    {
     "data": {
      "text/plain": [
       "{'black': 0.5985526, 'red': 0.6643663, 'green': 0.5092881, 'blue': 0.53401494}"
      ]
     },
     "execution_count": 48,
     "metadata": {},
     "output_type": "execute_result"
    }
   ],
   "source": [
    "pred_probas"
   ]
  },
  {
   "cell_type": "code",
   "execution_count": 35,
   "metadata": {
    "execution": {
     "iopub.execute_input": "2025-01-13T10:20:16.578004Z",
     "iopub.status.busy": "2025-01-13T10:20:16.577686Z",
     "iopub.status.idle": "2025-01-13T10:20:16.641493Z",
     "shell.execute_reply": "2025-01-13T10:20:16.640580Z",
     "shell.execute_reply.started": "2025-01-13T10:20:16.577981Z"
    },
    "trusted": true
   },
   "outputs": [
    {
     "name": "stdout",
     "output_type": "stream",
     "text": [
      "\u001b[1m1/1\u001b[0m \u001b[32m━━━━━━━━━━━━━━━━━━━━\u001b[0m\u001b[37m\u001b[0m \u001b[1m0s\u001b[0m 20ms/step\n"
     ]
    },
    {
     "data": {
      "text/plain": [
       "0.9979565"
      ]
     },
     "execution_count": 35,
     "metadata": {},
     "output_type": "execute_result"
    }
   ],
   "source": [
    "model.predict(np.expand_dims(blue_image, 0)).max()"
   ]
  },
  {
   "cell_type": "code",
   "execution_count": 36,
   "metadata": {
    "execution": {
     "iopub.execute_input": "2025-01-13T10:20:22.024507Z",
     "iopub.status.busy": "2025-01-13T10:20:22.024199Z",
     "iopub.status.idle": "2025-01-13T10:20:22.029594Z",
     "shell.execute_reply": "2025-01-13T10:20:22.028825Z",
     "shell.execute_reply.started": "2025-01-13T10:20:22.024482Z"
    },
    "trusted": true
   },
   "outputs": [
    {
     "data": {
      "text/plain": [
       "array([[0.04874307, 0.9338532 , 0.01740368]], dtype=float32)"
      ]
     },
     "execution_count": 36,
     "metadata": {},
     "output_type": "execute_result"
    }
   ],
   "source": [
    "y_pred_corr"
   ]
  },
  {
   "cell_type": "code",
   "execution_count": 37,
   "metadata": {
    "execution": {
     "iopub.execute_input": "2025-01-13T10:20:38.704341Z",
     "iopub.status.busy": "2025-01-13T10:20:38.704026Z",
     "iopub.status.idle": "2025-01-13T10:20:38.767274Z",
     "shell.execute_reply": "2025-01-13T10:20:38.766593Z",
     "shell.execute_reply.started": "2025-01-13T10:20:38.704316Z"
    },
    "trusted": true
   },
   "outputs": [
    {
     "name": "stdout",
     "output_type": "stream",
     "text": [
      "\u001b[1m1/1\u001b[0m \u001b[32m━━━━━━━━━━━━━━━━━━━━\u001b[0m\u001b[37m\u001b[0m \u001b[1m0s\u001b[0m 20ms/step\n"
     ]
    },
    {
     "data": {
      "text/plain": [
       "array([[1.8390043e-03, 9.9795651e-01, 2.0455774e-04]], dtype=float32)"
      ]
     },
     "execution_count": 37,
     "metadata": {},
     "output_type": "execute_result"
    }
   ],
   "source": [
    "model.predict(np.expand_dims(blue_image, 0))"
   ]
  },
  {
   "cell_type": "code",
   "execution_count": null,
   "metadata": {
    "trusted": true
   },
   "outputs": [],
   "source": []
  }
 ],
 "metadata": {
  "kaggle": {
   "accelerator": "gpu",
   "dataSources": [],
   "dockerImageVersionId": 30823,
   "isGpuEnabled": true,
   "isInternetEnabled": true,
   "language": "python",
   "sourceType": "notebook"
  },
  "kernelspec": {
   "display_name": "env",
   "language": "python",
   "name": "python3"
  },
  "language_info": {
   "codemirror_mode": {
    "name": "ipython",
    "version": 3
   },
   "file_extension": ".py",
   "mimetype": "text/x-python",
   "name": "python",
   "nbconvert_exporter": "python",
   "pygments_lexer": "ipython3",
   "version": "3.10.14"
  }
 },
 "nbformat": 4,
 "nbformat_minor": 4
}
