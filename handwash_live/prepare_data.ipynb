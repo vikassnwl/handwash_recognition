{
 "cells": [
  {
   "cell_type": "code",
   "execution_count": 15,
   "metadata": {},
   "outputs": [],
   "source": [
    "import os\n",
    "from mlu_tools.validation import validate_file\n",
    "from sklearn.model_selection import train_test_split\n",
    "import mlu_tools.utils as mlutils\n",
    "import shutil"
   ]
  },
  {
   "cell_type": "code",
   "execution_count": 7,
   "metadata": {},
   "outputs": [
    {
     "data": {
      "text/plain": [
       "True"
      ]
     },
     "execution_count": 7,
     "metadata": {},
     "output_type": "execute_result"
    }
   ],
   "source": [
    "collected_data_dir = \"collected_data\"\n",
    "os.path.exists(collected_data_dir)"
   ]
  },
  {
   "cell_type": "code",
   "execution_count": 8,
   "metadata": {},
   "outputs": [],
   "source": [
    "def get_filepath_list(directory, for_class, type=\"vid\"):\n",
    "    filepath_list = []\n",
    "    for root, dirs, files in os.walk(directory):\n",
    "        if files and os.path.basename(root) == for_class:\n",
    "            for file in files:\n",
    "                filepath = os.path.join(root, file)\n",
    "                if validate_file(filepath, raise_exception=False, valid_types=[type]):\n",
    "                    filepath_list.append(filepath)\n",
    "    return filepath_list"
   ]
  },
  {
   "cell_type": "code",
   "execution_count": 9,
   "metadata": {},
   "outputs": [],
   "source": [
    "filepath_list = get_filepath_list(collected_data_dir, for_class=\"0\")"
   ]
  },
  {
   "cell_type": "code",
   "execution_count": 10,
   "metadata": {},
   "outputs": [
    {
     "data": {
      "text/plain": [
       "12"
      ]
     },
     "execution_count": 10,
     "metadata": {},
     "output_type": "execute_result"
    }
   ],
   "source": [
    "len(filepath_list)"
   ]
  },
  {
   "cell_type": "code",
   "execution_count": 11,
   "metadata": {},
   "outputs": [],
   "source": [
    "collected_dataset = {\"train\": [], \"val\": [], \"test\": []}\n",
    "for i in range(3):\n",
    "    train_set = []\n",
    "    val_set = []\n",
    "    test_set = []\n",
    "    filepath_list = get_filepath_list(collected_data_dir, for_class=str(i))\n",
    "    X_train, X_test = train_test_split(filepath_list, random_state=42, test_size=.3)\n",
    "    X_val, X_test = train_test_split(X_test, random_state=42, test_size=.5)\n",
    "    collected_dataset[\"train\"].append(X_train)\n",
    "    collected_dataset[\"val\"].append(X_val)\n",
    "    collected_dataset[\"test\"].append(X_test)"
   ]
  },
  {
   "cell_type": "code",
   "execution_count": 3,
   "metadata": {},
   "outputs": [
    {
     "name": "stderr",
     "output_type": "stream",
     "text": [
      "100%|██████████| 340M/340M [04:00<00:00, 1.41MiB/s] \n"
     ]
    },
    {
     "name": "stdout",
     "output_type": "stream",
     "text": [
      "File downloaded: dataset_sm_manual_split.zip\n"
     ]
    }
   ],
   "source": [
    "# Downloading previous dataset\n",
    "previous_dataset_url = \"https://mega.nz/file/vzRgwI5b#MgofnS2OXEJGAJ3cXboGNqqhMOO97jAoXXlpt_EzuhU\"\n",
    "previous_dataset_path = \"dataset_sm_manual_split.zip\"\n",
    "mlutils.download(previous_dataset_url, previous_dataset_path, download_from=\"mega\", force=True)"
   ]
  },
  {
   "cell_type": "code",
   "execution_count": 28,
   "metadata": {},
   "outputs": [
    {
     "name": "stdout",
     "output_type": "stream",
     "text": [
      "Archive unpacked to ./dataset_sm_manual_split\n"
     ]
    }
   ],
   "source": [
    "mlutils.unpack_archive(previous_dataset_path)"
   ]
  },
  {
   "cell_type": "code",
   "execution_count": 4,
   "metadata": {},
   "outputs": [],
   "source": [
    "previous_dataset_extracted_path = \"./dataset_sm_manual_split\""
   ]
  },
  {
   "cell_type": "code",
   "execution_count": 30,
   "metadata": {},
   "outputs": [
    {
     "data": {
      "text/plain": [
       "'dataset_merged'"
      ]
     },
     "execution_count": 30,
     "metadata": {},
     "output_type": "execute_result"
    }
   ],
   "source": [
    "merged_dataset_dir = \"dataset_merged\"\n",
    "shutil.copytree(previous_dataset_extracted_path, merged_dataset_dir)"
   ]
  },
  {
   "cell_type": "code",
   "execution_count": 31,
   "metadata": {},
   "outputs": [
    {
     "name": "stdout",
     "output_type": "stream",
     "text": [
      "└── dataset_sm_manual_split\n",
      "    └── videos\n",
      "        ├── test\n",
      "        │   ├── 0 - 6\n",
      "        │   ├── 1 - 7\n",
      "        │   └── 2 - 6\n",
      "        ├── train\n",
      "        │   ├── 0 - 12\n",
      "        │   ├── 1 - 11\n",
      "        │   └── 2 - 12\n",
      "        └── val\n",
      "            ├── 0 - 7\n",
      "            ├── 1 - 7\n",
      "            └── 2 - 7\n"
     ]
    }
   ],
   "source": [
    "mlutils.tree(previous_dataset_extracted_path)"
   ]
  },
  {
   "cell_type": "code",
   "execution_count": 34,
   "metadata": {},
   "outputs": [
    {
     "name": "stdout",
     "output_type": "stream",
     "text": [
      "└── collected_data\n",
      "    ├── with object and with sleeve\n",
      "    │   ├── with bucket\n",
      "    │   │   ├── 0 - 2\n",
      "    │   │   ├── 1 - 2\n",
      "    │   │   └── 2 - 2\n",
      "    │   └── without bucket\n",
      "    │       ├── 0 - 2\n",
      "    │       ├── 1 - 2\n",
      "    │       └── 2 - 2\n",
      "    ├── with object and without sleeve\n",
      "    │   ├── with bucket\n",
      "    │   │   ├── 0 - 2\n",
      "    │   │   ├── 1 - 2\n",
      "    │   │   └── 2 - 2\n",
      "    │   └── without bucket\n",
      "    │       ├── 0 - 2\n",
      "    │       ├── 1 - 2\n",
      "    │       └── 2 - 2\n",
      "    ├── without object and with sleeve\n",
      "    │   ├── 0 - 2\n",
      "    │   ├── 1 - 2\n",
      "    │   └── 2 - 2\n",
      "    └── without object and without sleeve\n",
      "        ├── 0 - 2\n",
      "        ├── 1 - 2\n",
      "        └── 2 - 2\n"
     ]
    }
   ],
   "source": [
    "mlutils.tree(collected_data_dir)"
   ]
  },
  {
   "cell_type": "code",
   "execution_count": 32,
   "metadata": {},
   "outputs": [],
   "source": [
    "for split_name in collected_dataset:  # split_name is one of the following string: \"train\", \"val\", \"test\"\n",
    "    for class_label, filepaths in enumerate(collected_dataset[split_name]):\n",
    "        for filepath in filepaths:\n",
    "            filename = os.path.basename(filepath)\n",
    "            shutil.copy(\n",
    "                filepath, \n",
    "                os.path.join(merged_dataset_dir, \"videos\", split_name, str(class_label))\n",
    "            )"
   ]
  },
  {
   "cell_type": "code",
   "execution_count": 33,
   "metadata": {},
   "outputs": [
    {
     "name": "stdout",
     "output_type": "stream",
     "text": [
      "└── dataset_merged\n",
      "    └── videos\n",
      "        ├── test\n",
      "        │   ├── 0 - 8\n",
      "        │   ├── 1 - 9\n",
      "        │   └── 2 - 8\n",
      "        ├── train\n",
      "        │   ├── 0 - 20\n",
      "        │   ├── 1 - 19\n",
      "        │   └── 2 - 20\n",
      "        └── val\n",
      "            ├── 0 - 9\n",
      "            ├── 1 - 9\n",
      "            └── 2 - 9\n"
     ]
    }
   ],
   "source": [
    "mlutils.tree(merged_dataset_dir)"
   ]
  },
  {
   "cell_type": "code",
   "execution_count": 40,
   "metadata": {},
   "outputs": [
    {
     "name": "stdout",
     "output_type": "stream",
     "text": [
      "  adding: dataset_merged/ (stored 0%)\n",
      "  adding: dataset_merged/videos/ (stored 0%)\n",
      "  adding: dataset_merged/videos/val/ (stored 0%)\n",
      "  adding: dataset_merged/videos/val/0/ (stored 0%)\n",
      "  adding: dataset_merged/videos/val/0/HandWash_024_A_12_G_05.mp4 (deflated 0%)\n",
      "  adding: dataset_merged/videos/val/0/20250125_144612.mp4 (deflated 1%)\n",
      "  adding: dataset_merged/videos/val/0/HandWash_022_A_11_G_05.mp4 (deflated 0%)\n",
      "  adding: dataset_merged/videos/val/0/20250125_141054.mp4 (deflated 1%)\n",
      "  adding: dataset_merged/videos/val/0/HandWash_008_A_11_G_01.mp4 (deflated 0%)\n",
      "  adding: dataset_merged/videos/val/0/HandWash_014_A_11_G_03.mp4 (deflated 0%)\n",
      "  adding: dataset_merged/videos/val/0/HandWash_011_A_12_G_02.mp4 (deflated 0%)\n",
      "  adding: dataset_merged/videos/val/0/HandWash_007_A_12_G_01.mp4 (deflated 0%)\n",
      "  adding: dataset_merged/videos/val/0/HandWash_016_A_11_G_04.mp4 (deflated 0%)\n",
      "  adding: dataset_merged/videos/val/1/ (stored 0%)\n",
      "  adding: dataset_merged/videos/val/1/HandWash_010_A_01_G02.mp4 (deflated 0%)\n",
      "  adding: dataset_merged/videos/val/1/20250125_141106.mp4 (deflated 1%)\n",
      "  adding: dataset_merged/videos/val/1/HandWash_017_A_01_G04.mp4 (deflated 0%)\n",
      "  adding: dataset_merged/videos/val/1/HandWash_006_A_01_G01.mp4 (deflated 0%)\n",
      "  adding: dataset_merged/videos/val/1/20250125_144525.mp4 (deflated 1%)\n",
      "  adding: dataset_merged/videos/val/1/HandWash_023_A_01_G05.mp4 (deflated 0%)\n",
      "  adding: dataset_merged/videos/val/1/HandWash_022_A_01_G05.mp4 (deflated 0%)\n",
      "  adding: dataset_merged/videos/val/1/HandWash_005_A_01_G01.mp4 (deflated 0%)\n",
      "  adding: dataset_merged/videos/val/1/HandWash_013_A_01_G03.mp4 (deflated 0%)\n",
      "  adding: dataset_merged/videos/val/2/ (stored 0%)\n",
      "  adding: dataset_merged/videos/val/2/HandWash_004_A_03_G_01.mp4 (deflated 0%)\n",
      "  adding: dataset_merged/videos/val/2/HandWash_021_A_02_G_05.mp4 (deflated 0%)\n",
      "  adding: dataset_merged/videos/val/2/20250125_144547.mp4 (deflated 1%)\n",
      "  adding: dataset_merged/videos/val/2/HandWash_024_A_03_G_05.mp4 (deflated 0%)\n",
      "  adding: dataset_merged/videos/val/2/HandWash_013_A_03_G_03.mp4 (deflated 0%)\n",
      "  adding: dataset_merged/videos/val/2/HandWash_011_A_02_G_02.mp4 (deflated 0%)\n",
      "  adding: dataset_merged/videos/val/2/HandWash_003_A_02_G_01.mp4 (deflated 0%)\n",
      "  adding: dataset_merged/videos/val/2/HandWash_017_A_02_G_04.mp4 (deflated 0%)\n",
      "  adding: dataset_merged/videos/val/2/20250125_141029.mp4 (deflated 1%)\n",
      "  adding: dataset_merged/videos/train/ (stored 0%)\n",
      "  adding: dataset_merged/videos/train/0/ (stored 0%)\n",
      "  adding: dataset_merged/videos/train/0/HandWash_003_A_11_G_01.mp4 (deflated 0%)\n",
      "  adding: dataset_merged/videos/train/0/HandWash_020_A_11_G_05.mp4 (deflated 0%)\n",
      "  adding: dataset_merged/videos/train/0/20250125_144137.mp4 (deflated 1%)\n",
      "  adding: dataset_merged/videos/train/0/HandWash_018_A_12_G_05.mp4 (deflated 0%)\n",
      "  adding: dataset_merged/videos/train/0/HandWash_005_A_11_G_01.mp4 (deflated 0%)\n",
      "  adding: dataset_merged/videos/train/0/20250125_142146.mp4 (deflated 1%)\n",
      "  adding: dataset_merged/videos/train/0/HandWash_019_A_11_G_05.mp4 (deflated 0%)\n",
      "  adding: dataset_merged/videos/train/0/HandWash_001_A_11_G_01.mp4 (deflated 0%)\n",
      "  adding: dataset_merged/videos/train/0/HandWash_013_A_12_G_03.mp4 (deflated 0%)\n",
      "  adding: dataset_merged/videos/train/0/20250125_144214.mp4 (deflated 1%)\n",
      "  adding: dataset_merged/videos/train/0/HandWash_001_A_12_G_01.mp4 (deflated 0%)\n",
      "  adding: dataset_merged/videos/train/0/20250125_144535.mp4 (deflated 1%)\n",
      "  adding: dataset_merged/videos/train/0/20250125_141041.mp4 (deflated 1%)\n",
      "  adding: dataset_merged/videos/train/0/HandWash_010_A_11_G_02.mp4 (deflated 0%)\n",
      "  adding: dataset_merged/videos/train/0/20250125_143015.mp4 (deflated 1%)\n",
      "  adding: dataset_merged/videos/train/0/HandWash_015_A_11_G_04.mp4 (deflated 0%)\n",
      "  adding: dataset_merged/videos/train/0/HandWash_002_A_12_G_01.mp4 (deflated 0%)\n",
      "  adding: dataset_merged/videos/train/0/20250125_143040.mp4 (deflated 1%)\n",
      "  adding: dataset_merged/videos/train/0/20250125_142348.mp4 (deflated 1%)\n",
      "  adding: dataset_merged/videos/train/0/HandWash_022_A_12_G_05.mp4 (deflated 0%)\n",
      "  adding: dataset_merged/videos/train/1/ (stored 0%)\n",
      "  adding: dataset_merged/videos/train/1/HandWash_004_A_01_G01.mp4 (deflated 0%)\n",
      "  adding: dataset_merged/videos/train/1/HandWash_020_A_01_G05.mp4 (deflated 0%)\n",
      "  adding: dataset_merged/videos/train/1/HandWash_021_A_01_G05.mp4 (deflated 0%)\n",
      "  adding: dataset_merged/videos/train/1/20250125_144624.mp4 (deflated 1%)\n",
      "  adding: dataset_merged/videos/train/1/20250125_143105.mp4 (deflated 1%)\n",
      "  adding: dataset_merged/videos/train/1/HandWash_002_A_01_G01.mp4 (deflated 0%)\n",
      "  adding: dataset_merged/videos/train/1/HandWash_019_A_01_G05.mp4 (deflated 0%)\n",
      "  adding: dataset_merged/videos/train/1/20250125_143003.mp4 (deflated 1%)\n",
      "  adding: dataset_merged/videos/train/1/20250125_144127.mp4 (deflated 1%)\n",
      "  adding: dataset_merged/videos/train/1/HandWash_003_A_01_G01.mp4 (deflated 0%)\n",
      "  adding: dataset_merged/videos/train/1/HandWash_001_A_01_G01.mp4 (deflated 0%)\n",
      "  adding: dataset_merged/videos/train/1/HandWash_012_A_01_G03.mp4 (deflated 0%)\n",
      "  adding: dataset_merged/videos/train/1/20250125_141740.mp4 (deflated 1%)\n",
      "  adding: dataset_merged/videos/train/1/20250125_142358.mp4 (deflated 1%)\n",
      "  adding: dataset_merged/videos/train/1/20250125_141019.mp4 (deflated 1%)\n",
      "  adding: dataset_merged/videos/train/1/HandWash_016_A_01_G04.mp4 (deflated 0%)\n",
      "  adding: dataset_merged/videos/train/1/HandWash_009_A_01_G02.mp4 (deflated 0%)\n",
      "  adding: dataset_merged/videos/train/1/20250125_144227.mp4 (deflated 1%)\n",
      "  adding: dataset_merged/videos/train/1/HandWash_018_A_01_G05.mp4 (deflated 0%)\n",
      "  adding: dataset_merged/videos/train/2/ (stored 0%)\n",
      "  adding: dataset_merged/videos/train/2/HandWash_019_A_03_G_05.mp4 (deflated 0%)\n",
      "  adding: dataset_merged/videos/train/2/20250125_142209.mp4 (deflated 1%)\n",
      "  adding: dataset_merged/videos/train/2/HandWash_018_A_02_G_05.mp4 (deflated 0%)\n",
      "  adding: dataset_merged/videos/train/2/HandWash_020_A_02_G_05.mp4 (deflated 0%)\n",
      "  adding: dataset_merged/videos/train/2/20250125_144149.mp4 (deflated 1%)\n",
      "  adding: dataset_merged/videos/train/2/HandWash_011_A_03_G_02.mp4 (deflated 0%)\n",
      "  adding: dataset_merged/videos/train/2/20250125_142156.mp4 (deflated 1%)\n",
      "  adding: dataset_merged/videos/train/2/HandWash_001_A_03_G_01.mp4 (deflated 0%)\n",
      "  adding: dataset_merged/videos/train/2/HandWash_013_A_02_G_03.mp4 (deflated 0%)\n",
      "  adding: dataset_merged/videos/train/2/20250125_143028.mp4 (deflated 1%)\n",
      "  adding: dataset_merged/videos/train/2/HandWash_002_A_02_G_01.mp4 (deflated 0%)\n",
      "  adding: dataset_merged/videos/train/2/HandWash_002_A_03_G_01.mp4 (deflated 0%)\n",
      "  adding: dataset_merged/videos/train/2/HandWash_001_A_02_G_01.mp4 (deflated 0%)\n",
      "  adding: dataset_merged/videos/train/2/20250125_143053.mp4 (deflated 1%)\n",
      "  adding: dataset_merged/videos/train/2/HandWash_015_A_03_G_04.mp4 (deflated 0%)\n",
      "  adding: dataset_merged/videos/train/2/HandWash_022_A_02_G_05.mp4 (deflated 0%)\n",
      "  adding: dataset_merged/videos/train/2/20250125_144239.mp4 (deflated 1%)\n",
      "  adding: dataset_merged/videos/train/2/HandWash_023_A_03_G_05.mp4 (deflated 0%)\n",
      "  adding: dataset_merged/videos/train/2/20250125_144600.mp4 (deflated 1%)\n",
      "  adding: dataset_merged/videos/train/2/20250125_141131.mp4 (deflated 1%)\n",
      "  adding: dataset_merged/videos/test/ (stored 0%)\n",
      "  adding: dataset_merged/videos/test/0/ (stored 0%)\n",
      "  adding: dataset_merged/videos/test/0/HandWash_006_A_11_G_01.mp4 (deflated 0%)\n",
      "  adding: dataset_merged/videos/test/0/20250125_143616.mp4 (deflated 1%)\n",
      "  adding: dataset_merged/videos/test/0/20250125_143653.mp4 (deflated 1%)\n",
      "  adding: dataset_merged/videos/test/0/HandWash_010_A_12_G_02.mp4 (deflated 0%)\n",
      "  adding: dataset_merged/videos/test/0/HandWash_013_A_11_G_03.mp4 (deflated 0%)\n",
      "  adding: dataset_merged/videos/test/0/HandWash_004_A_12_G_01.mp4 (deflated 0%)\n",
      "  adding: dataset_merged/videos/test/0/HandWash_025_A_12_G_05.mp4 (deflated 0%)\n",
      "  adding: dataset_merged/videos/test/0/HandWash_025_A_11_G_05.mp4 (deflated 0%)\n",
      "  adding: dataset_merged/videos/test/1/ (stored 0%)\n",
      "  adding: dataset_merged/videos/test/1/HandWash_008_A_01_G01.mp4 (deflated 0%)\n",
      "  adding: dataset_merged/videos/test/1/HandWash_011_A_01_G02.mp4 (deflated 0%)\n",
      "  adding: dataset_merged/videos/test/1/HandWash_015_A_01_G04.mp4 (deflated 0%)\n",
      "  adding: dataset_merged/videos/test/1/HandWash_024_A_01_G05.mp4 (deflated 0%)\n",
      "  adding: dataset_merged/videos/test/1/HandWash_014_A_01_G03.mp4 (deflated 0%)\n",
      "  adding: dataset_merged/videos/test/1/HandWash_007_A_01_G01.mp4 (deflated 0%)\n",
      "  adding: dataset_merged/videos/test/1/20250125_143606.mp4 (deflated 1%)\n",
      "  adding: dataset_merged/videos/test/1/20250125_143705.mp4 (deflated 1%)\n",
      "  adding: dataset_merged/videos/test/1/HandWash_025_A_01_G05.mp4 (deflated 0%)\n",
      "  adding: dataset_merged/videos/test/2/ (stored 0%)\n",
      "  adding: dataset_merged/videos/test/2/HandWash_023_A_02_G_05.mp4 (deflated 0%)\n",
      "  adding: dataset_merged/videos/test/2/HandWash_025_A_03_G_05.mp4 (deflated 0%)\n",
      "  adding: dataset_merged/videos/test/2/20250125_143641.mp4 (deflated 1%)\n",
      "  adding: dataset_merged/videos/test/2/HandWash_009_A_03_G_02.mp4 (deflated 0%)\n",
      "  adding: dataset_merged/videos/test/2/HandWash_006_A_03_G_01.mp4 (deflated 0%)\n",
      "  adding: dataset_merged/videos/test/2/20250125_143628.mp4 (deflated 1%)\n",
      "  adding: dataset_merged/videos/test/2/HandWash_014_A_02_G_03.mp4 (deflated 0%)\n",
      "  adding: dataset_merged/videos/test/2/HandWash_008_A_02_G_01.mp4 (deflated 0%)\n"
     ]
    }
   ],
   "source": [
    "!zip -r \"{merged_dataset_dir}.zip\" \"{merged_dataset_dir}\""
   ]
  },
  {
   "cell_type": "code",
   "execution_count": null,
   "metadata": {},
   "outputs": [],
   "source": []
  }
 ],
 "metadata": {
  "kernelspec": {
   "display_name": "env",
   "language": "python",
   "name": "python3"
  },
  "language_info": {
   "codemirror_mode": {
    "name": "ipython",
    "version": 3
   },
   "file_extension": ".py",
   "mimetype": "text/x-python",
   "name": "python",
   "nbconvert_exporter": "python",
   "pygments_lexer": "ipython3",
   "version": "3.10.14"
  }
 },
 "nbformat": 4,
 "nbformat_minor": 2
}
